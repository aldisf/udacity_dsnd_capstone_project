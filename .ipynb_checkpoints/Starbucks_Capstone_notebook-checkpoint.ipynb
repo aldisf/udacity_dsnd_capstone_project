{
 "cells": [
  {
   "cell_type": "code",
   "execution_count": 161,
   "metadata": {},
   "outputs": [],
   "source": [
    "import pandas as pd\n",
    "import numpy as np\n",
    "np.random.seed(42)\n",
    "\n",
    "import math\n",
    "import json\n",
    "import seaborn as sns; sns.set()\n",
    "sns.set_style('white')\n",
    "\n",
    "from datetime import datetime, timedelta\n",
    "from sklearn.tree import DecisionTreeClassifier\n",
    "from sklearn.model_selection import train_test_split, cross_val_score, GridSearchCV\n",
    "from sklearn.metrics import accuracy_score, precision_score, f1_score, recall_score, precision_recall_curve, classification_report, roc_auc_score\n",
    "\n",
    "import matplotlib.pyplot as plt\n",
    "%matplotlib inline\n",
    "\n",
    "import warnings\n",
    "warnings.filterwarnings('ignore')"
   ]
  },
  {
   "cell_type": "code",
   "execution_count": 162,
   "metadata": {},
   "outputs": [],
   "source": [
    "# read in the json files\n",
    "portfolio = pd.read_json('data/portfolio.json', orient='records', lines=True)\n",
    "profile = pd.read_json('data/profile.json', orient='records', lines=True)\n",
    "transcript = pd.read_json('data/transcript.json', orient='records', lines=True)"
   ]
  },
  {
   "cell_type": "markdown",
   "metadata": {},
   "source": [
    "# 1. EDA And Data Cleaning\n",
    "\n",
    "In this notebook, we will try to predict whether someone will respond to a particular offer, given the offer terms and conditions and the demographic characteristics of the person."
   ]
  },
  {
   "cell_type": "markdown",
   "metadata": {},
   "source": [
    "## 1.1 Portfolio"
   ]
  },
  {
   "cell_type": "code",
   "execution_count": 163,
   "metadata": {},
   "outputs": [
    {
     "data": {
      "text/html": [
       "<div>\n",
       "<style scoped>\n",
       "    .dataframe tbody tr th:only-of-type {\n",
       "        vertical-align: middle;\n",
       "    }\n",
       "\n",
       "    .dataframe tbody tr th {\n",
       "        vertical-align: top;\n",
       "    }\n",
       "\n",
       "    .dataframe thead th {\n",
       "        text-align: right;\n",
       "    }\n",
       "</style>\n",
       "<table border=\"1\" class=\"dataframe\">\n",
       "  <thead>\n",
       "    <tr style=\"text-align: right;\">\n",
       "      <th></th>\n",
       "      <th>channels</th>\n",
       "      <th>difficulty</th>\n",
       "      <th>duration</th>\n",
       "      <th>id</th>\n",
       "      <th>offer_type</th>\n",
       "      <th>reward</th>\n",
       "    </tr>\n",
       "  </thead>\n",
       "  <tbody>\n",
       "    <tr>\n",
       "      <th>0</th>\n",
       "      <td>[email, mobile, social]</td>\n",
       "      <td>10</td>\n",
       "      <td>7</td>\n",
       "      <td>ae264e3637204a6fb9bb56bc8210ddfd</td>\n",
       "      <td>bogo</td>\n",
       "      <td>10</td>\n",
       "    </tr>\n",
       "    <tr>\n",
       "      <th>1</th>\n",
       "      <td>[web, email, mobile, social]</td>\n",
       "      <td>10</td>\n",
       "      <td>5</td>\n",
       "      <td>4d5c57ea9a6940dd891ad53e9dbe8da0</td>\n",
       "      <td>bogo</td>\n",
       "      <td>10</td>\n",
       "    </tr>\n",
       "    <tr>\n",
       "      <th>2</th>\n",
       "      <td>[web, email, mobile]</td>\n",
       "      <td>0</td>\n",
       "      <td>4</td>\n",
       "      <td>3f207df678b143eea3cee63160fa8bed</td>\n",
       "      <td>informational</td>\n",
       "      <td>0</td>\n",
       "    </tr>\n",
       "    <tr>\n",
       "      <th>3</th>\n",
       "      <td>[web, email, mobile]</td>\n",
       "      <td>5</td>\n",
       "      <td>7</td>\n",
       "      <td>9b98b8c7a33c4b65b9aebfe6a799e6d9</td>\n",
       "      <td>bogo</td>\n",
       "      <td>5</td>\n",
       "    </tr>\n",
       "    <tr>\n",
       "      <th>4</th>\n",
       "      <td>[web, email]</td>\n",
       "      <td>20</td>\n",
       "      <td>10</td>\n",
       "      <td>0b1e1539f2cc45b7b9fa7c272da2e1d7</td>\n",
       "      <td>discount</td>\n",
       "      <td>5</td>\n",
       "    </tr>\n",
       "  </tbody>\n",
       "</table>\n",
       "</div>"
      ],
      "text/plain": [
       "                       channels  difficulty  duration  \\\n",
       "0       [email, mobile, social]          10         7   \n",
       "1  [web, email, mobile, social]          10         5   \n",
       "2          [web, email, mobile]           0         4   \n",
       "3          [web, email, mobile]           5         7   \n",
       "4                  [web, email]          20        10   \n",
       "\n",
       "                                 id     offer_type  reward  \n",
       "0  ae264e3637204a6fb9bb56bc8210ddfd           bogo      10  \n",
       "1  4d5c57ea9a6940dd891ad53e9dbe8da0           bogo      10  \n",
       "2  3f207df678b143eea3cee63160fa8bed  informational       0  \n",
       "3  9b98b8c7a33c4b65b9aebfe6a799e6d9           bogo       5  \n",
       "4  0b1e1539f2cc45b7b9fa7c272da2e1d7       discount       5  "
      ]
     },
     "metadata": {},
     "output_type": "display_data"
    }
   ],
   "source": [
    "display(portfolio.head())"
   ]
  },
  {
   "cell_type": "markdown",
   "metadata": {},
   "source": [
    "We will transform the channels column by performing a one-hot encoding on the channel types."
   ]
  },
  {
   "cell_type": "code",
   "execution_count": 164,
   "metadata": {},
   "outputs": [],
   "source": [
    "portfolio['channels'] = portfolio['channels'].apply(lambda x: np.array(x))\n",
    "\n",
    "# Transform the channels\n",
    "for channel in ['email','web','mobile','social']:\n",
    "    portfolio['is_{}'.format(channel)] = portfolio['channels'].apply(lambda x: channel in x)\n",
    "    portfolio['is_{}'.format(channel)] = np.where(portfolio['is_{}'.format(channel)], 1, 0)\n",
    "portfolio = portfolio.drop(['channels'], axis=1)"
   ]
  },
  {
   "cell_type": "code",
   "execution_count": 165,
   "metadata": {},
   "outputs": [
    {
     "data": {
      "text/html": [
       "<div>\n",
       "<style scoped>\n",
       "    .dataframe tbody tr th:only-of-type {\n",
       "        vertical-align: middle;\n",
       "    }\n",
       "\n",
       "    .dataframe tbody tr th {\n",
       "        vertical-align: top;\n",
       "    }\n",
       "\n",
       "    .dataframe thead th {\n",
       "        text-align: right;\n",
       "    }\n",
       "</style>\n",
       "<table border=\"1\" class=\"dataframe\">\n",
       "  <thead>\n",
       "    <tr style=\"text-align: right;\">\n",
       "      <th></th>\n",
       "      <th>difficulty</th>\n",
       "      <th>duration</th>\n",
       "      <th>offer_id</th>\n",
       "      <th>offer_type</th>\n",
       "      <th>reward</th>\n",
       "      <th>is_email</th>\n",
       "      <th>is_web</th>\n",
       "      <th>is_mobile</th>\n",
       "      <th>is_social</th>\n",
       "    </tr>\n",
       "  </thead>\n",
       "  <tbody>\n",
       "    <tr>\n",
       "      <th>0</th>\n",
       "      <td>10</td>\n",
       "      <td>7</td>\n",
       "      <td>ae264e3637204a6fb9bb56bc8210ddfd</td>\n",
       "      <td>bogo</td>\n",
       "      <td>10</td>\n",
       "      <td>1</td>\n",
       "      <td>0</td>\n",
       "      <td>1</td>\n",
       "      <td>1</td>\n",
       "    </tr>\n",
       "    <tr>\n",
       "      <th>1</th>\n",
       "      <td>10</td>\n",
       "      <td>5</td>\n",
       "      <td>4d5c57ea9a6940dd891ad53e9dbe8da0</td>\n",
       "      <td>bogo</td>\n",
       "      <td>10</td>\n",
       "      <td>1</td>\n",
       "      <td>1</td>\n",
       "      <td>1</td>\n",
       "      <td>1</td>\n",
       "    </tr>\n",
       "    <tr>\n",
       "      <th>2</th>\n",
       "      <td>0</td>\n",
       "      <td>4</td>\n",
       "      <td>3f207df678b143eea3cee63160fa8bed</td>\n",
       "      <td>informational</td>\n",
       "      <td>0</td>\n",
       "      <td>1</td>\n",
       "      <td>1</td>\n",
       "      <td>1</td>\n",
       "      <td>0</td>\n",
       "    </tr>\n",
       "    <tr>\n",
       "      <th>3</th>\n",
       "      <td>5</td>\n",
       "      <td>7</td>\n",
       "      <td>9b98b8c7a33c4b65b9aebfe6a799e6d9</td>\n",
       "      <td>bogo</td>\n",
       "      <td>5</td>\n",
       "      <td>1</td>\n",
       "      <td>1</td>\n",
       "      <td>1</td>\n",
       "      <td>0</td>\n",
       "    </tr>\n",
       "    <tr>\n",
       "      <th>4</th>\n",
       "      <td>20</td>\n",
       "      <td>10</td>\n",
       "      <td>0b1e1539f2cc45b7b9fa7c272da2e1d7</td>\n",
       "      <td>discount</td>\n",
       "      <td>5</td>\n",
       "      <td>1</td>\n",
       "      <td>1</td>\n",
       "      <td>0</td>\n",
       "      <td>0</td>\n",
       "    </tr>\n",
       "  </tbody>\n",
       "</table>\n",
       "</div>"
      ],
      "text/plain": [
       "   difficulty  duration                          offer_id     offer_type  \\\n",
       "0          10         7  ae264e3637204a6fb9bb56bc8210ddfd           bogo   \n",
       "1          10         5  4d5c57ea9a6940dd891ad53e9dbe8da0           bogo   \n",
       "2           0         4  3f207df678b143eea3cee63160fa8bed  informational   \n",
       "3           5         7  9b98b8c7a33c4b65b9aebfe6a799e6d9           bogo   \n",
       "4          20        10  0b1e1539f2cc45b7b9fa7c272da2e1d7       discount   \n",
       "\n",
       "   reward  is_email  is_web  is_mobile  is_social  \n",
       "0      10         1       0          1          1  \n",
       "1      10         1       1          1          1  \n",
       "2       0         1       1          1          0  \n",
       "3       5         1       1          1          0  \n",
       "4       5         1       1          0          0  "
      ]
     },
     "metadata": {},
     "output_type": "display_data"
    }
   ],
   "source": [
    "# Rename id column to offer_id to standardize across different tables\n",
    "portfolio = portfolio.rename(columns={\n",
    "    'id' : 'offer_id'\n",
    "})\n",
    "\n",
    "display(portfolio.head())"
   ]
  },
  {
   "cell_type": "markdown",
   "metadata": {},
   "source": [
    "## 1.2 Profile"
   ]
  },
  {
   "cell_type": "code",
   "execution_count": 166,
   "metadata": {},
   "outputs": [
    {
     "data": {
      "text/html": [
       "<div>\n",
       "<style scoped>\n",
       "    .dataframe tbody tr th:only-of-type {\n",
       "        vertical-align: middle;\n",
       "    }\n",
       "\n",
       "    .dataframe tbody tr th {\n",
       "        vertical-align: top;\n",
       "    }\n",
       "\n",
       "    .dataframe thead th {\n",
       "        text-align: right;\n",
       "    }\n",
       "</style>\n",
       "<table border=\"1\" class=\"dataframe\">\n",
       "  <thead>\n",
       "    <tr style=\"text-align: right;\">\n",
       "      <th></th>\n",
       "      <th>age</th>\n",
       "      <th>became_member_on</th>\n",
       "      <th>gender</th>\n",
       "      <th>id</th>\n",
       "      <th>income</th>\n",
       "    </tr>\n",
       "  </thead>\n",
       "  <tbody>\n",
       "    <tr>\n",
       "      <th>0</th>\n",
       "      <td>118</td>\n",
       "      <td>20170212</td>\n",
       "      <td>None</td>\n",
       "      <td>68be06ca386d4c31939f3a4f0e3dd783</td>\n",
       "      <td>NaN</td>\n",
       "    </tr>\n",
       "    <tr>\n",
       "      <th>1</th>\n",
       "      <td>55</td>\n",
       "      <td>20170715</td>\n",
       "      <td>F</td>\n",
       "      <td>0610b486422d4921ae7d2bf64640c50b</td>\n",
       "      <td>112000.0</td>\n",
       "    </tr>\n",
       "    <tr>\n",
       "      <th>2</th>\n",
       "      <td>118</td>\n",
       "      <td>20180712</td>\n",
       "      <td>None</td>\n",
       "      <td>38fe809add3b4fcf9315a9694bb96ff5</td>\n",
       "      <td>NaN</td>\n",
       "    </tr>\n",
       "    <tr>\n",
       "      <th>3</th>\n",
       "      <td>75</td>\n",
       "      <td>20170509</td>\n",
       "      <td>F</td>\n",
       "      <td>78afa995795e4d85b5d9ceeca43f5fef</td>\n",
       "      <td>100000.0</td>\n",
       "    </tr>\n",
       "    <tr>\n",
       "      <th>4</th>\n",
       "      <td>118</td>\n",
       "      <td>20170804</td>\n",
       "      <td>None</td>\n",
       "      <td>a03223e636434f42ac4c3df47e8bac43</td>\n",
       "      <td>NaN</td>\n",
       "    </tr>\n",
       "  </tbody>\n",
       "</table>\n",
       "</div>"
      ],
      "text/plain": [
       "   age  became_member_on gender                                id    income\n",
       "0  118          20170212   None  68be06ca386d4c31939f3a4f0e3dd783       NaN\n",
       "1   55          20170715      F  0610b486422d4921ae7d2bf64640c50b  112000.0\n",
       "2  118          20180712   None  38fe809add3b4fcf9315a9694bb96ff5       NaN\n",
       "3   75          20170509      F  78afa995795e4d85b5d9ceeca43f5fef  100000.0\n",
       "4  118          20170804   None  a03223e636434f42ac4c3df47e8bac43       NaN"
      ]
     },
     "execution_count": 166,
     "metadata": {},
     "output_type": "execute_result"
    }
   ],
   "source": [
    "profile.head()"
   ]
  },
  {
   "cell_type": "markdown",
   "metadata": {},
   "source": [
    "A quick glance on the data shows several anomalies: \n",
    "\n",
    "1. Age column seems to have multiple occurences of the value `118` - Initial hypothesis will be that this value is used to encode the missing values. \n",
    "2. There are missing values in the `became_member_on` and `income` columns"
   ]
  },
  {
   "cell_type": "markdown",
   "metadata": {},
   "source": [
    "### 1.2.1 Age"
   ]
  },
  {
   "cell_type": "code",
   "execution_count": 167,
   "metadata": {},
   "outputs": [
    {
     "data": {
      "image/png": "[encoded data removed]",
      "text/plain": [
       "<Figure size 432x288 with 1 Axes>"
      ]
     },
     "metadata": {},
     "output_type": "display_data"
    }
   ],
   "source": [
    "plt.figure()\n",
    "plt.title('Distribution of User\\'s Age')\n",
    "sns.distplot(profile['age'])\n",
    "plt.show()"
   ]
  },
  {
   "cell_type": "markdown",
   "metadata": {},
   "source": [
    "After the distribution has been drawn for age, it seems like 118 is indeed used to encode a missing age as there are abnormally high occurences of it. It will be treated as `np.NaN` instead for now."
   ]
  },
  {
   "cell_type": "code",
   "execution_count": 168,
   "metadata": {},
   "outputs": [
    {
     "data": {
      "image/png": "[encoded data removed]",
      "text/plain": [
       "<Figure size 432x288 with 1 Axes>"
      ]
     },
     "metadata": {},
     "output_type": "display_data"
    }
   ],
   "source": [
    "# Replace with np.NaN\n",
    "profile['age'] = profile['age'].replace(118, np.NaN)\n",
    "\n",
    "plt.figure()\n",
    "plt.title('Distribution of User\\'s Age')\n",
    "sns.distplot(profile['age'].dropna())\n",
    "plt.show()"
   ]
  },
  {
   "cell_type": "markdown",
   "metadata": {},
   "source": [
    "Re-drawing the distribution with the missing values yields the graph above. It looks like the age of the customer's base is somewhat centered around 50-70 years old."
   ]
  },
  {
   "cell_type": "markdown",
   "metadata": {},
   "source": [
    "### 1.2.2 Income"
   ]
  },
  {
   "cell_type": "code",
   "execution_count": 169,
   "metadata": {},
   "outputs": [
    {
     "data": {
      "image/png": "[encoded data removed]",
      "text/plain": [
       "<Figure size 432x288 with 1 Axes>"
      ]
     },
     "metadata": {},
     "output_type": "display_data"
    }
   ],
   "source": [
    "plt.figure()\n",
    "plt.title('Distribution of User\\'s Income')\n",
    "sns.distplot(profile['income'].dropna())\n",
    "plt.show()"
   ]
  },
  {
   "cell_type": "markdown",
   "metadata": {},
   "source": [
    "It does not seem that there are anomalous values for the income. The slight peaks in the distribution is most probably caused by people rounding up/down their income values when they report the income in the app."
   ]
  },
  {
   "cell_type": "markdown",
   "metadata": {},
   "source": [
    "### 1.2.3 Missing Data\n",
    "\n",
    "In this section, we will deal with the missing data in the profile table. "
   ]
  },
  {
   "cell_type": "code",
   "execution_count": 170,
   "metadata": {},
   "outputs": [
    {
     "data": {
      "text/html": [
       "<div>\n",
       "<style scoped>\n",
       "    .dataframe tbody tr th:only-of-type {\n",
       "        vertical-align: middle;\n",
       "    }\n",
       "\n",
       "    .dataframe tbody tr th {\n",
       "        vertical-align: top;\n",
       "    }\n",
       "\n",
       "    .dataframe thead th {\n",
       "        text-align: right;\n",
       "    }\n",
       "</style>\n",
       "<table border=\"1\" class=\"dataframe\">\n",
       "  <thead>\n",
       "    <tr style=\"text-align: right;\">\n",
       "      <th></th>\n",
       "      <th>age</th>\n",
       "      <th>became_member_on</th>\n",
       "      <th>gender</th>\n",
       "      <th>id</th>\n",
       "      <th>income</th>\n",
       "    </tr>\n",
       "  </thead>\n",
       "  <tbody>\n",
       "    <tr>\n",
       "      <th>0</th>\n",
       "      <td>NaN</td>\n",
       "      <td>20170212</td>\n",
       "      <td>None</td>\n",
       "      <td>68be06ca386d4c31939f3a4f0e3dd783</td>\n",
       "      <td>NaN</td>\n",
       "    </tr>\n",
       "    <tr>\n",
       "      <th>1</th>\n",
       "      <td>55.0</td>\n",
       "      <td>20170715</td>\n",
       "      <td>F</td>\n",
       "      <td>0610b486422d4921ae7d2bf64640c50b</td>\n",
       "      <td>112000.0</td>\n",
       "    </tr>\n",
       "    <tr>\n",
       "      <th>2</th>\n",
       "      <td>NaN</td>\n",
       "      <td>20180712</td>\n",
       "      <td>None</td>\n",
       "      <td>38fe809add3b4fcf9315a9694bb96ff5</td>\n",
       "      <td>NaN</td>\n",
       "    </tr>\n",
       "    <tr>\n",
       "      <th>3</th>\n",
       "      <td>75.0</td>\n",
       "      <td>20170509</td>\n",
       "      <td>F</td>\n",
       "      <td>78afa995795e4d85b5d9ceeca43f5fef</td>\n",
       "      <td>100000.0</td>\n",
       "    </tr>\n",
       "    <tr>\n",
       "      <th>4</th>\n",
       "      <td>NaN</td>\n",
       "      <td>20170804</td>\n",
       "      <td>None</td>\n",
       "      <td>a03223e636434f42ac4c3df47e8bac43</td>\n",
       "      <td>NaN</td>\n",
       "    </tr>\n",
       "  </tbody>\n",
       "</table>\n",
       "</div>"
      ],
      "text/plain": [
       "    age  became_member_on gender                                id    income\n",
       "0   NaN          20170212   None  68be06ca386d4c31939f3a4f0e3dd783       NaN\n",
       "1  55.0          20170715      F  0610b486422d4921ae7d2bf64640c50b  112000.0\n",
       "2   NaN          20180712   None  38fe809add3b4fcf9315a9694bb96ff5       NaN\n",
       "3  75.0          20170509      F  78afa995795e4d85b5d9ceeca43f5fef  100000.0\n",
       "4   NaN          20170804   None  a03223e636434f42ac4c3df47e8bac43       NaN"
      ]
     },
     "metadata": {},
     "output_type": "display_data"
    }
   ],
   "source": [
    "display(profile.head())"
   ]
  },
  {
   "cell_type": "markdown",
   "metadata": {},
   "source": [
    "Taking a quick glance at the head of the dataframe above, it seems that a user either have complete or no data, which will be verified in the section below:"
   ]
  },
  {
   "cell_type": "code",
   "execution_count": 171,
   "metadata": {},
   "outputs": [],
   "source": [
    "profile['row_missing_count'] = profile[['age', 'gender', 'income']].isnull().sum(axis=1)"
   ]
  },
  {
   "cell_type": "code",
   "execution_count": 172,
   "metadata": {},
   "outputs": [
    {
     "data": {
      "image/png": "[encoded data removed]",
      "text/plain": [
       "<Figure size 432x288 with 1 Axes>"
      ]
     },
     "metadata": {},
     "output_type": "display_data"
    }
   ],
   "source": [
    "plt.figure()\n",
    "plt.title('Distribution of Missing Values Per User')\n",
    "sns.countplot(profile['row_missing_count'])\n",
    "plt.show()"
   ]
  },
  {
   "cell_type": "markdown",
   "metadata": {},
   "source": [
    "The above hypothesis was verified. It looks like in the data, user either have complete data or all missing data. \n",
    "\n",
    "There are two choices in dealing with these users, either impute their values or drop them from the analysis altogether. \n",
    "\n",
    "Dropping them seems like a better option here as if we are to impute the data, these ~2k users will have the same value for all three columns (`age`, `gender`, `income`) and they will provide no additional information."
   ]
  },
  {
   "cell_type": "code",
   "execution_count": 173,
   "metadata": {},
   "outputs": [],
   "source": [
    "# Subset the users only to those with 0 missing values\n",
    "profile = profile[profile['row_missing_count'] == 0]"
   ]
  },
  {
   "cell_type": "code",
   "execution_count": 174,
   "metadata": {},
   "outputs": [],
   "source": [
    "# Rename the id column to standardize with other tables\n",
    "profile = profile.drop(['row_missing_count'], axis=1)\n",
    "\n",
    "profile = profile.rename(columns={\n",
    "    'id' : 'profile_id'\n",
    "})"
   ]
  },
  {
   "cell_type": "markdown",
   "metadata": {},
   "source": [
    "### 1.2.4 Gender"
   ]
  },
  {
   "cell_type": "code",
   "execution_count": 175,
   "metadata": {},
   "outputs": [
    {
     "data": {
      "image/png": "[encoded data removed]",
      "text/plain": [
       "<Figure size 432x288 with 1 Axes>"
      ]
     },
     "metadata": {},
     "output_type": "display_data"
    },
    {
     "data": {
      "text/plain": [
       "M    0.572277\n",
       "F    0.413423\n",
       "O    0.014300\n",
       "Name: gender, dtype: float64"
      ]
     },
     "metadata": {},
     "output_type": "display_data"
    }
   ],
   "source": [
    "plt.figure()\n",
    "plt.title('Distribution of User\\'s Gender')\n",
    "sns.countplot(profile['gender'].dropna())\n",
    "plt.show()\n",
    "\n",
    "display(profile['gender'].value_counts() / len(profile))"
   ]
  },
  {
   "cell_type": "markdown",
   "metadata": {},
   "source": [
    "Starbucks have more male customers (57%) compared to the female ones.\n",
    "\n",
    "Gender will then be one-hot encoded to the columns `M`, `F` and `O`."
   ]
  },
  {
   "cell_type": "code",
   "execution_count": 176,
   "metadata": {},
   "outputs": [],
   "source": [
    "gender_dummy_df = pd.get_dummies(profile['gender'])\n",
    "\n",
    "profile = profile.join(gender_dummy_df)\n",
    "\n",
    "profile = profile.drop(['gender'], axis=1)"
   ]
  },
  {
   "cell_type": "markdown",
   "metadata": {},
   "source": [
    "### 1.2.5 Tenure"
   ]
  },
  {
   "cell_type": "code",
   "execution_count": 177,
   "metadata": {},
   "outputs": [
    {
     "data": {
      "text/plain": [
       "1     20170715\n",
       "3     20170509\n",
       "5     20180426\n",
       "8     20180209\n",
       "12    20171111\n",
       "Name: became_member_on, dtype: int64"
      ]
     },
     "metadata": {},
     "output_type": "display_data"
    }
   ],
   "source": [
    "display(profile['became_member_on'].head())"
   ]
  },
  {
   "cell_type": "markdown",
   "metadata": {},
   "source": [
    "As shown above, the date when a user becomes a Starbucks member is stored in the format of `%Y%m%d `\n",
    "\n",
    "This column will be transformed into a feature representing tenure (ie. How long has someone been a Starbucks member). \n",
    "\n",
    "In doing so, a date in the future will be taken as a reference date, and the difference in days/months to the day the user became a member will be generated as the tenure.\n",
    "\n",
    "Selecting any date that is within a reasonable range from the latest user sign-up date should work in this case as the distance between user's sign-up dates is preserved. By reasonable range, it means that the base difference should not overwhelm the variance across user's sign-up values."
   ]
  },
  {
   "cell_type": "code",
   "execution_count": 178,
   "metadata": {},
   "outputs": [
    {
     "name": "stdout",
     "output_type": "stream",
     "text": [
      "Max user sign up date : 20180726\n"
     ]
    }
   ],
   "source": [
    "print('Max user sign up date :', profile['became_member_on'].max())"
   ]
  },
  {
   "cell_type": "markdown",
   "metadata": {},
   "source": [
    "Here we can see that the latest signup_date in the data is 26th July 2018. We will proceed to use 1st January 2019 as the reference date to calculate user's tenure as the number of days that has passed between user's sign up to 1st January 2019."
   ]
  },
  {
   "cell_type": "code",
   "execution_count": 179,
   "metadata": {},
   "outputs": [],
   "source": [
    "profile['ref_date'] = '20190101'"
   ]
  },
  {
   "cell_type": "code",
   "execution_count": 180,
   "metadata": {},
   "outputs": [],
   "source": [
    "profile['became_member_on'] = profile['became_member_on'].astype(str)\n",
    "profile['became_member_on'] = pd.to_datetime(profile['became_member_on'])\n",
    "profile['ref_date'] = pd.to_datetime(profile['ref_date'])"
   ]
  },
  {
   "cell_type": "code",
   "execution_count": 181,
   "metadata": {},
   "outputs": [],
   "source": [
    "profile['tenure'] = profile['ref_date'] - profile['became_member_on']\n",
    "profile['tenure'] = profile['tenure'].astype('timedelta64[D]')"
   ]
  },
  {
   "cell_type": "code",
   "execution_count": 182,
   "metadata": {},
   "outputs": [
    {
     "data": {
      "image/png": "[encoded data removed]",
      "text/plain": [
       "<Figure size 432x288 with 1 Axes>"
      ]
     },
     "metadata": {},
     "output_type": "display_data"
    }
   ],
   "source": [
    "plt.figure()\n",
    "plt.title('Distribution of User\\'s Tenure (Days)')\n",
    "sns.distplot(profile['tenure'])\n",
    "plt.show()"
   ]
  },
  {
   "cell_type": "code",
   "execution_count": 183,
   "metadata": {},
   "outputs": [],
   "source": [
    "# Drop the original column and the reference date helper column\n",
    "profile = profile.drop(['became_member_on', 'ref_date'], axis=1)"
   ]
  },
  {
   "cell_type": "code",
   "execution_count": 184,
   "metadata": {},
   "outputs": [
    {
     "data": {
      "text/html": [
       "<div>\n",
       "<style scoped>\n",
       "    .dataframe tbody tr th:only-of-type {\n",
       "        vertical-align: middle;\n",
       "    }\n",
       "\n",
       "    .dataframe tbody tr th {\n",
       "        vertical-align: top;\n",
       "    }\n",
       "\n",
       "    .dataframe thead th {\n",
       "        text-align: right;\n",
       "    }\n",
       "</style>\n",
       "<table border=\"1\" class=\"dataframe\">\n",
       "  <thead>\n",
       "    <tr style=\"text-align: right;\">\n",
       "      <th></th>\n",
       "      <th>age</th>\n",
       "      <th>profile_id</th>\n",
       "      <th>income</th>\n",
       "      <th>F</th>\n",
       "      <th>M</th>\n",
       "      <th>O</th>\n",
       "      <th>tenure</th>\n",
       "    </tr>\n",
       "  </thead>\n",
       "  <tbody>\n",
       "    <tr>\n",
       "      <th>1</th>\n",
       "      <td>55.0</td>\n",
       "      <td>0610b486422d4921ae7d2bf64640c50b</td>\n",
       "      <td>112000.0</td>\n",
       "      <td>1</td>\n",
       "      <td>0</td>\n",
       "      <td>0</td>\n",
       "      <td>535.0</td>\n",
       "    </tr>\n",
       "    <tr>\n",
       "      <th>3</th>\n",
       "      <td>75.0</td>\n",
       "      <td>78afa995795e4d85b5d9ceeca43f5fef</td>\n",
       "      <td>100000.0</td>\n",
       "      <td>1</td>\n",
       "      <td>0</td>\n",
       "      <td>0</td>\n",
       "      <td>602.0</td>\n",
       "    </tr>\n",
       "    <tr>\n",
       "      <th>5</th>\n",
       "      <td>68.0</td>\n",
       "      <td>e2127556f4f64592b11af22de27a7932</td>\n",
       "      <td>70000.0</td>\n",
       "      <td>0</td>\n",
       "      <td>1</td>\n",
       "      <td>0</td>\n",
       "      <td>250.0</td>\n",
       "    </tr>\n",
       "    <tr>\n",
       "      <th>8</th>\n",
       "      <td>65.0</td>\n",
       "      <td>389bc3fa690240e798340f5a15918d5c</td>\n",
       "      <td>53000.0</td>\n",
       "      <td>0</td>\n",
       "      <td>1</td>\n",
       "      <td>0</td>\n",
       "      <td>326.0</td>\n",
       "    </tr>\n",
       "    <tr>\n",
       "      <th>12</th>\n",
       "      <td>58.0</td>\n",
       "      <td>2eeac8d8feae4a8cad5a6af0499a211d</td>\n",
       "      <td>51000.0</td>\n",
       "      <td>0</td>\n",
       "      <td>1</td>\n",
       "      <td>0</td>\n",
       "      <td>416.0</td>\n",
       "    </tr>\n",
       "  </tbody>\n",
       "</table>\n",
       "</div>"
      ],
      "text/plain": [
       "     age                        profile_id    income  F  M  O  tenure\n",
       "1   55.0  0610b486422d4921ae7d2bf64640c50b  112000.0  1  0  0   535.0\n",
       "3   75.0  78afa995795e4d85b5d9ceeca43f5fef  100000.0  1  0  0   602.0\n",
       "5   68.0  e2127556f4f64592b11af22de27a7932   70000.0  0  1  0   250.0\n",
       "8   65.0  389bc3fa690240e798340f5a15918d5c   53000.0  0  1  0   326.0\n",
       "12  58.0  2eeac8d8feae4a8cad5a6af0499a211d   51000.0  0  1  0   416.0"
      ]
     },
     "metadata": {},
     "output_type": "display_data"
    }
   ],
   "source": [
    "display(profile.head())"
   ]
  },
  {
   "cell_type": "markdown",
   "metadata": {},
   "source": [
    "## 1.3. Transcript"
   ]
  },
  {
   "cell_type": "code",
   "execution_count": 185,
   "metadata": {},
   "outputs": [
    {
     "data": {
      "text/html": [
       "<div>\n",
       "<style scoped>\n",
       "    .dataframe tbody tr th:only-of-type {\n",
       "        vertical-align: middle;\n",
       "    }\n",
       "\n",
       "    .dataframe tbody tr th {\n",
       "        vertical-align: top;\n",
       "    }\n",
       "\n",
       "    .dataframe thead th {\n",
       "        text-align: right;\n",
       "    }\n",
       "</style>\n",
       "<table border=\"1\" class=\"dataframe\">\n",
       "  <thead>\n",
       "    <tr style=\"text-align: right;\">\n",
       "      <th></th>\n",
       "      <th>event</th>\n",
       "      <th>person</th>\n",
       "      <th>time</th>\n",
       "      <th>value</th>\n",
       "    </tr>\n",
       "  </thead>\n",
       "  <tbody>\n",
       "    <tr>\n",
       "      <th>0</th>\n",
       "      <td>offer received</td>\n",
       "      <td>78afa995795e4d85b5d9ceeca43f5fef</td>\n",
       "      <td>0</td>\n",
       "      <td>{'offer id': '9b98b8c7a33c4b65b9aebfe6a799e6d9'}</td>\n",
       "    </tr>\n",
       "    <tr>\n",
       "      <th>1</th>\n",
       "      <td>offer received</td>\n",
       "      <td>a03223e636434f42ac4c3df47e8bac43</td>\n",
       "      <td>0</td>\n",
       "      <td>{'offer id': '0b1e1539f2cc45b7b9fa7c272da2e1d7'}</td>\n",
       "    </tr>\n",
       "    <tr>\n",
       "      <th>2</th>\n",
       "      <td>offer received</td>\n",
       "      <td>e2127556f4f64592b11af22de27a7932</td>\n",
       "      <td>0</td>\n",
       "      <td>{'offer id': '2906b810c7d4411798c6938adc9daaa5'}</td>\n",
       "    </tr>\n",
       "    <tr>\n",
       "      <th>3</th>\n",
       "      <td>offer received</td>\n",
       "      <td>8ec6ce2a7e7949b1bf142def7d0e0586</td>\n",
       "      <td>0</td>\n",
       "      <td>{'offer id': 'fafdcd668e3743c1bb461111dcafc2a4'}</td>\n",
       "    </tr>\n",
       "    <tr>\n",
       "      <th>4</th>\n",
       "      <td>offer received</td>\n",
       "      <td>68617ca6246f4fbc85e91a2a49552598</td>\n",
       "      <td>0</td>\n",
       "      <td>{'offer id': '4d5c57ea9a6940dd891ad53e9dbe8da0'}</td>\n",
       "    </tr>\n",
       "  </tbody>\n",
       "</table>\n",
       "</div>"
      ],
      "text/plain": [
       "            event                            person  time  \\\n",
       "0  offer received  78afa995795e4d85b5d9ceeca43f5fef     0   \n",
       "1  offer received  a03223e636434f42ac4c3df47e8bac43     0   \n",
       "2  offer received  e2127556f4f64592b11af22de27a7932     0   \n",
       "3  offer received  8ec6ce2a7e7949b1bf142def7d0e0586     0   \n",
       "4  offer received  68617ca6246f4fbc85e91a2a49552598     0   \n",
       "\n",
       "                                              value  \n",
       "0  {'offer id': '9b98b8c7a33c4b65b9aebfe6a799e6d9'}  \n",
       "1  {'offer id': '0b1e1539f2cc45b7b9fa7c272da2e1d7'}  \n",
       "2  {'offer id': '2906b810c7d4411798c6938adc9daaa5'}  \n",
       "3  {'offer id': 'fafdcd668e3743c1bb461111dcafc2a4'}  \n",
       "4  {'offer id': '4d5c57ea9a6940dd891ad53e9dbe8da0'}  "
      ]
     },
     "metadata": {},
     "output_type": "display_data"
    }
   ],
   "source": [
    "display(transcript.head())"
   ]
  },
  {
   "cell_type": "code",
   "execution_count": 186,
   "metadata": {},
   "outputs": [],
   "source": [
    "# Standardize the id to join with the profile table\n",
    "transcript = transcript.rename(columns={\n",
    "    'person' : 'profile_id'\n",
    "})"
   ]
  },
  {
   "cell_type": "code",
   "execution_count": 187,
   "metadata": {},
   "outputs": [
    {
     "name": "stdout",
     "output_type": "stream",
     "text": [
      "['offer received' 'offer viewed' 'transaction' 'offer completed']\n"
     ]
    }
   ],
   "source": [
    "print(transcript['event'].drop_duplicates().values)"
   ]
  },
  {
   "cell_type": "markdown",
   "metadata": {},
   "source": [
    "The event data is stored in a generic table where it records the user, time, and the metadata of the event. \n",
    "\n",
    "There are 4 possible events in the dataset: \n",
    "\n",
    "1. Offer Received\n",
    "2. Offer Viewed\n",
    "3. Offer Completed\n",
    "4. Transaction\n",
    "\n",
    "Subsets of dataframe containing each of these events will be explored to better understand the way to parse the metadata."
   ]
  },
  {
   "cell_type": "code",
   "execution_count": 188,
   "metadata": {},
   "outputs": [],
   "source": [
    "# Generate subsets of the main table based on the event type\n",
    "received_df = transcript[transcript['event'] == 'offer received']\n",
    "viewed_df = transcript[transcript['event'] == 'offer viewed']\n",
    "completed_df = transcript[transcript['event'] == 'offer completed']\n",
    "txn_df = transcript[transcript['event'] == 'transaction']"
   ]
  },
  {
   "cell_type": "markdown",
   "metadata": {},
   "source": [
    "### 1.3.1 Offer Received Event"
   ]
  },
  {
   "cell_type": "code",
   "execution_count": 189,
   "metadata": {},
   "outputs": [
    {
     "data": {
      "text/html": [
       "<div>\n",
       "<style scoped>\n",
       "    .dataframe tbody tr th:only-of-type {\n",
       "        vertical-align: middle;\n",
       "    }\n",
       "\n",
       "    .dataframe tbody tr th {\n",
       "        vertical-align: top;\n",
       "    }\n",
       "\n",
       "    .dataframe thead th {\n",
       "        text-align: right;\n",
       "    }\n",
       "</style>\n",
       "<table border=\"1\" class=\"dataframe\">\n",
       "  <thead>\n",
       "    <tr style=\"text-align: right;\">\n",
       "      <th></th>\n",
       "      <th>event</th>\n",
       "      <th>profile_id</th>\n",
       "      <th>time</th>\n",
       "      <th>value</th>\n",
       "    </tr>\n",
       "  </thead>\n",
       "  <tbody>\n",
       "    <tr>\n",
       "      <th>0</th>\n",
       "      <td>offer received</td>\n",
       "      <td>78afa995795e4d85b5d9ceeca43f5fef</td>\n",
       "      <td>0</td>\n",
       "      <td>{'offer id': '9b98b8c7a33c4b65b9aebfe6a799e6d9'}</td>\n",
       "    </tr>\n",
       "    <tr>\n",
       "      <th>1</th>\n",
       "      <td>offer received</td>\n",
       "      <td>a03223e636434f42ac4c3df47e8bac43</td>\n",
       "      <td>0</td>\n",
       "      <td>{'offer id': '0b1e1539f2cc45b7b9fa7c272da2e1d7'}</td>\n",
       "    </tr>\n",
       "    <tr>\n",
       "      <th>2</th>\n",
       "      <td>offer received</td>\n",
       "      <td>e2127556f4f64592b11af22de27a7932</td>\n",
       "      <td>0</td>\n",
       "      <td>{'offer id': '2906b810c7d4411798c6938adc9daaa5'}</td>\n",
       "    </tr>\n",
       "    <tr>\n",
       "      <th>3</th>\n",
       "      <td>offer received</td>\n",
       "      <td>8ec6ce2a7e7949b1bf142def7d0e0586</td>\n",
       "      <td>0</td>\n",
       "      <td>{'offer id': 'fafdcd668e3743c1bb461111dcafc2a4'}</td>\n",
       "    </tr>\n",
       "    <tr>\n",
       "      <th>4</th>\n",
       "      <td>offer received</td>\n",
       "      <td>68617ca6246f4fbc85e91a2a49552598</td>\n",
       "      <td>0</td>\n",
       "      <td>{'offer id': '4d5c57ea9a6940dd891ad53e9dbe8da0'}</td>\n",
       "    </tr>\n",
       "  </tbody>\n",
       "</table>\n",
       "</div>"
      ],
      "text/plain": [
       "            event                        profile_id  time  \\\n",
       "0  offer received  78afa995795e4d85b5d9ceeca43f5fef     0   \n",
       "1  offer received  a03223e636434f42ac4c3df47e8bac43     0   \n",
       "2  offer received  e2127556f4f64592b11af22de27a7932     0   \n",
       "3  offer received  8ec6ce2a7e7949b1bf142def7d0e0586     0   \n",
       "4  offer received  68617ca6246f4fbc85e91a2a49552598     0   \n",
       "\n",
       "                                              value  \n",
       "0  {'offer id': '9b98b8c7a33c4b65b9aebfe6a799e6d9'}  \n",
       "1  {'offer id': '0b1e1539f2cc45b7b9fa7c272da2e1d7'}  \n",
       "2  {'offer id': '2906b810c7d4411798c6938adc9daaa5'}  \n",
       "3  {'offer id': 'fafdcd668e3743c1bb461111dcafc2a4'}  \n",
       "4  {'offer id': '4d5c57ea9a6940dd891ad53e9dbe8da0'}  "
      ]
     },
     "metadata": {},
     "output_type": "display_data"
    }
   ],
   "source": [
    "display(received_df.head())"
   ]
  },
  {
   "cell_type": "markdown",
   "metadata": {},
   "source": [
    "Here, the `value` column stores the offer id of the particular offer. We will proceed to extract it into a column named `offer_id`, following the same notation we used for the `portfolio` table."
   ]
  },
  {
   "cell_type": "code",
   "execution_count": 190,
   "metadata": {},
   "outputs": [],
   "source": [
    "received_df['offer_id'] = received_df['value'].apply(lambda x: x['offer id'])"
   ]
  },
  {
   "cell_type": "markdown",
   "metadata": {},
   "source": [
    "We will also rename the `time` column as `received_time` to allow joining with the other events to get a complete journey view on a particular offer-person pair (i.e. to later be joined with view & complete event)"
   ]
  },
  {
   "cell_type": "code",
   "execution_count": 191,
   "metadata": {},
   "outputs": [],
   "source": [
    "received_df = received_df.rename(columns={\n",
    "    'time' : 'received_time'\n",
    "})\n",
    "\n",
    "received_df = received_df.drop(['event', 'value'], axis=1)"
   ]
  },
  {
   "cell_type": "markdown",
   "metadata": {},
   "source": [
    "As each offer has a validity period (ie. Expiry) captured in the `duration` column of the `portfolio` dataframe, we will join the `portfolio` table to obtain the said information. \n",
    "\n",
    "We will then create a column called `expiry_time` that marks the time (in hours) on which the validity of the offer will be deemed invalid."
   ]
  },
  {
   "cell_type": "code",
   "execution_count": 192,
   "metadata": {},
   "outputs": [],
   "source": [
    "received_df = received_df.merge(portfolio, on=['offer_id'])"
   ]
  },
  {
   "cell_type": "code",
   "execution_count": 193,
   "metadata": {},
   "outputs": [],
   "source": [
    "received_df['expiry_time'] = received_df['received_time'] + 24 * received_df['duration']\n",
    "received_df['expiry_time'] = received_df['expiry_time'].astype(int)"
   ]
  },
  {
   "cell_type": "code",
   "execution_count": 194,
   "metadata": {},
   "outputs": [
    {
     "data": {
      "text/html": [
       "<div>\n",
       "<style scoped>\n",
       "    .dataframe tbody tr th:only-of-type {\n",
       "        vertical-align: middle;\n",
       "    }\n",
       "\n",
       "    .dataframe tbody tr th {\n",
       "        vertical-align: top;\n",
       "    }\n",
       "\n",
       "    .dataframe thead th {\n",
       "        text-align: right;\n",
       "    }\n",
       "</style>\n",
       "<table border=\"1\" class=\"dataframe\">\n",
       "  <thead>\n",
       "    <tr style=\"text-align: right;\">\n",
       "      <th></th>\n",
       "      <th>profile_id</th>\n",
       "      <th>received_time</th>\n",
       "      <th>offer_id</th>\n",
       "      <th>difficulty</th>\n",
       "      <th>duration</th>\n",
       "      <th>offer_type</th>\n",
       "      <th>reward</th>\n",
       "      <th>is_email</th>\n",
       "      <th>is_web</th>\n",
       "      <th>is_mobile</th>\n",
       "      <th>is_social</th>\n",
       "      <th>expiry_time</th>\n",
       "    </tr>\n",
       "  </thead>\n",
       "  <tbody>\n",
       "    <tr>\n",
       "      <th>0</th>\n",
       "      <td>78afa995795e4d85b5d9ceeca43f5fef</td>\n",
       "      <td>0</td>\n",
       "      <td>9b98b8c7a33c4b65b9aebfe6a799e6d9</td>\n",
       "      <td>5</td>\n",
       "      <td>7</td>\n",
       "      <td>bogo</td>\n",
       "      <td>5</td>\n",
       "      <td>1</td>\n",
       "      <td>1</td>\n",
       "      <td>1</td>\n",
       "      <td>0</td>\n",
       "      <td>168</td>\n",
       "    </tr>\n",
       "    <tr>\n",
       "      <th>1</th>\n",
       "      <td>ebe7ef46ea6f4963a7dd49f501b26779</td>\n",
       "      <td>0</td>\n",
       "      <td>9b98b8c7a33c4b65b9aebfe6a799e6d9</td>\n",
       "      <td>5</td>\n",
       "      <td>7</td>\n",
       "      <td>bogo</td>\n",
       "      <td>5</td>\n",
       "      <td>1</td>\n",
       "      <td>1</td>\n",
       "      <td>1</td>\n",
       "      <td>0</td>\n",
       "      <td>168</td>\n",
       "    </tr>\n",
       "    <tr>\n",
       "      <th>2</th>\n",
       "      <td>f082d80f0aac47a99173ba8ef8fc1909</td>\n",
       "      <td>0</td>\n",
       "      <td>9b98b8c7a33c4b65b9aebfe6a799e6d9</td>\n",
       "      <td>5</td>\n",
       "      <td>7</td>\n",
       "      <td>bogo</td>\n",
       "      <td>5</td>\n",
       "      <td>1</td>\n",
       "      <td>1</td>\n",
       "      <td>1</td>\n",
       "      <td>0</td>\n",
       "      <td>168</td>\n",
       "    </tr>\n",
       "    <tr>\n",
       "      <th>3</th>\n",
       "      <td>c0d210398dee4a0895b24444a5fcd1d2</td>\n",
       "      <td>0</td>\n",
       "      <td>9b98b8c7a33c4b65b9aebfe6a799e6d9</td>\n",
       "      <td>5</td>\n",
       "      <td>7</td>\n",
       "      <td>bogo</td>\n",
       "      <td>5</td>\n",
       "      <td>1</td>\n",
       "      <td>1</td>\n",
       "      <td>1</td>\n",
       "      <td>0</td>\n",
       "      <td>168</td>\n",
       "    </tr>\n",
       "    <tr>\n",
       "      <th>4</th>\n",
       "      <td>57dd18ec5ddc46828afb81ec5977bef2</td>\n",
       "      <td>0</td>\n",
       "      <td>9b98b8c7a33c4b65b9aebfe6a799e6d9</td>\n",
       "      <td>5</td>\n",
       "      <td>7</td>\n",
       "      <td>bogo</td>\n",
       "      <td>5</td>\n",
       "      <td>1</td>\n",
       "      <td>1</td>\n",
       "      <td>1</td>\n",
       "      <td>0</td>\n",
       "      <td>168</td>\n",
       "    </tr>\n",
       "  </tbody>\n",
       "</table>\n",
       "</div>"
      ],
      "text/plain": [
       "                         profile_id  received_time  \\\n",
       "0  78afa995795e4d85b5d9ceeca43f5fef              0   \n",
       "1  ebe7ef46ea6f4963a7dd49f501b26779              0   \n",
       "2  f082d80f0aac47a99173ba8ef8fc1909              0   \n",
       "3  c0d210398dee4a0895b24444a5fcd1d2              0   \n",
       "4  57dd18ec5ddc46828afb81ec5977bef2              0   \n",
       "\n",
       "                           offer_id  difficulty  duration offer_type  reward  \\\n",
       "0  9b98b8c7a33c4b65b9aebfe6a799e6d9           5         7       bogo       5   \n",
       "1  9b98b8c7a33c4b65b9aebfe6a799e6d9           5         7       bogo       5   \n",
       "2  9b98b8c7a33c4b65b9aebfe6a799e6d9           5         7       bogo       5   \n",
       "3  9b98b8c7a33c4b65b9aebfe6a799e6d9           5         7       bogo       5   \n",
       "4  9b98b8c7a33c4b65b9aebfe6a799e6d9           5         7       bogo       5   \n",
       "\n",
       "   is_email  is_web  is_mobile  is_social  expiry_time  \n",
       "0         1       1          1          0          168  \n",
       "1         1       1          1          0          168  \n",
       "2         1       1          1          0          168  \n",
       "3         1       1          1          0          168  \n",
       "4         1       1          1          0          168  "
      ]
     },
     "metadata": {},
     "output_type": "display_data"
    }
   ],
   "source": [
    "display(received_df.head())"
   ]
  },
  {
   "cell_type": "markdown",
   "metadata": {},
   "source": [
    "### 1.3.2 Offer Viewed Event"
   ]
  },
  {
   "cell_type": "code",
   "execution_count": 195,
   "metadata": {},
   "outputs": [
    {
     "data": {
      "text/html": [
       "<div>\n",
       "<style scoped>\n",
       "    .dataframe tbody tr th:only-of-type {\n",
       "        vertical-align: middle;\n",
       "    }\n",
       "\n",
       "    .dataframe tbody tr th {\n",
       "        vertical-align: top;\n",
       "    }\n",
       "\n",
       "    .dataframe thead th {\n",
       "        text-align: right;\n",
       "    }\n",
       "</style>\n",
       "<table border=\"1\" class=\"dataframe\">\n",
       "  <thead>\n",
       "    <tr style=\"text-align: right;\">\n",
       "      <th></th>\n",
       "      <th>event</th>\n",
       "      <th>profile_id</th>\n",
       "      <th>time</th>\n",
       "      <th>value</th>\n",
       "    </tr>\n",
       "  </thead>\n",
       "  <tbody>\n",
       "    <tr>\n",
       "      <th>12650</th>\n",
       "      <td>offer viewed</td>\n",
       "      <td>389bc3fa690240e798340f5a15918d5c</td>\n",
       "      <td>0</td>\n",
       "      <td>{'offer id': 'f19421c1d4aa40978ebb69ca19b0e20d'}</td>\n",
       "    </tr>\n",
       "    <tr>\n",
       "      <th>12651</th>\n",
       "      <td>offer viewed</td>\n",
       "      <td>d1ede868e29245ea91818a903fec04c6</td>\n",
       "      <td>0</td>\n",
       "      <td>{'offer id': '5a8bc65990b245e5a138643cd4eb9837'}</td>\n",
       "    </tr>\n",
       "    <tr>\n",
       "      <th>12652</th>\n",
       "      <td>offer viewed</td>\n",
       "      <td>102e9454054946fda62242d2e176fdce</td>\n",
       "      <td>0</td>\n",
       "      <td>{'offer id': '4d5c57ea9a6940dd891ad53e9dbe8da0'}</td>\n",
       "    </tr>\n",
       "    <tr>\n",
       "      <th>12653</th>\n",
       "      <td>offer viewed</td>\n",
       "      <td>02c083884c7d45b39cc68e1314fec56c</td>\n",
       "      <td>0</td>\n",
       "      <td>{'offer id': 'ae264e3637204a6fb9bb56bc8210ddfd'}</td>\n",
       "    </tr>\n",
       "    <tr>\n",
       "      <th>12655</th>\n",
       "      <td>offer viewed</td>\n",
       "      <td>be8a5d1981a2458d90b255ddc7e0d174</td>\n",
       "      <td>0</td>\n",
       "      <td>{'offer id': '5a8bc65990b245e5a138643cd4eb9837'}</td>\n",
       "    </tr>\n",
       "  </tbody>\n",
       "</table>\n",
       "</div>"
      ],
      "text/plain": [
       "              event                        profile_id  time  \\\n",
       "12650  offer viewed  389bc3fa690240e798340f5a15918d5c     0   \n",
       "12651  offer viewed  d1ede868e29245ea91818a903fec04c6     0   \n",
       "12652  offer viewed  102e9454054946fda62242d2e176fdce     0   \n",
       "12653  offer viewed  02c083884c7d45b39cc68e1314fec56c     0   \n",
       "12655  offer viewed  be8a5d1981a2458d90b255ddc7e0d174     0   \n",
       "\n",
       "                                                  value  \n",
       "12650  {'offer id': 'f19421c1d4aa40978ebb69ca19b0e20d'}  \n",
       "12651  {'offer id': '5a8bc65990b245e5a138643cd4eb9837'}  \n",
       "12652  {'offer id': '4d5c57ea9a6940dd891ad53e9dbe8da0'}  \n",
       "12653  {'offer id': 'ae264e3637204a6fb9bb56bc8210ddfd'}  \n",
       "12655  {'offer id': '5a8bc65990b245e5a138643cd4eb9837'}  "
      ]
     },
     "metadata": {},
     "output_type": "display_data"
    }
   ],
   "source": [
    "display(viewed_df.head())"
   ]
  },
  {
   "cell_type": "markdown",
   "metadata": {},
   "source": [
    "Similar to the offer received event, the offer id her will be extracted using the `offer id` key."
   ]
  },
  {
   "cell_type": "code",
   "execution_count": 196,
   "metadata": {},
   "outputs": [],
   "source": [
    "viewed_df['offer_id'] = viewed_df['value'].apply(lambda x: x['offer id'])"
   ]
  },
  {
   "cell_type": "markdown",
   "metadata": {},
   "source": [
    "And `time` column will be renamed to `viewed_time`."
   ]
  },
  {
   "cell_type": "code",
   "execution_count": 197,
   "metadata": {},
   "outputs": [],
   "source": [
    "viewed_df = viewed_df.rename(columns={\n",
    "    'time' : 'viewed_time'\n",
    "})\n",
    "\n",
    "\n",
    "viewed_df['viewed_time'] = viewed_df['viewed_time'].astype(int)\n",
    "\n",
    "\n",
    "viewed_df = viewed_df.drop(['event', 'value'], axis=1)"
   ]
  },
  {
   "cell_type": "code",
   "execution_count": 198,
   "metadata": {},
   "outputs": [
    {
     "data": {
      "text/html": [
       "<div>\n",
       "<style scoped>\n",
       "    .dataframe tbody tr th:only-of-type {\n",
       "        vertical-align: middle;\n",
       "    }\n",
       "\n",
       "    .dataframe tbody tr th {\n",
       "        vertical-align: top;\n",
       "    }\n",
       "\n",
       "    .dataframe thead th {\n",
       "        text-align: right;\n",
       "    }\n",
       "</style>\n",
       "<table border=\"1\" class=\"dataframe\">\n",
       "  <thead>\n",
       "    <tr style=\"text-align: right;\">\n",
       "      <th></th>\n",
       "      <th>profile_id</th>\n",
       "      <th>viewed_time</th>\n",
       "      <th>offer_id</th>\n",
       "    </tr>\n",
       "  </thead>\n",
       "  <tbody>\n",
       "    <tr>\n",
       "      <th>12650</th>\n",
       "      <td>389bc3fa690240e798340f5a15918d5c</td>\n",
       "      <td>0</td>\n",
       "      <td>f19421c1d4aa40978ebb69ca19b0e20d</td>\n",
       "    </tr>\n",
       "    <tr>\n",
       "      <th>12651</th>\n",
       "      <td>d1ede868e29245ea91818a903fec04c6</td>\n",
       "      <td>0</td>\n",
       "      <td>5a8bc65990b245e5a138643cd4eb9837</td>\n",
       "    </tr>\n",
       "    <tr>\n",
       "      <th>12652</th>\n",
       "      <td>102e9454054946fda62242d2e176fdce</td>\n",
       "      <td>0</td>\n",
       "      <td>4d5c57ea9a6940dd891ad53e9dbe8da0</td>\n",
       "    </tr>\n",
       "    <tr>\n",
       "      <th>12653</th>\n",
       "      <td>02c083884c7d45b39cc68e1314fec56c</td>\n",
       "      <td>0</td>\n",
       "      <td>ae264e3637204a6fb9bb56bc8210ddfd</td>\n",
       "    </tr>\n",
       "    <tr>\n",
       "      <th>12655</th>\n",
       "      <td>be8a5d1981a2458d90b255ddc7e0d174</td>\n",
       "      <td>0</td>\n",
       "      <td>5a8bc65990b245e5a138643cd4eb9837</td>\n",
       "    </tr>\n",
       "  </tbody>\n",
       "</table>\n",
       "</div>"
      ],
      "text/plain": [
       "                             profile_id  viewed_time  \\\n",
       "12650  389bc3fa690240e798340f5a15918d5c            0   \n",
       "12651  d1ede868e29245ea91818a903fec04c6            0   \n",
       "12652  102e9454054946fda62242d2e176fdce            0   \n",
       "12653  02c083884c7d45b39cc68e1314fec56c            0   \n",
       "12655  be8a5d1981a2458d90b255ddc7e0d174            0   \n",
       "\n",
       "                               offer_id  \n",
       "12650  f19421c1d4aa40978ebb69ca19b0e20d  \n",
       "12651  5a8bc65990b245e5a138643cd4eb9837  \n",
       "12652  4d5c57ea9a6940dd891ad53e9dbe8da0  \n",
       "12653  ae264e3637204a6fb9bb56bc8210ddfd  \n",
       "12655  5a8bc65990b245e5a138643cd4eb9837  "
      ]
     },
     "metadata": {},
     "output_type": "display_data"
    }
   ],
   "source": [
    "display(viewed_df.head())"
   ]
  },
  {
   "cell_type": "markdown",
   "metadata": {},
   "source": [
    "### 1.3.3 Offer Completed Event"
   ]
  },
  {
   "cell_type": "code",
   "execution_count": 199,
   "metadata": {},
   "outputs": [
    {
     "data": {
      "text/html": [
       "<div>\n",
       "<style scoped>\n",
       "    .dataframe tbody tr th:only-of-type {\n",
       "        vertical-align: middle;\n",
       "    }\n",
       "\n",
       "    .dataframe tbody tr th {\n",
       "        vertical-align: top;\n",
       "    }\n",
       "\n",
       "    .dataframe thead th {\n",
       "        text-align: right;\n",
       "    }\n",
       "</style>\n",
       "<table border=\"1\" class=\"dataframe\">\n",
       "  <thead>\n",
       "    <tr style=\"text-align: right;\">\n",
       "      <th></th>\n",
       "      <th>event</th>\n",
       "      <th>profile_id</th>\n",
       "      <th>time</th>\n",
       "      <th>value</th>\n",
       "    </tr>\n",
       "  </thead>\n",
       "  <tbody>\n",
       "    <tr>\n",
       "      <th>12658</th>\n",
       "      <td>offer completed</td>\n",
       "      <td>9fa9ae8f57894cc9a3b8a9bbe0fc1b2f</td>\n",
       "      <td>0</td>\n",
       "      <td>{'offer_id': '2906b810c7d4411798c6938adc9daaa5...</td>\n",
       "    </tr>\n",
       "    <tr>\n",
       "      <th>12672</th>\n",
       "      <td>offer completed</td>\n",
       "      <td>fe97aa22dd3e48c8b143116a8403dd52</td>\n",
       "      <td>0</td>\n",
       "      <td>{'offer_id': 'fafdcd668e3743c1bb461111dcafc2a4...</td>\n",
       "    </tr>\n",
       "    <tr>\n",
       "      <th>12679</th>\n",
       "      <td>offer completed</td>\n",
       "      <td>629fc02d56414d91bca360decdfa9288</td>\n",
       "      <td>0</td>\n",
       "      <td>{'offer_id': '9b98b8c7a33c4b65b9aebfe6a799e6d9...</td>\n",
       "    </tr>\n",
       "    <tr>\n",
       "      <th>12692</th>\n",
       "      <td>offer completed</td>\n",
       "      <td>676506bad68e4161b9bbaffeb039626b</td>\n",
       "      <td>0</td>\n",
       "      <td>{'offer_id': 'ae264e3637204a6fb9bb56bc8210ddfd...</td>\n",
       "    </tr>\n",
       "    <tr>\n",
       "      <th>12697</th>\n",
       "      <td>offer completed</td>\n",
       "      <td>8f7dd3b2afe14c078eb4f6e6fe4ba97d</td>\n",
       "      <td>0</td>\n",
       "      <td>{'offer_id': '4d5c57ea9a6940dd891ad53e9dbe8da0...</td>\n",
       "    </tr>\n",
       "  </tbody>\n",
       "</table>\n",
       "</div>"
      ],
      "text/plain": [
       "                 event                        profile_id  time  \\\n",
       "12658  offer completed  9fa9ae8f57894cc9a3b8a9bbe0fc1b2f     0   \n",
       "12672  offer completed  fe97aa22dd3e48c8b143116a8403dd52     0   \n",
       "12679  offer completed  629fc02d56414d91bca360decdfa9288     0   \n",
       "12692  offer completed  676506bad68e4161b9bbaffeb039626b     0   \n",
       "12697  offer completed  8f7dd3b2afe14c078eb4f6e6fe4ba97d     0   \n",
       "\n",
       "                                                   value  \n",
       "12658  {'offer_id': '2906b810c7d4411798c6938adc9daaa5...  \n",
       "12672  {'offer_id': 'fafdcd668e3743c1bb461111dcafc2a4...  \n",
       "12679  {'offer_id': '9b98b8c7a33c4b65b9aebfe6a799e6d9...  \n",
       "12692  {'offer_id': 'ae264e3637204a6fb9bb56bc8210ddfd...  \n",
       "12697  {'offer_id': '4d5c57ea9a6940dd891ad53e9dbe8da0...  "
      ]
     },
     "metadata": {},
     "output_type": "display_data"
    }
   ],
   "source": [
    "display(completed_df.head())"
   ]
  },
  {
   "cell_type": "markdown",
   "metadata": {},
   "source": [
    "Here, we observe a slight difference in the key used to extract the offer id. Instead of `offer id` used previously, the key used here will be `offer_id`."
   ]
  },
  {
   "cell_type": "code",
   "execution_count": 200,
   "metadata": {},
   "outputs": [],
   "source": [
    "completed_df['offer_id'] = completed_df['value'].apply(lambda x: x['offer_id'])"
   ]
  },
  {
   "cell_type": "markdown",
   "metadata": {},
   "source": [
    "Rename `time` column to `completed_time`."
   ]
  },
  {
   "cell_type": "code",
   "execution_count": 201,
   "metadata": {},
   "outputs": [],
   "source": [
    "completed_df = completed_df.rename(columns={\n",
    "    'time' : 'completed_time'\n",
    "})\n",
    "\n",
    "\n",
    "completed_df['completed_time'] = completed_df['completed_time'].astype(int)\n",
    "\n",
    "\n",
    "completed_df = completed_df.drop(['event', 'value'], axis=1)"
   ]
  },
  {
   "cell_type": "code",
   "execution_count": 202,
   "metadata": {},
   "outputs": [
    {
     "data": {
      "text/html": [
       "<div>\n",
       "<style scoped>\n",
       "    .dataframe tbody tr th:only-of-type {\n",
       "        vertical-align: middle;\n",
       "    }\n",
       "\n",
       "    .dataframe tbody tr th {\n",
       "        vertical-align: top;\n",
       "    }\n",
       "\n",
       "    .dataframe thead th {\n",
       "        text-align: right;\n",
       "    }\n",
       "</style>\n",
       "<table border=\"1\" class=\"dataframe\">\n",
       "  <thead>\n",
       "    <tr style=\"text-align: right;\">\n",
       "      <th></th>\n",
       "      <th>profile_id</th>\n",
       "      <th>completed_time</th>\n",
       "      <th>offer_id</th>\n",
       "    </tr>\n",
       "  </thead>\n",
       "  <tbody>\n",
       "    <tr>\n",
       "      <th>12658</th>\n",
       "      <td>9fa9ae8f57894cc9a3b8a9bbe0fc1b2f</td>\n",
       "      <td>0</td>\n",
       "      <td>2906b810c7d4411798c6938adc9daaa5</td>\n",
       "    </tr>\n",
       "    <tr>\n",
       "      <th>12672</th>\n",
       "      <td>fe97aa22dd3e48c8b143116a8403dd52</td>\n",
       "      <td>0</td>\n",
       "      <td>fafdcd668e3743c1bb461111dcafc2a4</td>\n",
       "    </tr>\n",
       "    <tr>\n",
       "      <th>12679</th>\n",
       "      <td>629fc02d56414d91bca360decdfa9288</td>\n",
       "      <td>0</td>\n",
       "      <td>9b98b8c7a33c4b65b9aebfe6a799e6d9</td>\n",
       "    </tr>\n",
       "    <tr>\n",
       "      <th>12692</th>\n",
       "      <td>676506bad68e4161b9bbaffeb039626b</td>\n",
       "      <td>0</td>\n",
       "      <td>ae264e3637204a6fb9bb56bc8210ddfd</td>\n",
       "    </tr>\n",
       "    <tr>\n",
       "      <th>12697</th>\n",
       "      <td>8f7dd3b2afe14c078eb4f6e6fe4ba97d</td>\n",
       "      <td>0</td>\n",
       "      <td>4d5c57ea9a6940dd891ad53e9dbe8da0</td>\n",
       "    </tr>\n",
       "  </tbody>\n",
       "</table>\n",
       "</div>"
      ],
      "text/plain": [
       "                             profile_id  completed_time  \\\n",
       "12658  9fa9ae8f57894cc9a3b8a9bbe0fc1b2f               0   \n",
       "12672  fe97aa22dd3e48c8b143116a8403dd52               0   \n",
       "12679  629fc02d56414d91bca360decdfa9288               0   \n",
       "12692  676506bad68e4161b9bbaffeb039626b               0   \n",
       "12697  8f7dd3b2afe14c078eb4f6e6fe4ba97d               0   \n",
       "\n",
       "                               offer_id  \n",
       "12658  2906b810c7d4411798c6938adc9daaa5  \n",
       "12672  fafdcd668e3743c1bb461111dcafc2a4  \n",
       "12679  9b98b8c7a33c4b65b9aebfe6a799e6d9  \n",
       "12692  ae264e3637204a6fb9bb56bc8210ddfd  \n",
       "12697  4d5c57ea9a6940dd891ad53e9dbe8da0  "
      ]
     },
     "metadata": {},
     "output_type": "display_data"
    }
   ],
   "source": [
    "display(completed_df.head())"
   ]
  },
  {
   "cell_type": "markdown",
   "metadata": {},
   "source": [
    "### 1.3.4 Combining Received and Viewed Event"
   ]
  },
  {
   "cell_type": "markdown",
   "metadata": {},
   "source": [
    "In this section, we will be combining the `received` and `viewed` event of a particular offer sent to a person."
   ]
  },
  {
   "cell_type": "code",
   "execution_count": 203,
   "metadata": {},
   "outputs": [],
   "source": [
    "# Left join the received event and viewed event on profile_id and offer_id\n",
    "receive_and_view = received_df.merge(viewed_df, on=['profile_id', 'offer_id'], how='left')"
   ]
  },
  {
   "cell_type": "code",
   "execution_count": 204,
   "metadata": {},
   "outputs": [
    {
     "name": "stdout",
     "output_type": "stream",
     "text": [
      "Received and View row count: 95321\n",
      "Original Viewed event count: 57725\n"
     ]
    }
   ],
   "source": [
    "print('Received and View row count:', len(receive_and_view))\n",
    "print('Original Viewed event count:', len(viewed_df))"
   ]
  },
  {
   "cell_type": "markdown",
   "metadata": {},
   "source": [
    "There is a problem here that the joined table ended up having more row than the original view event table. This is most likely caused by a particular person receiving a same offer type more than once.\n",
    "\n",
    "We will establish the first logic that will be used, that \n",
    "\n",
    "`viewed_time` >= `received_time`\n",
    "\n",
    "to filter out some of the duplicate view assignment mentioned above."
   ]
  },
  {
   "cell_type": "code",
   "execution_count": 205,
   "metadata": {},
   "outputs": [],
   "source": [
    "receive_and_view = receive_and_view[\n",
    "    (receive_and_view['viewed_time'] >= receive_and_view['received_time'])\n",
    "]"
   ]
  },
  {
   "cell_type": "code",
   "execution_count": 206,
   "metadata": {},
   "outputs": [
    {
     "name": "stdout",
     "output_type": "stream",
     "text": [
      "Received and View row count: 68404\n",
      "Original Viewed event count: 57725\n"
     ]
    }
   ],
   "source": [
    "print('Received and View row count:', len(receive_and_view))\n",
    "print('Original Viewed event count:', len(viewed_df))"
   ]
  },
  {
   "cell_type": "markdown",
   "metadata": {},
   "source": [
    "There is an improvement, but some view events are still assigned to more than received event.\n",
    "\n",
    "In the following section, we will perform more filtering to ensure that there is a unique, one-to-one mapping between a view event and a received event, meaning: \n",
    "\n",
    "1. A view event can only be assigned to one received event \n",
    "2. A receive event can only have one view event assigned to it\n"
   ]
  },
  {
   "cell_type": "code",
   "execution_count": 207,
   "metadata": {},
   "outputs": [
    {
     "data": {
      "text/html": [
       "<div>\n",
       "<style scoped>\n",
       "    .dataframe tbody tr th:only-of-type {\n",
       "        vertical-align: middle;\n",
       "    }\n",
       "\n",
       "    .dataframe tbody tr th {\n",
       "        vertical-align: top;\n",
       "    }\n",
       "\n",
       "    .dataframe thead th {\n",
       "        text-align: right;\n",
       "    }\n",
       "</style>\n",
       "<table border=\"1\" class=\"dataframe\">\n",
       "  <thead>\n",
       "    <tr style=\"text-align: right;\">\n",
       "      <th></th>\n",
       "      <th>profile_id</th>\n",
       "      <th>offer_id</th>\n",
       "      <th>viewed_time</th>\n",
       "      <th>received_time</th>\n",
       "    </tr>\n",
       "  </thead>\n",
       "  <tbody>\n",
       "    <tr>\n",
       "      <th>53868</th>\n",
       "      <td>eece6a9a7bdd4ea1b0f812f34fc619d6</td>\n",
       "      <td>5a8bc65990b245e5a138643cd4eb9837</td>\n",
       "      <td>576.0</td>\n",
       "      <td>5</td>\n",
       "    </tr>\n",
       "    <tr>\n",
       "      <th>10189</th>\n",
       "      <td>2ea50de315514ccaa5079db4c1ecbc0b</td>\n",
       "      <td>fafdcd668e3743c1bb461111dcafc2a4</td>\n",
       "      <td>576.0</td>\n",
       "      <td>5</td>\n",
       "    </tr>\n",
       "    <tr>\n",
       "      <th>7653</th>\n",
       "      <td>23d67a23296a485781e69c109a10a1cf</td>\n",
       "      <td>5a8bc65990b245e5a138643cd4eb9837</td>\n",
       "      <td>582.0</td>\n",
       "      <td>5</td>\n",
       "    </tr>\n",
       "    <tr>\n",
       "      <th>24531</th>\n",
       "      <td>6d2db3aad94648259e539920fc2cf2a6</td>\n",
       "      <td>f19421c1d4aa40978ebb69ca19b0e20d</td>\n",
       "      <td>588.0</td>\n",
       "      <td>5</td>\n",
       "    </tr>\n",
       "    <tr>\n",
       "      <th>42113</th>\n",
       "      <td>b993a783cfe844848fc165a1de3926b1</td>\n",
       "      <td>3f207df678b143eea3cee63160fa8bed</td>\n",
       "      <td>582.0</td>\n",
       "      <td>4</td>\n",
       "    </tr>\n",
       "  </tbody>\n",
       "</table>\n",
       "</div>"
      ],
      "text/plain": [
       "                             profile_id                          offer_id  \\\n",
       "53868  eece6a9a7bdd4ea1b0f812f34fc619d6  5a8bc65990b245e5a138643cd4eb9837   \n",
       "10189  2ea50de315514ccaa5079db4c1ecbc0b  fafdcd668e3743c1bb461111dcafc2a4   \n",
       "7653   23d67a23296a485781e69c109a10a1cf  5a8bc65990b245e5a138643cd4eb9837   \n",
       "24531  6d2db3aad94648259e539920fc2cf2a6  f19421c1d4aa40978ebb69ca19b0e20d   \n",
       "42113  b993a783cfe844848fc165a1de3926b1  3f207df678b143eea3cee63160fa8bed   \n",
       "\n",
       "       viewed_time  received_time  \n",
       "53868        576.0              5  \n",
       "10189        576.0              5  \n",
       "7653         582.0              5  \n",
       "24531        588.0              5  \n",
       "42113        582.0              4  "
      ]
     },
     "metadata": {},
     "output_type": "display_data"
    }
   ],
   "source": [
    "# Check which views are assigned to more than 1 received event.\n",
    "view_count = receive_and_view.groupby(['profile_id', 'offer_id', 'viewed_time'])['received_time'].count().reset_index()\n",
    "\n",
    "duplicated_view_count = view_count[view_count['received_time'] > 1].sort_values(by='received_time', ascending=False)\n",
    "\n",
    "non_duplicated_view_count = view_count[view_count['received_time'] == 1]\n",
    "\n",
    "display(duplicated_view_count.head())\n",
    "\n",
    "# Take only the relevant columns\n",
    "duplicated_view_count = duplicated_view_count[['profile_id', 'offer_id', 'viewed_time']]\n",
    "non_duplicated_view_count = non_duplicated_view_count[['profile_id', 'offer_id', 'viewed_time']]"
   ]
  },
  {
   "cell_type": "markdown",
   "metadata": {},
   "source": [
    "As an example, a viewing event belonging to person `eece6a9a7bdd4ea1b0f812f34fc619d6` towards offer `5a8bc65990b245e5a138643cd4eb9837`, happening at time `576`, has been assigned to 5 different offer received events."
   ]
  },
  {
   "cell_type": "code",
   "execution_count": 208,
   "metadata": {},
   "outputs": [
    {
     "data": {
      "text/html": [
       "<div>\n",
       "<style scoped>\n",
       "    .dataframe tbody tr th:only-of-type {\n",
       "        vertical-align: middle;\n",
       "    }\n",
       "\n",
       "    .dataframe tbody tr th {\n",
       "        vertical-align: top;\n",
       "    }\n",
       "\n",
       "    .dataframe thead th {\n",
       "        text-align: right;\n",
       "    }\n",
       "</style>\n",
       "<table border=\"1\" class=\"dataframe\">\n",
       "  <thead>\n",
       "    <tr style=\"text-align: right;\">\n",
       "      <th></th>\n",
       "      <th>profile_id</th>\n",
       "      <th>received_time</th>\n",
       "      <th>offer_id</th>\n",
       "      <th>difficulty</th>\n",
       "      <th>duration</th>\n",
       "      <th>offer_type</th>\n",
       "      <th>reward</th>\n",
       "      <th>is_email</th>\n",
       "      <th>is_web</th>\n",
       "      <th>is_mobile</th>\n",
       "      <th>is_social</th>\n",
       "      <th>expiry_time</th>\n",
       "      <th>viewed_time</th>\n",
       "    </tr>\n",
       "  </thead>\n",
       "  <tbody>\n",
       "    <tr>\n",
       "      <th>0</th>\n",
       "      <td>eece6a9a7bdd4ea1b0f812f34fc619d6</td>\n",
       "      <td>0</td>\n",
       "      <td>5a8bc65990b245e5a138643cd4eb9837</td>\n",
       "      <td>0</td>\n",
       "      <td>3</td>\n",
       "      <td>informational</td>\n",
       "      <td>0</td>\n",
       "      <td>1</td>\n",
       "      <td>0</td>\n",
       "      <td>1</td>\n",
       "      <td>1</td>\n",
       "      <td>72</td>\n",
       "      <td>90.0</td>\n",
       "    </tr>\n",
       "    <tr>\n",
       "      <th>1</th>\n",
       "      <td>eece6a9a7bdd4ea1b0f812f34fc619d6</td>\n",
       "      <td>0</td>\n",
       "      <td>5a8bc65990b245e5a138643cd4eb9837</td>\n",
       "      <td>0</td>\n",
       "      <td>3</td>\n",
       "      <td>informational</td>\n",
       "      <td>0</td>\n",
       "      <td>1</td>\n",
       "      <td>0</td>\n",
       "      <td>1</td>\n",
       "      <td>1</td>\n",
       "      <td>72</td>\n",
       "      <td>174.0</td>\n",
       "    </tr>\n",
       "    <tr>\n",
       "      <th>2</th>\n",
       "      <td>eece6a9a7bdd4ea1b0f812f34fc619d6</td>\n",
       "      <td>0</td>\n",
       "      <td>5a8bc65990b245e5a138643cd4eb9837</td>\n",
       "      <td>0</td>\n",
       "      <td>3</td>\n",
       "      <td>informational</td>\n",
       "      <td>0</td>\n",
       "      <td>1</td>\n",
       "      <td>0</td>\n",
       "      <td>1</td>\n",
       "      <td>1</td>\n",
       "      <td>72</td>\n",
       "      <td>414.0</td>\n",
       "    </tr>\n",
       "    <tr>\n",
       "      <th>3</th>\n",
       "      <td>eece6a9a7bdd4ea1b0f812f34fc619d6</td>\n",
       "      <td>0</td>\n",
       "      <td>5a8bc65990b245e5a138643cd4eb9837</td>\n",
       "      <td>0</td>\n",
       "      <td>3</td>\n",
       "      <td>informational</td>\n",
       "      <td>0</td>\n",
       "      <td>1</td>\n",
       "      <td>0</td>\n",
       "      <td>1</td>\n",
       "      <td>1</td>\n",
       "      <td>72</td>\n",
       "      <td>516.0</td>\n",
       "    </tr>\n",
       "    <tr>\n",
       "      <th>4</th>\n",
       "      <td>eece6a9a7bdd4ea1b0f812f34fc619d6</td>\n",
       "      <td>0</td>\n",
       "      <td>5a8bc65990b245e5a138643cd4eb9837</td>\n",
       "      <td>0</td>\n",
       "      <td>3</td>\n",
       "      <td>informational</td>\n",
       "      <td>0</td>\n",
       "      <td>1</td>\n",
       "      <td>0</td>\n",
       "      <td>1</td>\n",
       "      <td>1</td>\n",
       "      <td>72</td>\n",
       "      <td>576.0</td>\n",
       "    </tr>\n",
       "    <tr>\n",
       "      <th>5</th>\n",
       "      <td>eece6a9a7bdd4ea1b0f812f34fc619d6</td>\n",
       "      <td>168</td>\n",
       "      <td>5a8bc65990b245e5a138643cd4eb9837</td>\n",
       "      <td>0</td>\n",
       "      <td>3</td>\n",
       "      <td>informational</td>\n",
       "      <td>0</td>\n",
       "      <td>1</td>\n",
       "      <td>0</td>\n",
       "      <td>1</td>\n",
       "      <td>1</td>\n",
       "      <td>240</td>\n",
       "      <td>174.0</td>\n",
       "    </tr>\n",
       "    <tr>\n",
       "      <th>6</th>\n",
       "      <td>eece6a9a7bdd4ea1b0f812f34fc619d6</td>\n",
       "      <td>168</td>\n",
       "      <td>5a8bc65990b245e5a138643cd4eb9837</td>\n",
       "      <td>0</td>\n",
       "      <td>3</td>\n",
       "      <td>informational</td>\n",
       "      <td>0</td>\n",
       "      <td>1</td>\n",
       "      <td>0</td>\n",
       "      <td>1</td>\n",
       "      <td>1</td>\n",
       "      <td>240</td>\n",
       "      <td>414.0</td>\n",
       "    </tr>\n",
       "    <tr>\n",
       "      <th>7</th>\n",
       "      <td>eece6a9a7bdd4ea1b0f812f34fc619d6</td>\n",
       "      <td>168</td>\n",
       "      <td>5a8bc65990b245e5a138643cd4eb9837</td>\n",
       "      <td>0</td>\n",
       "      <td>3</td>\n",
       "      <td>informational</td>\n",
       "      <td>0</td>\n",
       "      <td>1</td>\n",
       "      <td>0</td>\n",
       "      <td>1</td>\n",
       "      <td>1</td>\n",
       "      <td>240</td>\n",
       "      <td>516.0</td>\n",
       "    </tr>\n",
       "    <tr>\n",
       "      <th>8</th>\n",
       "      <td>eece6a9a7bdd4ea1b0f812f34fc619d6</td>\n",
       "      <td>168</td>\n",
       "      <td>5a8bc65990b245e5a138643cd4eb9837</td>\n",
       "      <td>0</td>\n",
       "      <td>3</td>\n",
       "      <td>informational</td>\n",
       "      <td>0</td>\n",
       "      <td>1</td>\n",
       "      <td>0</td>\n",
       "      <td>1</td>\n",
       "      <td>1</td>\n",
       "      <td>240</td>\n",
       "      <td>576.0</td>\n",
       "    </tr>\n",
       "    <tr>\n",
       "      <th>9</th>\n",
       "      <td>eece6a9a7bdd4ea1b0f812f34fc619d6</td>\n",
       "      <td>408</td>\n",
       "      <td>5a8bc65990b245e5a138643cd4eb9837</td>\n",
       "      <td>0</td>\n",
       "      <td>3</td>\n",
       "      <td>informational</td>\n",
       "      <td>0</td>\n",
       "      <td>1</td>\n",
       "      <td>0</td>\n",
       "      <td>1</td>\n",
       "      <td>1</td>\n",
       "      <td>480</td>\n",
       "      <td>414.0</td>\n",
       "    </tr>\n",
       "    <tr>\n",
       "      <th>10</th>\n",
       "      <td>eece6a9a7bdd4ea1b0f812f34fc619d6</td>\n",
       "      <td>408</td>\n",
       "      <td>5a8bc65990b245e5a138643cd4eb9837</td>\n",
       "      <td>0</td>\n",
       "      <td>3</td>\n",
       "      <td>informational</td>\n",
       "      <td>0</td>\n",
       "      <td>1</td>\n",
       "      <td>0</td>\n",
       "      <td>1</td>\n",
       "      <td>1</td>\n",
       "      <td>480</td>\n",
       "      <td>516.0</td>\n",
       "    </tr>\n",
       "    <tr>\n",
       "      <th>11</th>\n",
       "      <td>eece6a9a7bdd4ea1b0f812f34fc619d6</td>\n",
       "      <td>408</td>\n",
       "      <td>5a8bc65990b245e5a138643cd4eb9837</td>\n",
       "      <td>0</td>\n",
       "      <td>3</td>\n",
       "      <td>informational</td>\n",
       "      <td>0</td>\n",
       "      <td>1</td>\n",
       "      <td>0</td>\n",
       "      <td>1</td>\n",
       "      <td>1</td>\n",
       "      <td>480</td>\n",
       "      <td>576.0</td>\n",
       "    </tr>\n",
       "    <tr>\n",
       "      <th>12</th>\n",
       "      <td>eece6a9a7bdd4ea1b0f812f34fc619d6</td>\n",
       "      <td>504</td>\n",
       "      <td>5a8bc65990b245e5a138643cd4eb9837</td>\n",
       "      <td>0</td>\n",
       "      <td>3</td>\n",
       "      <td>informational</td>\n",
       "      <td>0</td>\n",
       "      <td>1</td>\n",
       "      <td>0</td>\n",
       "      <td>1</td>\n",
       "      <td>1</td>\n",
       "      <td>576</td>\n",
       "      <td>516.0</td>\n",
       "    </tr>\n",
       "    <tr>\n",
       "      <th>13</th>\n",
       "      <td>eece6a9a7bdd4ea1b0f812f34fc619d6</td>\n",
       "      <td>504</td>\n",
       "      <td>5a8bc65990b245e5a138643cd4eb9837</td>\n",
       "      <td>0</td>\n",
       "      <td>3</td>\n",
       "      <td>informational</td>\n",
       "      <td>0</td>\n",
       "      <td>1</td>\n",
       "      <td>0</td>\n",
       "      <td>1</td>\n",
       "      <td>1</td>\n",
       "      <td>576</td>\n",
       "      <td>576.0</td>\n",
       "    </tr>\n",
       "    <tr>\n",
       "      <th>14</th>\n",
       "      <td>eece6a9a7bdd4ea1b0f812f34fc619d6</td>\n",
       "      <td>576</td>\n",
       "      <td>5a8bc65990b245e5a138643cd4eb9837</td>\n",
       "      <td>0</td>\n",
       "      <td>3</td>\n",
       "      <td>informational</td>\n",
       "      <td>0</td>\n",
       "      <td>1</td>\n",
       "      <td>0</td>\n",
       "      <td>1</td>\n",
       "      <td>1</td>\n",
       "      <td>648</td>\n",
       "      <td>576.0</td>\n",
       "    </tr>\n",
       "  </tbody>\n",
       "</table>\n",
       "</div>"
      ],
      "text/plain": [
       "                          profile_id  received_time  \\\n",
       "0   eece6a9a7bdd4ea1b0f812f34fc619d6              0   \n",
       "1   eece6a9a7bdd4ea1b0f812f34fc619d6              0   \n",
       "2   eece6a9a7bdd4ea1b0f812f34fc619d6              0   \n",
       "3   eece6a9a7bdd4ea1b0f812f34fc619d6              0   \n",
       "4   eece6a9a7bdd4ea1b0f812f34fc619d6              0   \n",
       "5   eece6a9a7bdd4ea1b0f812f34fc619d6            168   \n",
       "6   eece6a9a7bdd4ea1b0f812f34fc619d6            168   \n",
       "7   eece6a9a7bdd4ea1b0f812f34fc619d6            168   \n",
       "8   eece6a9a7bdd4ea1b0f812f34fc619d6            168   \n",
       "9   eece6a9a7bdd4ea1b0f812f34fc619d6            408   \n",
       "10  eece6a9a7bdd4ea1b0f812f34fc619d6            408   \n",
       "11  eece6a9a7bdd4ea1b0f812f34fc619d6            408   \n",
       "12  eece6a9a7bdd4ea1b0f812f34fc619d6            504   \n",
       "13  eece6a9a7bdd4ea1b0f812f34fc619d6            504   \n",
       "14  eece6a9a7bdd4ea1b0f812f34fc619d6            576   \n",
       "\n",
       "                            offer_id  difficulty  duration     offer_type  \\\n",
       "0   5a8bc65990b245e5a138643cd4eb9837           0         3  informational   \n",
       "1   5a8bc65990b245e5a138643cd4eb9837           0         3  informational   \n",
       "2   5a8bc65990b245e5a138643cd4eb9837           0         3  informational   \n",
       "3   5a8bc65990b245e5a138643cd4eb9837           0         3  informational   \n",
       "4   5a8bc65990b245e5a138643cd4eb9837           0         3  informational   \n",
       "5   5a8bc65990b245e5a138643cd4eb9837           0         3  informational   \n",
       "6   5a8bc65990b245e5a138643cd4eb9837           0         3  informational   \n",
       "7   5a8bc65990b245e5a138643cd4eb9837           0         3  informational   \n",
       "8   5a8bc65990b245e5a138643cd4eb9837           0         3  informational   \n",
       "9   5a8bc65990b245e5a138643cd4eb9837           0         3  informational   \n",
       "10  5a8bc65990b245e5a138643cd4eb9837           0         3  informational   \n",
       "11  5a8bc65990b245e5a138643cd4eb9837           0         3  informational   \n",
       "12  5a8bc65990b245e5a138643cd4eb9837           0         3  informational   \n",
       "13  5a8bc65990b245e5a138643cd4eb9837           0         3  informational   \n",
       "14  5a8bc65990b245e5a138643cd4eb9837           0         3  informational   \n",
       "\n",
       "    reward  is_email  is_web  is_mobile  is_social  expiry_time  viewed_time  \n",
       "0        0         1       0          1          1           72         90.0  \n",
       "1        0         1       0          1          1           72        174.0  \n",
       "2        0         1       0          1          1           72        414.0  \n",
       "3        0         1       0          1          1           72        516.0  \n",
       "4        0         1       0          1          1           72        576.0  \n",
       "5        0         1       0          1          1          240        174.0  \n",
       "6        0         1       0          1          1          240        414.0  \n",
       "7        0         1       0          1          1          240        516.0  \n",
       "8        0         1       0          1          1          240        576.0  \n",
       "9        0         1       0          1          1          480        414.0  \n",
       "10       0         1       0          1          1          480        516.0  \n",
       "11       0         1       0          1          1          480        576.0  \n",
       "12       0         1       0          1          1          576        516.0  \n",
       "13       0         1       0          1          1          576        576.0  \n",
       "14       0         1       0          1          1          648        576.0  "
      ]
     },
     "metadata": {},
     "output_type": "display_data"
    }
   ],
   "source": [
    "# Show the complete receive and view data for the particular person-offer combination\n",
    "display(receive_and_view.merge(duplicated_view_count.head(1)[['profile_id', 'offer_id']], on=['profile_id', 'offer_id']))"
   ]
  },
  {
   "cell_type": "markdown",
   "metadata": {},
   "source": [
    "The dataframe above shows the complete receive and view events of the particular person and offer combination, and turns out: \n",
    "\n",
    "Person `eece6a9a7bdd4ea1b0f812f34fc619d6` received the offer `5a8bc65990b245e5a138643cd4eb9837` five times, at time `0`, `168`, `408`, `504` and `576` respectively.\n",
    "\n",
    "He/she also viewed the same offer type five times, at time `90`, `174`, `414`, `516`, and `576` respectively. \n",
    "\n",
    "Because the only filtering that we did was that `viewed_time` must be larger or equal `received_time`, the view event that happened at time `576` was assigned to all five received offers, explaining the phenomenon above."
   ]
  },
  {
   "cell_type": "markdown",
   "metadata": {},
   "source": [
    "In order to assign a unique 1-1 mapping for each `received` and `viewed` event, we will assume that the viewing order follows a last-in-first-out order, as the order they appear in the user's notification page/inbox should be earlier. \n",
    "\n",
    "For example:\n",
    "\n",
    "1. Person `A` receives a particular offer `1` two times, at timestamp `0` and `10`\n",
    "2. Person `A` has 1 view event for offer `1`, happening at timestamp `15`\n",
    "3. The single view event will be assigned to the offer received at timestamp `10`"
   ]
  },
  {
   "cell_type": "code",
   "execution_count": 209,
   "metadata": {},
   "outputs": [],
   "source": [
    "# Get the non-duplicated views\n",
    "non_duplicated_views = receive_and_view.merge(non_duplicated_view_count, on=['profile_id', 'offer_id', 'viewed_time'])\n",
    "\n",
    "# Add helper column\n",
    "non_duplicated_views['not_duplicated'] = 1\n",
    "\n",
    "# Create a helper dataframe to exclude a particular offer received instance from the duplicated table.\n",
    "# This will prevent a particular offer received instance having more than one view event assigned to it\n",
    "checker_viewed = non_duplicated_views[['profile_id', 'offer_id', 'received_time', 'not_duplicated']].drop_duplicates()\n",
    "\n",
    "duplicated_views = receive_and_view.merge(duplicated_view_count, on=['profile_id', 'offer_id', 'viewed_time'])\n",
    "duplicated_views = duplicated_views.merge(checker_viewed, on=['profile_id','offer_id','received_time'], how='left')\n",
    "duplicated_views['not_duplicated'] = duplicated_views['not_duplicated'].fillna(0)\n",
    "\n",
    "# Remove the offer received instances that are already in the not_duplicated table\n",
    "duplicated_views = duplicated_views[duplicated_views['not_duplicated'] == 0]"
   ]
  },
  {
   "cell_type": "code",
   "execution_count": 214,
   "metadata": {},
   "outputs": [
    {
     "data": {
      "text/html": [
       "<div>\n",
       "<style scoped>\n",
       "    .dataframe tbody tr th:only-of-type {\n",
       "        vertical-align: middle;\n",
       "    }\n",
       "\n",
       "    .dataframe tbody tr th {\n",
       "        vertical-align: top;\n",
       "    }\n",
       "\n",
       "    .dataframe thead th {\n",
       "        text-align: right;\n",
       "    }\n",
       "</style>\n",
       "<table border=\"1\" class=\"dataframe\">\n",
       "  <thead>\n",
       "    <tr style=\"text-align: right;\">\n",
       "      <th></th>\n",
       "      <th>profile_id</th>\n",
       "      <th>received_time</th>\n",
       "      <th>offer_id</th>\n",
       "      <th>difficulty</th>\n",
       "      <th>duration</th>\n",
       "      <th>offer_type</th>\n",
       "      <th>reward</th>\n",
       "      <th>is_email</th>\n",
       "      <th>is_web</th>\n",
       "      <th>is_mobile</th>\n",
       "      <th>is_social</th>\n",
       "      <th>expiry_time</th>\n",
       "      <th>viewed_time</th>\n",
       "      <th>not_duplicated</th>\n",
       "      <th>same_offer_receive_order</th>\n",
       "      <th>same_offer_view_order</th>\n",
       "    </tr>\n",
       "  </thead>\n",
       "  <tbody>\n",
       "    <tr>\n",
       "      <th>0</th>\n",
       "      <td>ebe7ef46ea6f4963a7dd49f501b26779</td>\n",
       "      <td>0</td>\n",
       "      <td>9b98b8c7a33c4b65b9aebfe6a799e6d9</td>\n",
       "      <td>5</td>\n",
       "      <td>7</td>\n",
       "      <td>bogo</td>\n",
       "      <td>5</td>\n",
       "      <td>1</td>\n",
       "      <td>1</td>\n",
       "      <td>1</td>\n",
       "      <td>0</td>\n",
       "      <td>168</td>\n",
       "      <td>714.0</td>\n",
       "      <td>0.0</td>\n",
       "      <td>1.0</td>\n",
       "      <td>1.0</td>\n",
       "    </tr>\n",
       "    <tr>\n",
       "      <th>1</th>\n",
       "      <td>ebe7ef46ea6f4963a7dd49f501b26779</td>\n",
       "      <td>576</td>\n",
       "      <td>9b98b8c7a33c4b65b9aebfe6a799e6d9</td>\n",
       "      <td>5</td>\n",
       "      <td>7</td>\n",
       "      <td>bogo</td>\n",
       "      <td>5</td>\n",
       "      <td>1</td>\n",
       "      <td>1</td>\n",
       "      <td>1</td>\n",
       "      <td>0</td>\n",
       "      <td>744</td>\n",
       "      <td>714.0</td>\n",
       "      <td>0.0</td>\n",
       "      <td>2.0</td>\n",
       "      <td>1.0</td>\n",
       "    </tr>\n",
       "    <tr>\n",
       "      <th>3</th>\n",
       "      <td>32fbf97e89274e8a935903f2ad095e1f</td>\n",
       "      <td>336</td>\n",
       "      <td>9b98b8c7a33c4b65b9aebfe6a799e6d9</td>\n",
       "      <td>5</td>\n",
       "      <td>7</td>\n",
       "      <td>bogo</td>\n",
       "      <td>5</td>\n",
       "      <td>1</td>\n",
       "      <td>1</td>\n",
       "      <td>1</td>\n",
       "      <td>0</td>\n",
       "      <td>504</td>\n",
       "      <td>360.0</td>\n",
       "      <td>0.0</td>\n",
       "      <td>1.0</td>\n",
       "      <td>1.0</td>\n",
       "    </tr>\n",
       "    <tr>\n",
       "      <th>5</th>\n",
       "      <td>d1a6fe4c241e4dbf8a4da6fd6c714ac5</td>\n",
       "      <td>168</td>\n",
       "      <td>9b98b8c7a33c4b65b9aebfe6a799e6d9</td>\n",
       "      <td>5</td>\n",
       "      <td>7</td>\n",
       "      <td>bogo</td>\n",
       "      <td>5</td>\n",
       "      <td>1</td>\n",
       "      <td>1</td>\n",
       "      <td>1</td>\n",
       "      <td>0</td>\n",
       "      <td>336</td>\n",
       "      <td>192.0</td>\n",
       "      <td>0.0</td>\n",
       "      <td>1.0</td>\n",
       "      <td>1.0</td>\n",
       "    </tr>\n",
       "    <tr>\n",
       "      <th>6</th>\n",
       "      <td>bbeb54e861614fc7b22a8844f72dca6c</td>\n",
       "      <td>0</td>\n",
       "      <td>9b98b8c7a33c4b65b9aebfe6a799e6d9</td>\n",
       "      <td>5</td>\n",
       "      <td>7</td>\n",
       "      <td>bogo</td>\n",
       "      <td>5</td>\n",
       "      <td>1</td>\n",
       "      <td>1</td>\n",
       "      <td>1</td>\n",
       "      <td>0</td>\n",
       "      <td>168</td>\n",
       "      <td>528.0</td>\n",
       "      <td>0.0</td>\n",
       "      <td>1.0</td>\n",
       "      <td>1.0</td>\n",
       "    </tr>\n",
       "  </tbody>\n",
       "</table>\n",
       "</div>"
      ],
      "text/plain": [
       "                         profile_id  received_time  \\\n",
       "0  ebe7ef46ea6f4963a7dd49f501b26779              0   \n",
       "1  ebe7ef46ea6f4963a7dd49f501b26779            576   \n",
       "3  32fbf97e89274e8a935903f2ad095e1f            336   \n",
       "5  d1a6fe4c241e4dbf8a4da6fd6c714ac5            168   \n",
       "6  bbeb54e861614fc7b22a8844f72dca6c              0   \n",
       "\n",
       "                           offer_id  difficulty  duration offer_type  reward  \\\n",
       "0  9b98b8c7a33c4b65b9aebfe6a799e6d9           5         7       bogo       5   \n",
       "1  9b98b8c7a33c4b65b9aebfe6a799e6d9           5         7       bogo       5   \n",
       "3  9b98b8c7a33c4b65b9aebfe6a799e6d9           5         7       bogo       5   \n",
       "5  9b98b8c7a33c4b65b9aebfe6a799e6d9           5         7       bogo       5   \n",
       "6  9b98b8c7a33c4b65b9aebfe6a799e6d9           5         7       bogo       5   \n",
       "\n",
       "   is_email  is_web  is_mobile  is_social  expiry_time  viewed_time  \\\n",
       "0         1       1          1          0          168        714.0   \n",
       "1         1       1          1          0          744        714.0   \n",
       "3         1       1          1          0          504        360.0   \n",
       "5         1       1          1          0          336        192.0   \n",
       "6         1       1          1          0          168        528.0   \n",
       "\n",
       "   not_duplicated  same_offer_receive_order  same_offer_view_order  \n",
       "0             0.0                       1.0                    1.0  \n",
       "1             0.0                       2.0                    1.0  \n",
       "3             0.0                       1.0                    1.0  \n",
       "5             0.0                       1.0                    1.0  \n",
       "6             0.0                       1.0                    1.0  "
      ]
     },
     "metadata": {},
     "output_type": "display_data"
    }
   ],
   "source": [
    "display(duplicated_views.head())"
   ]
  },
  {
   "cell_type": "markdown",
   "metadata": {},
   "source": [
    "The `receive` and `view` event will then be ranked (by time) according to our assumption above that offer that was received last will be viewed first. \n",
    "\n",
    "The unique assignment will happen by filtering the pairs of `view` and `receive` event that has the same rank.\n",
    "\n",
    "To illustrate this process, we will use the same example as person `A` above:\n",
    "\n",
    "1. Person `A` receives a particular offer `1` two times, at timestamp `0` and `10`\n",
    "2. Person `A` has 1 view event for offer `1`, happening at timestamp `15`\n",
    "\n",
    "The offer received at timestamp `10` will have a rank value of 1, while the one received at timestamp `0` will have a rank value of 2, following the last-in-first-out principle. \n",
    "\n",
    "The offer view event will have a rank value of 1, as there is only one viewing instance. \n",
    "\n",
    "Upon filtering `view_rank` == `received_rank`, we will have the offer view event assigned to the offer received at timestamp `10`."
   ]
  },
  {
   "cell_type": "code",
   "execution_count": 215,
   "metadata": {},
   "outputs": [],
   "source": [
    "# ascending=False reflects the last-in-first-out principle\n",
    "duplicated_views['same_offer_receive_order'] = duplicated_views.sort_values(by='received_time', ascending=False)\\\n",
    "    .groupby(['profile_id', 'offer_id'])['received_time'].rank(method='dense')\n",
    "\n",
    "duplicated_views['same_offer_view_order'] = duplicated_views.sort_values(by='viewed_time', ascending=True)\\\n",
    "    .groupby(['profile_id', 'offer_id'])['viewed_time'].rank(method='dense')"
   ]
  },
  {
   "cell_type": "code",
   "execution_count": 216,
   "metadata": {},
   "outputs": [],
   "source": [
    "# Filter to pairs with same rank value\n",
    "fixed_duplicated_views = duplicated_views[\n",
    "    (duplicated_views['same_offer_receive_order'] == duplicated_views['same_offer_view_order'])\n",
    "]\n",
    "\n",
    "fixed_duplicated_views = fixed_duplicated_views.drop(['same_offer_receive_order', 'same_offer_view_order'], axis=1)"
   ]
  },
  {
   "cell_type": "code",
   "execution_count": 217,
   "metadata": {},
   "outputs": [],
   "source": [
    "# Concatenate the fixed duplicate table with non_duplicate table filtered out earlier\n",
    "receive_and_view = pd.concat([non_duplicated_views, fixed_duplicated_views])"
   ]
  },
  {
   "cell_type": "markdown",
   "metadata": {},
   "source": [
    "We will then check the 1-1 mapping in the following section by counting the number of offer received events that a particular view is assigned to, and also counting the number of views assigned to a particular offer received event. \n",
    "\n",
    "If we have successfully done the mapping, the maximum count of both checks should be one."
   ]
  },
  {
   "cell_type": "code",
   "execution_count": 218,
   "metadata": {},
   "outputs": [
    {
     "data": {
      "text/html": [
       "<div>\n",
       "<style scoped>\n",
       "    .dataframe tbody tr th:only-of-type {\n",
       "        vertical-align: middle;\n",
       "    }\n",
       "\n",
       "    .dataframe tbody tr th {\n",
       "        vertical-align: top;\n",
       "    }\n",
       "\n",
       "    .dataframe thead th {\n",
       "        text-align: right;\n",
       "    }\n",
       "</style>\n",
       "<table border=\"1\" class=\"dataframe\">\n",
       "  <thead>\n",
       "    <tr style=\"text-align: right;\">\n",
       "      <th></th>\n",
       "      <th>profile_id</th>\n",
       "      <th>offer_id</th>\n",
       "      <th>viewed_time</th>\n",
       "      <th>received_time</th>\n",
       "    </tr>\n",
       "  </thead>\n",
       "  <tbody>\n",
       "    <tr>\n",
       "      <th>0</th>\n",
       "      <td>0009655768c64bdeb2e877511632db8f</td>\n",
       "      <td>3f207df678b143eea3cee63160fa8bed</td>\n",
       "      <td>372.0</td>\n",
       "      <td>1</td>\n",
       "    </tr>\n",
       "    <tr>\n",
       "      <th>38447</th>\n",
       "      <td>a97e140cf0094644a99290c1172f7d18</td>\n",
       "      <td>2906b810c7d4411798c6938adc9daaa5</td>\n",
       "      <td>378.0</td>\n",
       "      <td>1</td>\n",
       "    </tr>\n",
       "    <tr>\n",
       "      <th>38477</th>\n",
       "      <td>a99e6dc6e2db4882a07f4280db7de088</td>\n",
       "      <td>ae264e3637204a6fb9bb56bc8210ddfd</td>\n",
       "      <td>528.0</td>\n",
       "      <td>1</td>\n",
       "    </tr>\n",
       "    <tr>\n",
       "      <th>38478</th>\n",
       "      <td>a99e6dc6e2db4882a07f4280db7de088</td>\n",
       "      <td>f19421c1d4aa40978ebb69ca19b0e20d</td>\n",
       "      <td>594.0</td>\n",
       "      <td>1</td>\n",
       "    </tr>\n",
       "    <tr>\n",
       "      <th>38479</th>\n",
       "      <td>a99e6dc6e2db4882a07f4280db7de088</td>\n",
       "      <td>fafdcd668e3743c1bb461111dcafc2a4</td>\n",
       "      <td>450.0</td>\n",
       "      <td>1</td>\n",
       "    </tr>\n",
       "  </tbody>\n",
       "</table>\n",
       "</div>"
      ],
      "text/plain": [
       "                             profile_id                          offer_id  \\\n",
       "0      0009655768c64bdeb2e877511632db8f  3f207df678b143eea3cee63160fa8bed   \n",
       "38447  a97e140cf0094644a99290c1172f7d18  2906b810c7d4411798c6938adc9daaa5   \n",
       "38477  a99e6dc6e2db4882a07f4280db7de088  ae264e3637204a6fb9bb56bc8210ddfd   \n",
       "38478  a99e6dc6e2db4882a07f4280db7de088  f19421c1d4aa40978ebb69ca19b0e20d   \n",
       "38479  a99e6dc6e2db4882a07f4280db7de088  fafdcd668e3743c1bb461111dcafc2a4   \n",
       "\n",
       "       viewed_time  received_time  \n",
       "0            372.0              1  \n",
       "38447        378.0              1  \n",
       "38477        528.0              1  \n",
       "38478        594.0              1  \n",
       "38479        450.0              1  "
      ]
     },
     "metadata": {},
     "output_type": "display_data"
    },
    {
     "data": {
      "text/html": [
       "<div>\n",
       "<style scoped>\n",
       "    .dataframe tbody tr th:only-of-type {\n",
       "        vertical-align: middle;\n",
       "    }\n",
       "\n",
       "    .dataframe tbody tr th {\n",
       "        vertical-align: top;\n",
       "    }\n",
       "\n",
       "    .dataframe thead th {\n",
       "        text-align: right;\n",
       "    }\n",
       "</style>\n",
       "<table border=\"1\" class=\"dataframe\">\n",
       "  <thead>\n",
       "    <tr style=\"text-align: right;\">\n",
       "      <th></th>\n",
       "      <th>profile_id</th>\n",
       "      <th>offer_id</th>\n",
       "      <th>received_time</th>\n",
       "      <th>viewed_time</th>\n",
       "    </tr>\n",
       "  </thead>\n",
       "  <tbody>\n",
       "    <tr>\n",
       "      <th>0</th>\n",
       "      <td>0009655768c64bdeb2e877511632db8f</td>\n",
       "      <td>3f207df678b143eea3cee63160fa8bed</td>\n",
       "      <td>336</td>\n",
       "      <td>1</td>\n",
       "    </tr>\n",
       "    <tr>\n",
       "      <th>38447</th>\n",
       "      <td>a97e140cf0094644a99290c1172f7d18</td>\n",
       "      <td>2906b810c7d4411798c6938adc9daaa5</td>\n",
       "      <td>336</td>\n",
       "      <td>1</td>\n",
       "    </tr>\n",
       "    <tr>\n",
       "      <th>38477</th>\n",
       "      <td>a99e6dc6e2db4882a07f4280db7de088</td>\n",
       "      <td>ae264e3637204a6fb9bb56bc8210ddfd</td>\n",
       "      <td>504</td>\n",
       "      <td>1</td>\n",
       "    </tr>\n",
       "    <tr>\n",
       "      <th>38478</th>\n",
       "      <td>a99e6dc6e2db4882a07f4280db7de088</td>\n",
       "      <td>f19421c1d4aa40978ebb69ca19b0e20d</td>\n",
       "      <td>576</td>\n",
       "      <td>1</td>\n",
       "    </tr>\n",
       "    <tr>\n",
       "      <th>38479</th>\n",
       "      <td>a99e6dc6e2db4882a07f4280db7de088</td>\n",
       "      <td>fafdcd668e3743c1bb461111dcafc2a4</td>\n",
       "      <td>408</td>\n",
       "      <td>1</td>\n",
       "    </tr>\n",
       "  </tbody>\n",
       "</table>\n",
       "</div>"
      ],
      "text/plain": [
       "                             profile_id                          offer_id  \\\n",
       "0      0009655768c64bdeb2e877511632db8f  3f207df678b143eea3cee63160fa8bed   \n",
       "38447  a97e140cf0094644a99290c1172f7d18  2906b810c7d4411798c6938adc9daaa5   \n",
       "38477  a99e6dc6e2db4882a07f4280db7de088  ae264e3637204a6fb9bb56bc8210ddfd   \n",
       "38478  a99e6dc6e2db4882a07f4280db7de088  f19421c1d4aa40978ebb69ca19b0e20d   \n",
       "38479  a99e6dc6e2db4882a07f4280db7de088  fafdcd668e3743c1bb461111dcafc2a4   \n",
       "\n",
       "       received_time  viewed_time  \n",
       "0                336            1  \n",
       "38447            336            1  \n",
       "38477            504            1  \n",
       "38478            576            1  \n",
       "38479            408            1  "
      ]
     },
     "metadata": {},
     "output_type": "display_data"
    }
   ],
   "source": [
    "# Check that one view event is assigned to only one received event\n",
    "check_view_df = receive_and_view.groupby(['profile_id', 'offer_id', 'viewed_time'])['received_time']\\\n",
    "    .count().reset_index()\n",
    "\n",
    "# Check that one received event is only assigned one view event\n",
    "check_view_df_2 = receive_and_view.groupby(['profile_id', 'offer_id', 'received_time'])['viewed_time']\\\n",
    "    .count().reset_index()\n",
    "\n",
    "display(check_view_df.sort_values(by=['received_time'], ascending=False).head())\n",
    "display(check_view_df_2.sort_values(by=['viewed_time'], ascending=False).head())"
   ]
  },
  {
   "cell_type": "code",
   "execution_count": 219,
   "metadata": {},
   "outputs": [
    {
     "name": "stdout",
     "output_type": "stream",
     "text": [
      "Received and View row count: 57725\n",
      "Original Viewed event count: 57725\n"
     ]
    }
   ],
   "source": [
    "print('Received and View row count:', len(receive_and_view))\n",
    "print('Original Viewed event count:', len(viewed_df))"
   ]
  },
  {
   "cell_type": "markdown",
   "metadata": {},
   "source": [
    "As both checks have the maximum value of 1, we can verify that the 1-1 assignment has been done correctly.\n",
    "\n",
    "The number of rows in both the processed and raw table tallying also verifies this."
   ]
  },
  {
   "cell_type": "code",
   "execution_count": 220,
   "metadata": {},
   "outputs": [],
   "source": [
    "# Subset to relevant columns only\n",
    "receive_and_view = receive_and_view[['profile_id', 'received_time', 'offer_id', 'viewed_time']]"
   ]
  },
  {
   "cell_type": "markdown",
   "metadata": {},
   "source": [
    "### 1.3.5 Combining Received and Completed Event"
   ]
  },
  {
   "cell_type": "markdown",
   "metadata": {},
   "source": [
    "Combining received and completed event will follow a similar procedure with combining received and viewed event. \n",
    "\n",
    "However, there is a difference between completed and viewed event table that will hinder us from purely re-using the method above, that is in the completed table, there are cases where at a same point of time, a particular customers completes more than one instances of the same offer. \n",
    "\n",
    "This becomes a problem as the .rank() method used above will register the same rank for all three completed instances. As we rely on the rank to pair the events, then this method will fail. "
   ]
  },
  {
   "cell_type": "code",
   "execution_count": 221,
   "metadata": {},
   "outputs": [],
   "source": [
    "# Initialize a helper dummy variable \n",
    "completed_df['dummy_count'] = 1"
   ]
  },
  {
   "cell_type": "code",
   "execution_count": 222,
   "metadata": {},
   "outputs": [
    {
     "data": {
      "text/html": [
       "<div>\n",
       "<style scoped>\n",
       "    .dataframe tbody tr th:only-of-type {\n",
       "        vertical-align: middle;\n",
       "    }\n",
       "\n",
       "    .dataframe tbody tr th {\n",
       "        vertical-align: top;\n",
       "    }\n",
       "\n",
       "    .dataframe thead th {\n",
       "        text-align: right;\n",
       "    }\n",
       "</style>\n",
       "<table border=\"1\" class=\"dataframe\">\n",
       "  <thead>\n",
       "    <tr style=\"text-align: right;\">\n",
       "      <th></th>\n",
       "      <th>profile_id</th>\n",
       "      <th>offer_id</th>\n",
       "      <th>completed_time</th>\n",
       "      <th>dummy_count</th>\n",
       "    </tr>\n",
       "  </thead>\n",
       "  <tbody>\n",
       "    <tr>\n",
       "      <th>0</th>\n",
       "      <td>3526938fb466470190a504a751ec07b0</td>\n",
       "      <td>0b1e1539f2cc45b7b9fa7c272da2e1d7</td>\n",
       "      <td>510</td>\n",
       "      <td>3</td>\n",
       "    </tr>\n",
       "    <tr>\n",
       "      <th>1</th>\n",
       "      <td>6fa9ef8890bc467699ce92f2679a4178</td>\n",
       "      <td>f19421c1d4aa40978ebb69ca19b0e20d</td>\n",
       "      <td>624</td>\n",
       "      <td>2</td>\n",
       "    </tr>\n",
       "    <tr>\n",
       "      <th>2</th>\n",
       "      <td>9b2ec72a4ee04bb1bbf360642f22e7d3</td>\n",
       "      <td>fafdcd668e3743c1bb461111dcafc2a4</td>\n",
       "      <td>630</td>\n",
       "      <td>2</td>\n",
       "    </tr>\n",
       "    <tr>\n",
       "      <th>3</th>\n",
       "      <td>b669b308d4fa4bff837d68d86a78e6b1</td>\n",
       "      <td>9b98b8c7a33c4b65b9aebfe6a799e6d9</td>\n",
       "      <td>510</td>\n",
       "      <td>2</td>\n",
       "    </tr>\n",
       "    <tr>\n",
       "      <th>4</th>\n",
       "      <td>d19849e046cc441fb7cfc4c8a68dbf6d</td>\n",
       "      <td>0b1e1539f2cc45b7b9fa7c272da2e1d7</td>\n",
       "      <td>600</td>\n",
       "      <td>2</td>\n",
       "    </tr>\n",
       "  </tbody>\n",
       "</table>\n",
       "</div>"
      ],
      "text/plain": [
       "                         profile_id                          offer_id  \\\n",
       "0  3526938fb466470190a504a751ec07b0  0b1e1539f2cc45b7b9fa7c272da2e1d7   \n",
       "1  6fa9ef8890bc467699ce92f2679a4178  f19421c1d4aa40978ebb69ca19b0e20d   \n",
       "2  9b2ec72a4ee04bb1bbf360642f22e7d3  fafdcd668e3743c1bb461111dcafc2a4   \n",
       "3  b669b308d4fa4bff837d68d86a78e6b1  9b98b8c7a33c4b65b9aebfe6a799e6d9   \n",
       "4  d19849e046cc441fb7cfc4c8a68dbf6d  0b1e1539f2cc45b7b9fa7c272da2e1d7   \n",
       "\n",
       "   completed_time  dummy_count  \n",
       "0             510            3  \n",
       "1             624            2  \n",
       "2             630            2  \n",
       "3             510            2  \n",
       "4             600            2  "
      ]
     },
     "metadata": {},
     "output_type": "display_data"
    }
   ],
   "source": [
    "display(completed_df.groupby(['profile_id', 'offer_id', 'completed_time'])['dummy_count']\\\n",
    "        .sum().sort_values(ascending=False).reset_index().head())"
   ]
  },
  {
   "cell_type": "markdown",
   "metadata": {},
   "source": [
    "The dataframe above shows that person `3526938fb466470190a504a751ec07b0` completes the offer `0b1e1539f2cc45b7b9fa7c272da2e1d7` three times, all at the same timestamp of `510`"
   ]
  },
  {
   "cell_type": "markdown",
   "metadata": {},
   "source": [
    "To prevent the instances from being assigned the same rank, we will assign a particular number `dummy_rank` that signifies the running number of occurence of a particular complete event.\n",
    "\n",
    "The same .rank() method will be used, albeit with the argument `method='first'`"
   ]
  },
  {
   "cell_type": "code",
   "execution_count": 223,
   "metadata": {},
   "outputs": [],
   "source": [
    "completed_df['dummy_rank'] = completed_df.groupby(['profile_id', 'offer_id', 'completed_time'])['dummy_count']\\\n",
    "    .rank(method='first')"
   ]
  },
  {
   "cell_type": "code",
   "execution_count": 224,
   "metadata": {},
   "outputs": [
    {
     "data": {
      "text/html": [
       "<div>\n",
       "<style scoped>\n",
       "    .dataframe tbody tr th:only-of-type {\n",
       "        vertical-align: middle;\n",
       "    }\n",
       "\n",
       "    .dataframe tbody tr th {\n",
       "        vertical-align: top;\n",
       "    }\n",
       "\n",
       "    .dataframe thead th {\n",
       "        text-align: right;\n",
       "    }\n",
       "</style>\n",
       "<table border=\"1\" class=\"dataframe\">\n",
       "  <thead>\n",
       "    <tr style=\"text-align: right;\">\n",
       "      <th></th>\n",
       "      <th>profile_id</th>\n",
       "      <th>completed_time</th>\n",
       "      <th>offer_id</th>\n",
       "      <th>dummy_count</th>\n",
       "      <th>dummy_rank</th>\n",
       "    </tr>\n",
       "  </thead>\n",
       "  <tbody>\n",
       "    <tr>\n",
       "      <th>220615</th>\n",
       "      <td>3526938fb466470190a504a751ec07b0</td>\n",
       "      <td>510</td>\n",
       "      <td>0b1e1539f2cc45b7b9fa7c272da2e1d7</td>\n",
       "      <td>1</td>\n",
       "      <td>1.0</td>\n",
       "    </tr>\n",
       "    <tr>\n",
       "      <th>220616</th>\n",
       "      <td>3526938fb466470190a504a751ec07b0</td>\n",
       "      <td>510</td>\n",
       "      <td>0b1e1539f2cc45b7b9fa7c272da2e1d7</td>\n",
       "      <td>1</td>\n",
       "      <td>2.0</td>\n",
       "    </tr>\n",
       "    <tr>\n",
       "      <th>220617</th>\n",
       "      <td>3526938fb466470190a504a751ec07b0</td>\n",
       "      <td>510</td>\n",
       "      <td>0b1e1539f2cc45b7b9fa7c272da2e1d7</td>\n",
       "      <td>1</td>\n",
       "      <td>3.0</td>\n",
       "    </tr>\n",
       "  </tbody>\n",
       "</table>\n",
       "</div>"
      ],
      "text/plain": [
       "                              profile_id  completed_time  \\\n",
       "220615  3526938fb466470190a504a751ec07b0             510   \n",
       "220616  3526938fb466470190a504a751ec07b0             510   \n",
       "220617  3526938fb466470190a504a751ec07b0             510   \n",
       "\n",
       "                                offer_id  dummy_count  dummy_rank  \n",
       "220615  0b1e1539f2cc45b7b9fa7c272da2e1d7            1         1.0  \n",
       "220616  0b1e1539f2cc45b7b9fa7c272da2e1d7            1         2.0  \n",
       "220617  0b1e1539f2cc45b7b9fa7c272da2e1d7            1         3.0  "
      ]
     },
     "metadata": {},
     "output_type": "display_data"
    }
   ],
   "source": [
    "display(completed_df[\n",
    "    (completed_df['profile_id'] == '3526938fb466470190a504a751ec07b0') &\n",
    "    (completed_df['offer_id'] == '0b1e1539f2cc45b7b9fa7c272da2e1d7')\n",
    "])"
   ]
  },
  {
   "cell_type": "markdown",
   "metadata": {},
   "source": [
    "Now, the three completed events have different ranks, and this will be to generate a dummy time variable `dummy_completed_time`, by which we will order the completed events and assign the rank."
   ]
  },
  {
   "cell_type": "code",
   "execution_count": 225,
   "metadata": {},
   "outputs": [],
   "source": [
    "# Generate dummy_completed_time by adding 0.1 of dummy_rank to completed_time\n",
    "completed_df['dummy_completed_time'] = completed_df['completed_time'] + completed_df['dummy_rank'] / 10"
   ]
  },
  {
   "cell_type": "markdown",
   "metadata": {},
   "source": [
    "We will proceed with similar steps to assign a 1-1 mapping between the `received` and `completed` events."
   ]
  },
  {
   "cell_type": "code",
   "execution_count": 226,
   "metadata": {},
   "outputs": [],
   "source": [
    "# Initial join between received and completed tables, this will yield duplicated completed events\n",
    "receive_and_complete = received_df.merge(completed_df, on=['profile_id', 'offer_id'])"
   ]
  },
  {
   "cell_type": "markdown",
   "metadata": {},
   "source": [
    "In addition to the logic of `completed_time` must be larger than or equal of `received_time`, there is another logic that needs to be imposed, that `completed_time` must be smaller than or equal of `expiry_time` that marks the end of validity of a particular offer."
   ]
  },
  {
   "cell_type": "code",
   "execution_count": 227,
   "metadata": {},
   "outputs": [],
   "source": [
    "receive_and_complete = receive_and_complete[\n",
    "    (receive_and_complete['completed_time'] >= receive_and_complete['received_time']) &\n",
    "    (receive_and_complete['completed_time'] <= receive_and_complete['expiry_time'])\n",
    "]"
   ]
  },
  {
   "cell_type": "code",
   "execution_count": 228,
   "metadata": {},
   "outputs": [
    {
     "name": "stdout",
     "output_type": "stream",
     "text": [
      "Received and Completed row count: 35376\n",
      "Original Completed event count: 33579\n"
     ]
    }
   ],
   "source": [
    "print('Received and Completed row count:', len(receive_and_complete))\n",
    "print('Original Completed event count:', len(completed_df))"
   ]
  },
  {
   "cell_type": "markdown",
   "metadata": {},
   "source": [
    "As expected, the number of rows in the joined table exceeds the raw completed event count. \n",
    "\n",
    "We will take similar steps with joining the view event, albeit using `dummy_completed_time` to generate the ranks, also, the logic of assigning the completed event will follow a first-in-first-out order, for example:\n",
    "\n",
    "1. Person `A` receives a particular offer `1` two times, at timestamp `0` and `10`\n",
    "2. Person `A` has 1 completed event for offer `1`, happening at timestamp `15`\n",
    "\n",
    "The completed event will be assigned to the offer received at timestamp `0`."
   ]
  },
  {
   "cell_type": "code",
   "execution_count": 229,
   "metadata": {},
   "outputs": [
    {
     "data": {
      "text/html": [
       "<div>\n",
       "<style scoped>\n",
       "    .dataframe tbody tr th:only-of-type {\n",
       "        vertical-align: middle;\n",
       "    }\n",
       "\n",
       "    .dataframe tbody tr th {\n",
       "        vertical-align: top;\n",
       "    }\n",
       "\n",
       "    .dataframe thead th {\n",
       "        text-align: right;\n",
       "    }\n",
       "</style>\n",
       "<table border=\"1\" class=\"dataframe\">\n",
       "  <thead>\n",
       "    <tr style=\"text-align: right;\">\n",
       "      <th></th>\n",
       "      <th>profile_id</th>\n",
       "      <th>offer_id</th>\n",
       "      <th>completed_time</th>\n",
       "      <th>received_time</th>\n",
       "    </tr>\n",
       "  </thead>\n",
       "  <tbody>\n",
       "    <tr>\n",
       "      <th>6860</th>\n",
       "      <td>3526938fb466470190a504a751ec07b0</td>\n",
       "      <td>0b1e1539f2cc45b7b9fa7c272da2e1d7</td>\n",
       "      <td>510</td>\n",
       "      <td>9</td>\n",
       "    </tr>\n",
       "    <tr>\n",
       "      <th>6920</th>\n",
       "      <td>35b3206b05304a518114bee3e113af09</td>\n",
       "      <td>9b98b8c7a33c4b65b9aebfe6a799e6d9</td>\n",
       "      <td>576</td>\n",
       "      <td>6</td>\n",
       "    </tr>\n",
       "    <tr>\n",
       "      <th>5994</th>\n",
       "      <td>2ea50de315514ccaa5079db4c1ecbc0b</td>\n",
       "      <td>fafdcd668e3743c1bb461111dcafc2a4</td>\n",
       "      <td>528</td>\n",
       "      <td>6</td>\n",
       "    </tr>\n",
       "    <tr>\n",
       "      <th>11731</th>\n",
       "      <td>5a7136999fa240838c28e52359f6533d</td>\n",
       "      <td>fafdcd668e3743c1bb461111dcafc2a4</td>\n",
       "      <td>618</td>\n",
       "      <td>6</td>\n",
       "    </tr>\n",
       "    <tr>\n",
       "      <th>19873</th>\n",
       "      <td>99148a450059428180ed37cb9ab01f62</td>\n",
       "      <td>2906b810c7d4411798c6938adc9daaa5</td>\n",
       "      <td>642</td>\n",
       "      <td>4</td>\n",
       "    </tr>\n",
       "  </tbody>\n",
       "</table>\n",
       "</div>"
      ],
      "text/plain": [
       "                             profile_id                          offer_id  \\\n",
       "6860   3526938fb466470190a504a751ec07b0  0b1e1539f2cc45b7b9fa7c272da2e1d7   \n",
       "6920   35b3206b05304a518114bee3e113af09  9b98b8c7a33c4b65b9aebfe6a799e6d9   \n",
       "5994   2ea50de315514ccaa5079db4c1ecbc0b  fafdcd668e3743c1bb461111dcafc2a4   \n",
       "11731  5a7136999fa240838c28e52359f6533d  fafdcd668e3743c1bb461111dcafc2a4   \n",
       "19873  99148a450059428180ed37cb9ab01f62  2906b810c7d4411798c6938adc9daaa5   \n",
       "\n",
       "       completed_time  received_time  \n",
       "6860              510              9  \n",
       "6920              576              6  \n",
       "5994              528              6  \n",
       "11731             618              6  \n",
       "19873             642              4  "
      ]
     },
     "metadata": {},
     "output_type": "display_data"
    }
   ],
   "source": [
    "# Get completed events assigned to more than one received event\n",
    "complete_count = receive_and_complete.groupby(['profile_id', 'offer_id', 'completed_time'])['received_time'].count().reset_index()\n",
    "duplicated_complete_count = complete_count[complete_count['received_time'] > 1].sort_values(by='received_time', ascending=False)\n",
    "\n",
    "# Get the non duplicated completed events\n",
    "non_duplicated_complete_count = complete_count[complete_count['received_time'] == 1]\n",
    "\n",
    "display(duplicated_complete_count.head())\n",
    "\n",
    "# Subset only the relevant columns\n",
    "duplicated_complete_count = duplicated_complete_count[['profile_id', 'offer_id', 'completed_time']]\n",
    "non_duplicated_complete_count = non_duplicated_complete_count[['profile_id', 'offer_id', 'completed_time']]"
   ]
  },
  {
   "cell_type": "code",
   "execution_count": 230,
   "metadata": {},
   "outputs": [
    {
     "data": {
      "text/html": [
       "<div>\n",
       "<style scoped>\n",
       "    .dataframe tbody tr th:only-of-type {\n",
       "        vertical-align: middle;\n",
       "    }\n",
       "\n",
       "    .dataframe tbody tr th {\n",
       "        vertical-align: top;\n",
       "    }\n",
       "\n",
       "    .dataframe thead th {\n",
       "        text-align: right;\n",
       "    }\n",
       "</style>\n",
       "<table border=\"1\" class=\"dataframe\">\n",
       "  <thead>\n",
       "    <tr style=\"text-align: right;\">\n",
       "      <th></th>\n",
       "      <th>profile_id</th>\n",
       "      <th>received_time</th>\n",
       "      <th>offer_id</th>\n",
       "      <th>difficulty</th>\n",
       "      <th>duration</th>\n",
       "      <th>offer_type</th>\n",
       "      <th>reward</th>\n",
       "      <th>is_email</th>\n",
       "      <th>is_web</th>\n",
       "      <th>is_mobile</th>\n",
       "      <th>is_social</th>\n",
       "      <th>expiry_time</th>\n",
       "      <th>completed_time</th>\n",
       "      <th>dummy_count</th>\n",
       "      <th>dummy_rank</th>\n",
       "      <th>dummy_completed_time</th>\n",
       "    </tr>\n",
       "  </thead>\n",
       "  <tbody>\n",
       "    <tr>\n",
       "      <th>0</th>\n",
       "      <td>3526938fb466470190a504a751ec07b0</td>\n",
       "      <td>336</td>\n",
       "      <td>0b1e1539f2cc45b7b9fa7c272da2e1d7</td>\n",
       "      <td>20</td>\n",
       "      <td>10</td>\n",
       "      <td>discount</td>\n",
       "      <td>5</td>\n",
       "      <td>1</td>\n",
       "      <td>1</td>\n",
       "      <td>0</td>\n",
       "      <td>0</td>\n",
       "      <td>576</td>\n",
       "      <td>510</td>\n",
       "      <td>1</td>\n",
       "      <td>1.0</td>\n",
       "      <td>510.1</td>\n",
       "    </tr>\n",
       "    <tr>\n",
       "      <th>1</th>\n",
       "      <td>3526938fb466470190a504a751ec07b0</td>\n",
       "      <td>336</td>\n",
       "      <td>0b1e1539f2cc45b7b9fa7c272da2e1d7</td>\n",
       "      <td>20</td>\n",
       "      <td>10</td>\n",
       "      <td>discount</td>\n",
       "      <td>5</td>\n",
       "      <td>1</td>\n",
       "      <td>1</td>\n",
       "      <td>0</td>\n",
       "      <td>0</td>\n",
       "      <td>576</td>\n",
       "      <td>510</td>\n",
       "      <td>1</td>\n",
       "      <td>2.0</td>\n",
       "      <td>510.2</td>\n",
       "    </tr>\n",
       "    <tr>\n",
       "      <th>2</th>\n",
       "      <td>3526938fb466470190a504a751ec07b0</td>\n",
       "      <td>336</td>\n",
       "      <td>0b1e1539f2cc45b7b9fa7c272da2e1d7</td>\n",
       "      <td>20</td>\n",
       "      <td>10</td>\n",
       "      <td>discount</td>\n",
       "      <td>5</td>\n",
       "      <td>1</td>\n",
       "      <td>1</td>\n",
       "      <td>0</td>\n",
       "      <td>0</td>\n",
       "      <td>576</td>\n",
       "      <td>510</td>\n",
       "      <td>1</td>\n",
       "      <td>3.0</td>\n",
       "      <td>510.3</td>\n",
       "    </tr>\n",
       "    <tr>\n",
       "      <th>3</th>\n",
       "      <td>3526938fb466470190a504a751ec07b0</td>\n",
       "      <td>408</td>\n",
       "      <td>0b1e1539f2cc45b7b9fa7c272da2e1d7</td>\n",
       "      <td>20</td>\n",
       "      <td>10</td>\n",
       "      <td>discount</td>\n",
       "      <td>5</td>\n",
       "      <td>1</td>\n",
       "      <td>1</td>\n",
       "      <td>0</td>\n",
       "      <td>0</td>\n",
       "      <td>648</td>\n",
       "      <td>510</td>\n",
       "      <td>1</td>\n",
       "      <td>1.0</td>\n",
       "      <td>510.1</td>\n",
       "    </tr>\n",
       "    <tr>\n",
       "      <th>4</th>\n",
       "      <td>3526938fb466470190a504a751ec07b0</td>\n",
       "      <td>408</td>\n",
       "      <td>0b1e1539f2cc45b7b9fa7c272da2e1d7</td>\n",
       "      <td>20</td>\n",
       "      <td>10</td>\n",
       "      <td>discount</td>\n",
       "      <td>5</td>\n",
       "      <td>1</td>\n",
       "      <td>1</td>\n",
       "      <td>0</td>\n",
       "      <td>0</td>\n",
       "      <td>648</td>\n",
       "      <td>510</td>\n",
       "      <td>1</td>\n",
       "      <td>2.0</td>\n",
       "      <td>510.2</td>\n",
       "    </tr>\n",
       "    <tr>\n",
       "      <th>5</th>\n",
       "      <td>3526938fb466470190a504a751ec07b0</td>\n",
       "      <td>408</td>\n",
       "      <td>0b1e1539f2cc45b7b9fa7c272da2e1d7</td>\n",
       "      <td>20</td>\n",
       "      <td>10</td>\n",
       "      <td>discount</td>\n",
       "      <td>5</td>\n",
       "      <td>1</td>\n",
       "      <td>1</td>\n",
       "      <td>0</td>\n",
       "      <td>0</td>\n",
       "      <td>648</td>\n",
       "      <td>510</td>\n",
       "      <td>1</td>\n",
       "      <td>3.0</td>\n",
       "      <td>510.3</td>\n",
       "    </tr>\n",
       "    <tr>\n",
       "      <th>6</th>\n",
       "      <td>3526938fb466470190a504a751ec07b0</td>\n",
       "      <td>504</td>\n",
       "      <td>0b1e1539f2cc45b7b9fa7c272da2e1d7</td>\n",
       "      <td>20</td>\n",
       "      <td>10</td>\n",
       "      <td>discount</td>\n",
       "      <td>5</td>\n",
       "      <td>1</td>\n",
       "      <td>1</td>\n",
       "      <td>0</td>\n",
       "      <td>0</td>\n",
       "      <td>744</td>\n",
       "      <td>510</td>\n",
       "      <td>1</td>\n",
       "      <td>1.0</td>\n",
       "      <td>510.1</td>\n",
       "    </tr>\n",
       "    <tr>\n",
       "      <th>7</th>\n",
       "      <td>3526938fb466470190a504a751ec07b0</td>\n",
       "      <td>504</td>\n",
       "      <td>0b1e1539f2cc45b7b9fa7c272da2e1d7</td>\n",
       "      <td>20</td>\n",
       "      <td>10</td>\n",
       "      <td>discount</td>\n",
       "      <td>5</td>\n",
       "      <td>1</td>\n",
       "      <td>1</td>\n",
       "      <td>0</td>\n",
       "      <td>0</td>\n",
       "      <td>744</td>\n",
       "      <td>510</td>\n",
       "      <td>1</td>\n",
       "      <td>2.0</td>\n",
       "      <td>510.2</td>\n",
       "    </tr>\n",
       "    <tr>\n",
       "      <th>8</th>\n",
       "      <td>3526938fb466470190a504a751ec07b0</td>\n",
       "      <td>504</td>\n",
       "      <td>0b1e1539f2cc45b7b9fa7c272da2e1d7</td>\n",
       "      <td>20</td>\n",
       "      <td>10</td>\n",
       "      <td>discount</td>\n",
       "      <td>5</td>\n",
       "      <td>1</td>\n",
       "      <td>1</td>\n",
       "      <td>0</td>\n",
       "      <td>0</td>\n",
       "      <td>744</td>\n",
       "      <td>510</td>\n",
       "      <td>1</td>\n",
       "      <td>3.0</td>\n",
       "      <td>510.3</td>\n",
       "    </tr>\n",
       "  </tbody>\n",
       "</table>\n",
       "</div>"
      ],
      "text/plain": [
       "                         profile_id  received_time  \\\n",
       "0  3526938fb466470190a504a751ec07b0            336   \n",
       "1  3526938fb466470190a504a751ec07b0            336   \n",
       "2  3526938fb466470190a504a751ec07b0            336   \n",
       "3  3526938fb466470190a504a751ec07b0            408   \n",
       "4  3526938fb466470190a504a751ec07b0            408   \n",
       "5  3526938fb466470190a504a751ec07b0            408   \n",
       "6  3526938fb466470190a504a751ec07b0            504   \n",
       "7  3526938fb466470190a504a751ec07b0            504   \n",
       "8  3526938fb466470190a504a751ec07b0            504   \n",
       "\n",
       "                           offer_id  difficulty  duration offer_type  reward  \\\n",
       "0  0b1e1539f2cc45b7b9fa7c272da2e1d7          20        10   discount       5   \n",
       "1  0b1e1539f2cc45b7b9fa7c272da2e1d7          20        10   discount       5   \n",
       "2  0b1e1539f2cc45b7b9fa7c272da2e1d7          20        10   discount       5   \n",
       "3  0b1e1539f2cc45b7b9fa7c272da2e1d7          20        10   discount       5   \n",
       "4  0b1e1539f2cc45b7b9fa7c272da2e1d7          20        10   discount       5   \n",
       "5  0b1e1539f2cc45b7b9fa7c272da2e1d7          20        10   discount       5   \n",
       "6  0b1e1539f2cc45b7b9fa7c272da2e1d7          20        10   discount       5   \n",
       "7  0b1e1539f2cc45b7b9fa7c272da2e1d7          20        10   discount       5   \n",
       "8  0b1e1539f2cc45b7b9fa7c272da2e1d7          20        10   discount       5   \n",
       "\n",
       "   is_email  is_web  is_mobile  is_social  expiry_time  completed_time  \\\n",
       "0         1       1          0          0          576             510   \n",
       "1         1       1          0          0          576             510   \n",
       "2         1       1          0          0          576             510   \n",
       "3         1       1          0          0          648             510   \n",
       "4         1       1          0          0          648             510   \n",
       "5         1       1          0          0          648             510   \n",
       "6         1       1          0          0          744             510   \n",
       "7         1       1          0          0          744             510   \n",
       "8         1       1          0          0          744             510   \n",
       "\n",
       "   dummy_count  dummy_rank  dummy_completed_time  \n",
       "0            1         1.0                 510.1  \n",
       "1            1         2.0                 510.2  \n",
       "2            1         3.0                 510.3  \n",
       "3            1         1.0                 510.1  \n",
       "4            1         2.0                 510.2  \n",
       "5            1         3.0                 510.3  \n",
       "6            1         1.0                 510.1  \n",
       "7            1         2.0                 510.2  \n",
       "8            1         3.0                 510.3  "
      ]
     },
     "metadata": {},
     "output_type": "display_data"
    }
   ],
   "source": [
    "display(receive_and_complete.merge(duplicated_complete_count.head(1)[['profile_id', 'offer_id']], on=['profile_id', 'offer_id']))"
   ]
  },
  {
   "cell_type": "code",
   "execution_count": 231,
   "metadata": {},
   "outputs": [],
   "source": [
    "non_duplicated_completes = receive_and_complete\\\n",
    "    .merge(non_duplicated_complete_count, on=['profile_id', 'offer_id', 'completed_time'])\n",
    "\n",
    "non_duplicated_completes['not_duplicated'] = 1\n",
    "\n",
    "# Create a helper table to exclude the received offers that has already been assigned a \n",
    "# non_duplicated completed event\n",
    "checker_completed = non_duplicated_completes[['profile_id', 'offer_id', 'received_time', 'not_duplicated']].drop_duplicates()\n",
    "\n",
    "duplicated_completes = receive_and_complete.merge(duplicated_complete_count, on=['profile_id', 'offer_id', 'completed_time'])\n",
    "duplicated_completes = duplicated_completes.merge(checker_completed, on=['profile_id','offer_id','received_time'], how='left')\n",
    "\n",
    "duplicated_completes['not_duplicated'] = duplicated_completes['not_duplicated'].fillna(0)\n",
    "duplicated_completes = duplicated_completes[duplicated_completes['not_duplicated'] == 0]"
   ]
  },
  {
   "cell_type": "code",
   "execution_count": 232,
   "metadata": {},
   "outputs": [],
   "source": [
    "# Create the ranking column, with first-in-first-out logic\n",
    "duplicated_completes['same_offer_receive_order'] = duplicated_completes.sort_values(by='received_time', ascending=True).groupby(['profile_id', 'offer_id'])['received_time'].rank(method='dense')\n",
    "duplicated_completes['same_offer_complete_order'] = duplicated_completes.sort_values(by='dummy_completed_time', ascending=True).groupby(['profile_id', 'offer_id'])['dummy_completed_time'].rank(method='dense')"
   ]
  },
  {
   "cell_type": "code",
   "execution_count": 233,
   "metadata": {},
   "outputs": [
    {
     "data": {
      "text/html": [
       "<div>\n",
       "<style scoped>\n",
       "    .dataframe tbody tr th:only-of-type {\n",
       "        vertical-align: middle;\n",
       "    }\n",
       "\n",
       "    .dataframe tbody tr th {\n",
       "        vertical-align: top;\n",
       "    }\n",
       "\n",
       "    .dataframe thead th {\n",
       "        text-align: right;\n",
       "    }\n",
       "</style>\n",
       "<table border=\"1\" class=\"dataframe\">\n",
       "  <thead>\n",
       "    <tr style=\"text-align: right;\">\n",
       "      <th></th>\n",
       "      <th>profile_id</th>\n",
       "      <th>received_time</th>\n",
       "      <th>offer_id</th>\n",
       "      <th>difficulty</th>\n",
       "      <th>duration</th>\n",
       "      <th>offer_type</th>\n",
       "      <th>reward</th>\n",
       "      <th>is_email</th>\n",
       "      <th>is_web</th>\n",
       "      <th>is_mobile</th>\n",
       "      <th>is_social</th>\n",
       "      <th>expiry_time</th>\n",
       "      <th>completed_time</th>\n",
       "      <th>dummy_count</th>\n",
       "      <th>dummy_rank</th>\n",
       "      <th>dummy_completed_time</th>\n",
       "      <th>not_duplicated</th>\n",
       "      <th>same_offer_receive_order</th>\n",
       "      <th>same_offer_complete_order</th>\n",
       "    </tr>\n",
       "  </thead>\n",
       "  <tbody>\n",
       "    <tr>\n",
       "      <th>434</th>\n",
       "      <td>3526938fb466470190a504a751ec07b0</td>\n",
       "      <td>336</td>\n",
       "      <td>0b1e1539f2cc45b7b9fa7c272da2e1d7</td>\n",
       "      <td>20</td>\n",
       "      <td>10</td>\n",
       "      <td>discount</td>\n",
       "      <td>5</td>\n",
       "      <td>1</td>\n",
       "      <td>1</td>\n",
       "      <td>0</td>\n",
       "      <td>0</td>\n",
       "      <td>576</td>\n",
       "      <td>510</td>\n",
       "      <td>1</td>\n",
       "      <td>1.0</td>\n",
       "      <td>510.1</td>\n",
       "      <td>0.0</td>\n",
       "      <td>1.0</td>\n",
       "      <td>1.0</td>\n",
       "    </tr>\n",
       "    <tr>\n",
       "      <th>435</th>\n",
       "      <td>3526938fb466470190a504a751ec07b0</td>\n",
       "      <td>336</td>\n",
       "      <td>0b1e1539f2cc45b7b9fa7c272da2e1d7</td>\n",
       "      <td>20</td>\n",
       "      <td>10</td>\n",
       "      <td>discount</td>\n",
       "      <td>5</td>\n",
       "      <td>1</td>\n",
       "      <td>1</td>\n",
       "      <td>0</td>\n",
       "      <td>0</td>\n",
       "      <td>576</td>\n",
       "      <td>510</td>\n",
       "      <td>1</td>\n",
       "      <td>2.0</td>\n",
       "      <td>510.2</td>\n",
       "      <td>0.0</td>\n",
       "      <td>1.0</td>\n",
       "      <td>2.0</td>\n",
       "    </tr>\n",
       "    <tr>\n",
       "      <th>436</th>\n",
       "      <td>3526938fb466470190a504a751ec07b0</td>\n",
       "      <td>336</td>\n",
       "      <td>0b1e1539f2cc45b7b9fa7c272da2e1d7</td>\n",
       "      <td>20</td>\n",
       "      <td>10</td>\n",
       "      <td>discount</td>\n",
       "      <td>5</td>\n",
       "      <td>1</td>\n",
       "      <td>1</td>\n",
       "      <td>0</td>\n",
       "      <td>0</td>\n",
       "      <td>576</td>\n",
       "      <td>510</td>\n",
       "      <td>1</td>\n",
       "      <td>3.0</td>\n",
       "      <td>510.3</td>\n",
       "      <td>0.0</td>\n",
       "      <td>1.0</td>\n",
       "      <td>3.0</td>\n",
       "    </tr>\n",
       "    <tr>\n",
       "      <th>437</th>\n",
       "      <td>3526938fb466470190a504a751ec07b0</td>\n",
       "      <td>408</td>\n",
       "      <td>0b1e1539f2cc45b7b9fa7c272da2e1d7</td>\n",
       "      <td>20</td>\n",
       "      <td>10</td>\n",
       "      <td>discount</td>\n",
       "      <td>5</td>\n",
       "      <td>1</td>\n",
       "      <td>1</td>\n",
       "      <td>0</td>\n",
       "      <td>0</td>\n",
       "      <td>648</td>\n",
       "      <td>510</td>\n",
       "      <td>1</td>\n",
       "      <td>1.0</td>\n",
       "      <td>510.1</td>\n",
       "      <td>0.0</td>\n",
       "      <td>2.0</td>\n",
       "      <td>1.0</td>\n",
       "    </tr>\n",
       "    <tr>\n",
       "      <th>438</th>\n",
       "      <td>3526938fb466470190a504a751ec07b0</td>\n",
       "      <td>408</td>\n",
       "      <td>0b1e1539f2cc45b7b9fa7c272da2e1d7</td>\n",
       "      <td>20</td>\n",
       "      <td>10</td>\n",
       "      <td>discount</td>\n",
       "      <td>5</td>\n",
       "      <td>1</td>\n",
       "      <td>1</td>\n",
       "      <td>0</td>\n",
       "      <td>0</td>\n",
       "      <td>648</td>\n",
       "      <td>510</td>\n",
       "      <td>1</td>\n",
       "      <td>2.0</td>\n",
       "      <td>510.2</td>\n",
       "      <td>0.0</td>\n",
       "      <td>2.0</td>\n",
       "      <td>2.0</td>\n",
       "    </tr>\n",
       "    <tr>\n",
       "      <th>439</th>\n",
       "      <td>3526938fb466470190a504a751ec07b0</td>\n",
       "      <td>408</td>\n",
       "      <td>0b1e1539f2cc45b7b9fa7c272da2e1d7</td>\n",
       "      <td>20</td>\n",
       "      <td>10</td>\n",
       "      <td>discount</td>\n",
       "      <td>5</td>\n",
       "      <td>1</td>\n",
       "      <td>1</td>\n",
       "      <td>0</td>\n",
       "      <td>0</td>\n",
       "      <td>648</td>\n",
       "      <td>510</td>\n",
       "      <td>1</td>\n",
       "      <td>3.0</td>\n",
       "      <td>510.3</td>\n",
       "      <td>0.0</td>\n",
       "      <td>2.0</td>\n",
       "      <td>3.0</td>\n",
       "    </tr>\n",
       "    <tr>\n",
       "      <th>440</th>\n",
       "      <td>3526938fb466470190a504a751ec07b0</td>\n",
       "      <td>504</td>\n",
       "      <td>0b1e1539f2cc45b7b9fa7c272da2e1d7</td>\n",
       "      <td>20</td>\n",
       "      <td>10</td>\n",
       "      <td>discount</td>\n",
       "      <td>5</td>\n",
       "      <td>1</td>\n",
       "      <td>1</td>\n",
       "      <td>0</td>\n",
       "      <td>0</td>\n",
       "      <td>744</td>\n",
       "      <td>510</td>\n",
       "      <td>1</td>\n",
       "      <td>1.0</td>\n",
       "      <td>510.1</td>\n",
       "      <td>0.0</td>\n",
       "      <td>3.0</td>\n",
       "      <td>1.0</td>\n",
       "    </tr>\n",
       "    <tr>\n",
       "      <th>441</th>\n",
       "      <td>3526938fb466470190a504a751ec07b0</td>\n",
       "      <td>504</td>\n",
       "      <td>0b1e1539f2cc45b7b9fa7c272da2e1d7</td>\n",
       "      <td>20</td>\n",
       "      <td>10</td>\n",
       "      <td>discount</td>\n",
       "      <td>5</td>\n",
       "      <td>1</td>\n",
       "      <td>1</td>\n",
       "      <td>0</td>\n",
       "      <td>0</td>\n",
       "      <td>744</td>\n",
       "      <td>510</td>\n",
       "      <td>1</td>\n",
       "      <td>2.0</td>\n",
       "      <td>510.2</td>\n",
       "      <td>0.0</td>\n",
       "      <td>3.0</td>\n",
       "      <td>2.0</td>\n",
       "    </tr>\n",
       "    <tr>\n",
       "      <th>442</th>\n",
       "      <td>3526938fb466470190a504a751ec07b0</td>\n",
       "      <td>504</td>\n",
       "      <td>0b1e1539f2cc45b7b9fa7c272da2e1d7</td>\n",
       "      <td>20</td>\n",
       "      <td>10</td>\n",
       "      <td>discount</td>\n",
       "      <td>5</td>\n",
       "      <td>1</td>\n",
       "      <td>1</td>\n",
       "      <td>0</td>\n",
       "      <td>0</td>\n",
       "      <td>744</td>\n",
       "      <td>510</td>\n",
       "      <td>1</td>\n",
       "      <td>3.0</td>\n",
       "      <td>510.3</td>\n",
       "      <td>0.0</td>\n",
       "      <td>3.0</td>\n",
       "      <td>3.0</td>\n",
       "    </tr>\n",
       "  </tbody>\n",
       "</table>\n",
       "</div>"
      ],
      "text/plain": [
       "                           profile_id  received_time  \\\n",
       "434  3526938fb466470190a504a751ec07b0            336   \n",
       "435  3526938fb466470190a504a751ec07b0            336   \n",
       "436  3526938fb466470190a504a751ec07b0            336   \n",
       "437  3526938fb466470190a504a751ec07b0            408   \n",
       "438  3526938fb466470190a504a751ec07b0            408   \n",
       "439  3526938fb466470190a504a751ec07b0            408   \n",
       "440  3526938fb466470190a504a751ec07b0            504   \n",
       "441  3526938fb466470190a504a751ec07b0            504   \n",
       "442  3526938fb466470190a504a751ec07b0            504   \n",
       "\n",
       "                             offer_id  difficulty  duration offer_type  \\\n",
       "434  0b1e1539f2cc45b7b9fa7c272da2e1d7          20        10   discount   \n",
       "435  0b1e1539f2cc45b7b9fa7c272da2e1d7          20        10   discount   \n",
       "436  0b1e1539f2cc45b7b9fa7c272da2e1d7          20        10   discount   \n",
       "437  0b1e1539f2cc45b7b9fa7c272da2e1d7          20        10   discount   \n",
       "438  0b1e1539f2cc45b7b9fa7c272da2e1d7          20        10   discount   \n",
       "439  0b1e1539f2cc45b7b9fa7c272da2e1d7          20        10   discount   \n",
       "440  0b1e1539f2cc45b7b9fa7c272da2e1d7          20        10   discount   \n",
       "441  0b1e1539f2cc45b7b9fa7c272da2e1d7          20        10   discount   \n",
       "442  0b1e1539f2cc45b7b9fa7c272da2e1d7          20        10   discount   \n",
       "\n",
       "     reward  is_email  is_web  is_mobile  is_social  expiry_time  \\\n",
       "434       5         1       1          0          0          576   \n",
       "435       5         1       1          0          0          576   \n",
       "436       5         1       1          0          0          576   \n",
       "437       5         1       1          0          0          648   \n",
       "438       5         1       1          0          0          648   \n",
       "439       5         1       1          0          0          648   \n",
       "440       5         1       1          0          0          744   \n",
       "441       5         1       1          0          0          744   \n",
       "442       5         1       1          0          0          744   \n",
       "\n",
       "     completed_time  dummy_count  dummy_rank  dummy_completed_time  \\\n",
       "434             510            1         1.0                 510.1   \n",
       "435             510            1         2.0                 510.2   \n",
       "436             510            1         3.0                 510.3   \n",
       "437             510            1         1.0                 510.1   \n",
       "438             510            1         2.0                 510.2   \n",
       "439             510            1         3.0                 510.3   \n",
       "440             510            1         1.0                 510.1   \n",
       "441             510            1         2.0                 510.2   \n",
       "442             510            1         3.0                 510.3   \n",
       "\n",
       "     not_duplicated  same_offer_receive_order  same_offer_complete_order  \n",
       "434             0.0                       1.0                        1.0  \n",
       "435             0.0                       1.0                        2.0  \n",
       "436             0.0                       1.0                        3.0  \n",
       "437             0.0                       2.0                        1.0  \n",
       "438             0.0                       2.0                        2.0  \n",
       "439             0.0                       2.0                        3.0  \n",
       "440             0.0                       3.0                        1.0  \n",
       "441             0.0                       3.0                        2.0  \n",
       "442             0.0                       3.0                        3.0  "
      ]
     },
     "execution_count": 233,
     "metadata": {},
     "output_type": "execute_result"
    }
   ],
   "source": [
    "duplicated_completes[duplicated_completes['profile_id'] == '3526938fb466470190a504a751ec07b0']"
   ]
  },
  {
   "cell_type": "code",
   "execution_count": 234,
   "metadata": {},
   "outputs": [],
   "source": [
    "# Filter out the pairing having same ranking\n",
    "fixed_duplicated_completes = duplicated_completes[\n",
    "    (duplicated_completes['same_offer_receive_order'] == duplicated_completes['same_offer_complete_order'])\n",
    "]\n",
    "\n",
    "fixed_duplicated_completes = fixed_duplicated_completes.drop(['same_offer_receive_order', 'same_offer_complete_order'], axis=1)"
   ]
  },
  {
   "cell_type": "code",
   "execution_count": 235,
   "metadata": {},
   "outputs": [],
   "source": [
    "receive_and_complete = pd.concat([non_duplicated_completes, fixed_duplicated_completes])"
   ]
  },
  {
   "cell_type": "code",
   "execution_count": 236,
   "metadata": {},
   "outputs": [
    {
     "data": {
      "text/html": [
       "<div>\n",
       "<style scoped>\n",
       "    .dataframe tbody tr th:only-of-type {\n",
       "        vertical-align: middle;\n",
       "    }\n",
       "\n",
       "    .dataframe tbody tr th {\n",
       "        vertical-align: top;\n",
       "    }\n",
       "\n",
       "    .dataframe thead th {\n",
       "        text-align: right;\n",
       "    }\n",
       "</style>\n",
       "<table border=\"1\" class=\"dataframe\">\n",
       "  <thead>\n",
       "    <tr style=\"text-align: right;\">\n",
       "      <th></th>\n",
       "      <th>profile_id</th>\n",
       "      <th>offer_id</th>\n",
       "      <th>completed_time</th>\n",
       "      <th>received_time</th>\n",
       "    </tr>\n",
       "  </thead>\n",
       "  <tbody>\n",
       "    <tr>\n",
       "      <th>6860</th>\n",
       "      <td>3526938fb466470190a504a751ec07b0</td>\n",
       "      <td>0b1e1539f2cc45b7b9fa7c272da2e1d7</td>\n",
       "      <td>510</td>\n",
       "      <td>3</td>\n",
       "    </tr>\n",
       "    <tr>\n",
       "      <th>18099</th>\n",
       "      <td>8b9d3f738e7e499b9e820de07c16bc62</td>\n",
       "      <td>2906b810c7d4411798c6938adc9daaa5</td>\n",
       "      <td>630</td>\n",
       "      <td>2</td>\n",
       "    </tr>\n",
       "    <tr>\n",
       "      <th>13727</th>\n",
       "      <td>69743d51492d4173b0e054fd5d8f943c</td>\n",
       "      <td>f19421c1d4aa40978ebb69ca19b0e20d</td>\n",
       "      <td>576</td>\n",
       "      <td>2</td>\n",
       "    </tr>\n",
       "    <tr>\n",
       "      <th>14244</th>\n",
       "      <td>6d6c0aa032064438b97ab5dc28fd1b61</td>\n",
       "      <td>9b98b8c7a33c4b65b9aebfe6a799e6d9</td>\n",
       "      <td>432</td>\n",
       "      <td>2</td>\n",
       "    </tr>\n",
       "    <tr>\n",
       "      <th>2010</th>\n",
       "      <td>0f6cf9619c4341e89a099e951300a2ea</td>\n",
       "      <td>0b1e1539f2cc45b7b9fa7c272da2e1d7</td>\n",
       "      <td>552</td>\n",
       "      <td>2</td>\n",
       "    </tr>\n",
       "  </tbody>\n",
       "</table>\n",
       "</div>"
      ],
      "text/plain": [
       "                             profile_id                          offer_id  \\\n",
       "6860   3526938fb466470190a504a751ec07b0  0b1e1539f2cc45b7b9fa7c272da2e1d7   \n",
       "18099  8b9d3f738e7e499b9e820de07c16bc62  2906b810c7d4411798c6938adc9daaa5   \n",
       "13727  69743d51492d4173b0e054fd5d8f943c  f19421c1d4aa40978ebb69ca19b0e20d   \n",
       "14244  6d6c0aa032064438b97ab5dc28fd1b61  9b98b8c7a33c4b65b9aebfe6a799e6d9   \n",
       "2010   0f6cf9619c4341e89a099e951300a2ea  0b1e1539f2cc45b7b9fa7c272da2e1d7   \n",
       "\n",
       "       completed_time  received_time  \n",
       "6860              510              3  \n",
       "18099             630              2  \n",
       "13727             576              2  \n",
       "14244             432              2  \n",
       "2010              552              2  "
      ]
     },
     "metadata": {},
     "output_type": "display_data"
    },
    {
     "data": {
      "text/html": [
       "<div>\n",
       "<style scoped>\n",
       "    .dataframe tbody tr th:only-of-type {\n",
       "        vertical-align: middle;\n",
       "    }\n",
       "\n",
       "    .dataframe tbody tr th {\n",
       "        vertical-align: top;\n",
       "    }\n",
       "\n",
       "    .dataframe thead th {\n",
       "        text-align: right;\n",
       "    }\n",
       "</style>\n",
       "<table border=\"1\" class=\"dataframe\">\n",
       "  <thead>\n",
       "    <tr style=\"text-align: right;\">\n",
       "      <th></th>\n",
       "      <th>profile_id</th>\n",
       "      <th>offer_id</th>\n",
       "      <th>received_time</th>\n",
       "      <th>completed_time</th>\n",
       "    </tr>\n",
       "  </thead>\n",
       "  <tbody>\n",
       "    <tr>\n",
       "      <th>0</th>\n",
       "      <td>0009655768c64bdeb2e877511632db8f</td>\n",
       "      <td>2906b810c7d4411798c6938adc9daaa5</td>\n",
       "      <td>576</td>\n",
       "      <td>1</td>\n",
       "    </tr>\n",
       "    <tr>\n",
       "      <th>22396</th>\n",
       "      <td>a960ae2cd3d04791ac3ca5799a2ad01a</td>\n",
       "      <td>2298d6c36e964ae4a3e7e9706d1fb8c2</td>\n",
       "      <td>0</td>\n",
       "      <td>1</td>\n",
       "    </tr>\n",
       "    <tr>\n",
       "      <th>22394</th>\n",
       "      <td>a95c94e9e8444d3ea4e10d2b96c6bba4</td>\n",
       "      <td>ae264e3637204a6fb9bb56bc8210ddfd</td>\n",
       "      <td>0</td>\n",
       "      <td>1</td>\n",
       "    </tr>\n",
       "    <tr>\n",
       "      <th>22393</th>\n",
       "      <td>a95c8b2d84b04c22b525d6fec9e1dda3</td>\n",
       "      <td>fafdcd668e3743c1bb461111dcafc2a4</td>\n",
       "      <td>336</td>\n",
       "      <td>1</td>\n",
       "    </tr>\n",
       "    <tr>\n",
       "      <th>22392</th>\n",
       "      <td>a95c8b2d84b04c22b525d6fec9e1dda3</td>\n",
       "      <td>9b98b8c7a33c4b65b9aebfe6a799e6d9</td>\n",
       "      <td>576</td>\n",
       "      <td>1</td>\n",
       "    </tr>\n",
       "  </tbody>\n",
       "</table>\n",
       "</div>"
      ],
      "text/plain": [
       "                             profile_id                          offer_id  \\\n",
       "0      0009655768c64bdeb2e877511632db8f  2906b810c7d4411798c6938adc9daaa5   \n",
       "22396  a960ae2cd3d04791ac3ca5799a2ad01a  2298d6c36e964ae4a3e7e9706d1fb8c2   \n",
       "22394  a95c94e9e8444d3ea4e10d2b96c6bba4  ae264e3637204a6fb9bb56bc8210ddfd   \n",
       "22393  a95c8b2d84b04c22b525d6fec9e1dda3  fafdcd668e3743c1bb461111dcafc2a4   \n",
       "22392  a95c8b2d84b04c22b525d6fec9e1dda3  9b98b8c7a33c4b65b9aebfe6a799e6d9   \n",
       "\n",
       "       received_time  completed_time  \n",
       "0                576               1  \n",
       "22396              0               1  \n",
       "22394              0               1  \n",
       "22393            336               1  \n",
       "22392            576               1  "
      ]
     },
     "metadata": {},
     "output_type": "display_data"
    }
   ],
   "source": [
    "# Check that one complete event is assigned to only one received event\n",
    "check_complete_df = receive_and_complete.groupby(['profile_id', 'offer_id', 'completed_time'])['received_time'].count().reset_index()\n",
    "\n",
    "# Check that one received event is only paired to one completed event\n",
    "check_complete_df_2 = receive_and_complete.groupby(['profile_id', 'offer_id', 'received_time'])['completed_time'].count().reset_index()\n",
    "\n",
    "display(check_complete_df.sort_values(by=['received_time'], ascending=False).head())\n",
    "display(check_complete_df_2.sort_values(by=['completed_time'], ascending=False).head())"
   ]
  },
  {
   "cell_type": "code",
   "execution_count": 237,
   "metadata": {},
   "outputs": [
    {
     "name": "stdout",
     "output_type": "stream",
     "text": [
      "Received and Completed row count: 33579\n",
      "Original Completed event count: 33579\n"
     ]
    }
   ],
   "source": [
    "print('Received and Completed row count:', len(receive_and_complete))\n",
    "print('Original Completed event count:', len(completed_df))"
   ]
  },
  {
   "cell_type": "markdown",
   "metadata": {},
   "source": [
    "With the same checking logic with viewing event, and as both of the tables have their row numbers tally, we can verify that we have managed to do 1-1 mapping of the completed event to the received ones."
   ]
  },
  {
   "cell_type": "code",
   "execution_count": 238,
   "metadata": {},
   "outputs": [],
   "source": [
    "# Subset the relevant columns\n",
    "receive_and_complete = receive_and_complete[['profile_id', 'received_time', 'offer_id', 'completed_time']]"
   ]
  },
  {
   "cell_type": "markdown",
   "metadata": {},
   "source": [
    "We then merge the three tables `received_df`, `receive_and_view` and `receive_and_complete` to complete the detail of a particular offer-person pair. \n",
    "\n",
    "We will store this table called `experiment_df`."
   ]
  },
  {
   "cell_type": "code",
   "execution_count": 239,
   "metadata": {},
   "outputs": [],
   "source": [
    "experiment_df = received_df.merge(receive_and_view, on=['profile_id', 'received_time', 'offer_id'], how='left')\\\n",
    "    .merge(receive_and_complete, on=['profile_id', 'received_time', 'offer_id'], how='left')"
   ]
  },
  {
   "cell_type": "markdown",
   "metadata": {},
   "source": [
    "To assist with labeling the offer-person pair, we will give label `True` if the `viewed_time`/`completed_time` is not `NULL`, else the label will be `False`"
   ]
  },
  {
   "cell_type": "code",
   "execution_count": 240,
   "metadata": {},
   "outputs": [],
   "source": [
    "experiment_df['is_viewed'] = pd.notnull(experiment_df['viewed_time'])\n",
    "experiment_df['is_completed'] = pd.notnull(experiment_df['completed_time'])"
   ]
  },
  {
   "cell_type": "code",
   "execution_count": 241,
   "metadata": {},
   "outputs": [
    {
     "data": {
      "text/html": [
       "<div>\n",
       "<style scoped>\n",
       "    .dataframe tbody tr th:only-of-type {\n",
       "        vertical-align: middle;\n",
       "    }\n",
       "\n",
       "    .dataframe tbody tr th {\n",
       "        vertical-align: top;\n",
       "    }\n",
       "\n",
       "    .dataframe thead th {\n",
       "        text-align: right;\n",
       "    }\n",
       "</style>\n",
       "<table border=\"1\" class=\"dataframe\">\n",
       "  <thead>\n",
       "    <tr style=\"text-align: right;\">\n",
       "      <th></th>\n",
       "      <th>profile_id</th>\n",
       "      <th>received_time</th>\n",
       "      <th>offer_id</th>\n",
       "      <th>difficulty</th>\n",
       "      <th>duration</th>\n",
       "      <th>offer_type</th>\n",
       "      <th>reward</th>\n",
       "      <th>is_email</th>\n",
       "      <th>is_web</th>\n",
       "      <th>is_mobile</th>\n",
       "      <th>is_social</th>\n",
       "      <th>expiry_time</th>\n",
       "      <th>viewed_time</th>\n",
       "      <th>completed_time</th>\n",
       "      <th>is_viewed</th>\n",
       "      <th>is_completed</th>\n",
       "    </tr>\n",
       "  </thead>\n",
       "  <tbody>\n",
       "    <tr>\n",
       "      <th>0</th>\n",
       "      <td>78afa995795e4d85b5d9ceeca43f5fef</td>\n",
       "      <td>0</td>\n",
       "      <td>9b98b8c7a33c4b65b9aebfe6a799e6d9</td>\n",
       "      <td>5</td>\n",
       "      <td>7</td>\n",
       "      <td>bogo</td>\n",
       "      <td>5</td>\n",
       "      <td>1</td>\n",
       "      <td>1</td>\n",
       "      <td>1</td>\n",
       "      <td>0</td>\n",
       "      <td>168</td>\n",
       "      <td>6.0</td>\n",
       "      <td>132.0</td>\n",
       "      <td>True</td>\n",
       "      <td>True</td>\n",
       "    </tr>\n",
       "    <tr>\n",
       "      <th>1</th>\n",
       "      <td>ebe7ef46ea6f4963a7dd49f501b26779</td>\n",
       "      <td>0</td>\n",
       "      <td>9b98b8c7a33c4b65b9aebfe6a799e6d9</td>\n",
       "      <td>5</td>\n",
       "      <td>7</td>\n",
       "      <td>bogo</td>\n",
       "      <td>5</td>\n",
       "      <td>1</td>\n",
       "      <td>1</td>\n",
       "      <td>1</td>\n",
       "      <td>0</td>\n",
       "      <td>168</td>\n",
       "      <td>714.0</td>\n",
       "      <td>NaN</td>\n",
       "      <td>True</td>\n",
       "      <td>False</td>\n",
       "    </tr>\n",
       "    <tr>\n",
       "      <th>2</th>\n",
       "      <td>f082d80f0aac47a99173ba8ef8fc1909</td>\n",
       "      <td>0</td>\n",
       "      <td>9b98b8c7a33c4b65b9aebfe6a799e6d9</td>\n",
       "      <td>5</td>\n",
       "      <td>7</td>\n",
       "      <td>bogo</td>\n",
       "      <td>5</td>\n",
       "      <td>1</td>\n",
       "      <td>1</td>\n",
       "      <td>1</td>\n",
       "      <td>0</td>\n",
       "      <td>168</td>\n",
       "      <td>48.0</td>\n",
       "      <td>12.0</td>\n",
       "      <td>True</td>\n",
       "      <td>True</td>\n",
       "    </tr>\n",
       "    <tr>\n",
       "      <th>3</th>\n",
       "      <td>c0d210398dee4a0895b24444a5fcd1d2</td>\n",
       "      <td>0</td>\n",
       "      <td>9b98b8c7a33c4b65b9aebfe6a799e6d9</td>\n",
       "      <td>5</td>\n",
       "      <td>7</td>\n",
       "      <td>bogo</td>\n",
       "      <td>5</td>\n",
       "      <td>1</td>\n",
       "      <td>1</td>\n",
       "      <td>1</td>\n",
       "      <td>0</td>\n",
       "      <td>168</td>\n",
       "      <td>30.0</td>\n",
       "      <td>66.0</td>\n",
       "      <td>True</td>\n",
       "      <td>True</td>\n",
       "    </tr>\n",
       "    <tr>\n",
       "      <th>4</th>\n",
       "      <td>57dd18ec5ddc46828afb81ec5977bef2</td>\n",
       "      <td>0</td>\n",
       "      <td>9b98b8c7a33c4b65b9aebfe6a799e6d9</td>\n",
       "      <td>5</td>\n",
       "      <td>7</td>\n",
       "      <td>bogo</td>\n",
       "      <td>5</td>\n",
       "      <td>1</td>\n",
       "      <td>1</td>\n",
       "      <td>1</td>\n",
       "      <td>0</td>\n",
       "      <td>168</td>\n",
       "      <td>NaN</td>\n",
       "      <td>NaN</td>\n",
       "      <td>False</td>\n",
       "      <td>False</td>\n",
       "    </tr>\n",
       "  </tbody>\n",
       "</table>\n",
       "</div>"
      ],
      "text/plain": [
       "                         profile_id  received_time  \\\n",
       "0  78afa995795e4d85b5d9ceeca43f5fef              0   \n",
       "1  ebe7ef46ea6f4963a7dd49f501b26779              0   \n",
       "2  f082d80f0aac47a99173ba8ef8fc1909              0   \n",
       "3  c0d210398dee4a0895b24444a5fcd1d2              0   \n",
       "4  57dd18ec5ddc46828afb81ec5977bef2              0   \n",
       "\n",
       "                           offer_id  difficulty  duration offer_type  reward  \\\n",
       "0  9b98b8c7a33c4b65b9aebfe6a799e6d9           5         7       bogo       5   \n",
       "1  9b98b8c7a33c4b65b9aebfe6a799e6d9           5         7       bogo       5   \n",
       "2  9b98b8c7a33c4b65b9aebfe6a799e6d9           5         7       bogo       5   \n",
       "3  9b98b8c7a33c4b65b9aebfe6a799e6d9           5         7       bogo       5   \n",
       "4  9b98b8c7a33c4b65b9aebfe6a799e6d9           5         7       bogo       5   \n",
       "\n",
       "   is_email  is_web  is_mobile  is_social  expiry_time  viewed_time  \\\n",
       "0         1       1          1          0          168          6.0   \n",
       "1         1       1          1          0          168        714.0   \n",
       "2         1       1          1          0          168         48.0   \n",
       "3         1       1          1          0          168         30.0   \n",
       "4         1       1          1          0          168          NaN   \n",
       "\n",
       "   completed_time  is_viewed  is_completed  \n",
       "0           132.0       True          True  \n",
       "1             NaN       True         False  \n",
       "2            12.0       True          True  \n",
       "3            66.0       True          True  \n",
       "4             NaN      False         False  "
      ]
     },
     "metadata": {},
     "output_type": "display_data"
    }
   ],
   "source": [
    "display(experiment_df.head())"
   ]
  },
  {
   "cell_type": "markdown",
   "metadata": {},
   "source": [
    "### 1.3.6 Transactions Data\n",
    "\n",
    "In this section, we will also incorporate transactions data into the `experiment_df`. "
   ]
  },
  {
   "cell_type": "code",
   "execution_count": 242,
   "metadata": {},
   "outputs": [
    {
     "data": {
      "text/html": [
       "<div>\n",
       "<style scoped>\n",
       "    .dataframe tbody tr th:only-of-type {\n",
       "        vertical-align: middle;\n",
       "    }\n",
       "\n",
       "    .dataframe tbody tr th {\n",
       "        vertical-align: top;\n",
       "    }\n",
       "\n",
       "    .dataframe thead th {\n",
       "        text-align: right;\n",
       "    }\n",
       "</style>\n",
       "<table border=\"1\" class=\"dataframe\">\n",
       "  <thead>\n",
       "    <tr style=\"text-align: right;\">\n",
       "      <th></th>\n",
       "      <th>event</th>\n",
       "      <th>profile_id</th>\n",
       "      <th>time</th>\n",
       "      <th>value</th>\n",
       "    </tr>\n",
       "  </thead>\n",
       "  <tbody>\n",
       "    <tr>\n",
       "      <th>12654</th>\n",
       "      <td>transaction</td>\n",
       "      <td>02c083884c7d45b39cc68e1314fec56c</td>\n",
       "      <td>0</td>\n",
       "      <td>{'amount': 0.8300000000000001}</td>\n",
       "    </tr>\n",
       "    <tr>\n",
       "      <th>12657</th>\n",
       "      <td>transaction</td>\n",
       "      <td>9fa9ae8f57894cc9a3b8a9bbe0fc1b2f</td>\n",
       "      <td>0</td>\n",
       "      <td>{'amount': 34.56}</td>\n",
       "    </tr>\n",
       "    <tr>\n",
       "      <th>12659</th>\n",
       "      <td>transaction</td>\n",
       "      <td>54890f68699049c2a04d415abc25e717</td>\n",
       "      <td>0</td>\n",
       "      <td>{'amount': 13.23}</td>\n",
       "    </tr>\n",
       "    <tr>\n",
       "      <th>12670</th>\n",
       "      <td>transaction</td>\n",
       "      <td>b2f1cd155b864803ad8334cdf13c4bd2</td>\n",
       "      <td>0</td>\n",
       "      <td>{'amount': 19.51}</td>\n",
       "    </tr>\n",
       "    <tr>\n",
       "      <th>12671</th>\n",
       "      <td>transaction</td>\n",
       "      <td>fe97aa22dd3e48c8b143116a8403dd52</td>\n",
       "      <td>0</td>\n",
       "      <td>{'amount': 18.97}</td>\n",
       "    </tr>\n",
       "  </tbody>\n",
       "</table>\n",
       "</div>"
      ],
      "text/plain": [
       "             event                        profile_id  time  \\\n",
       "12654  transaction  02c083884c7d45b39cc68e1314fec56c     0   \n",
       "12657  transaction  9fa9ae8f57894cc9a3b8a9bbe0fc1b2f     0   \n",
       "12659  transaction  54890f68699049c2a04d415abc25e717     0   \n",
       "12670  transaction  b2f1cd155b864803ad8334cdf13c4bd2     0   \n",
       "12671  transaction  fe97aa22dd3e48c8b143116a8403dd52     0   \n",
       "\n",
       "                                value  \n",
       "12654  {'amount': 0.8300000000000001}  \n",
       "12657               {'amount': 34.56}  \n",
       "12659               {'amount': 13.23}  \n",
       "12670               {'amount': 19.51}  \n",
       "12671               {'amount': 18.97}  "
      ]
     },
     "metadata": {},
     "output_type": "display_data"
    }
   ],
   "source": [
    "display(txn_df.head())"
   ]
  },
  {
   "cell_type": "markdown",
   "metadata": {},
   "source": [
    "The transactions are stored in a dictionary with `amount` as key. We will proceed to extract the transaction values by using a dictionary lookup."
   ]
  },
  {
   "cell_type": "code",
   "execution_count": 106,
   "metadata": {},
   "outputs": [],
   "source": [
    "txn_df['amount'] = txn_df['value'].apply(lambda x: x['amount'])"
   ]
  },
  {
   "cell_type": "code",
   "execution_count": 107,
   "metadata": {},
   "outputs": [],
   "source": [
    "# Rename the column to txn_time\n",
    "txn_df = txn_df.rename(columns={\n",
    "    'time' : 'txn_time', \n",
    "})\n",
    "\n",
    "# Drop irrelevant columns\n",
    "txn_df = txn_df.drop(['event', 'value'], axis=1)"
   ]
  },
  {
   "cell_type": "markdown",
   "metadata": {},
   "source": [
    "We will now take a look at the transaction data to inspect the possibility of anomalous/outlier data such as very large amount of transactions and/or negative transactions, etc."
   ]
  },
  {
   "cell_type": "code",
   "execution_count": 108,
   "metadata": {},
   "outputs": [
    {
     "data": {
      "image/png": "[encoded data removed]",
      "text/plain": [
       "<Figure size 432x288 with 1 Axes>"
      ]
     },
     "metadata": {},
     "output_type": "display_data"
    }
   ],
   "source": [
    "plt.figure()\n",
    "plt.title('Distribution of Transaction Value')\n",
    "sns.distplot(txn_df['amount'])\n",
    "plt.show()"
   ]
  },
  {
   "cell_type": "markdown",
   "metadata": {},
   "source": [
    "The distribution of transactions here clearly shows that there are outlier transactions with huge amounts. \n",
    "\n",
    "Considering that on average, a Starbucks order should be around $10 and below, we should consider to remove these points to avoid them from skewing the results.\n",
    "\n",
    "We will try to set an upper limit based on the 99th percentile of the transaction amount (so that we are not cutting too much data, and if the amount is still too large we will adjust accordingly)"
   ]
  },
  {
   "cell_type": "code",
   "execution_count": 109,
   "metadata": {},
   "outputs": [
    {
     "name": "stdout",
     "output_type": "stream",
     "text": [
      "40.02\n"
     ]
    },
    {
     "data": {
      "image/png": "[encoded data removed]",
      "text/plain": [
       "<Figure size 432x288 with 1 Axes>"
      ]
     },
     "metadata": {},
     "output_type": "display_data"
    }
   ],
   "source": [
    "upper_lim  = np.percentile(txn_df['amount'], 99)\n",
    "print(np.round(upper_lim, 2))\n",
    "\n",
    "txn_df = txn_df[txn_df['amount'] <= upper_lim]\n",
    "\n",
    "\n",
    "plt.figure()\n",
    "plt.title('Distribution of Transaction Value')\n",
    "sns.distplot(txn_df['amount'])\n",
    "plt.show()"
   ]
  },
  {
   "cell_type": "markdown",
   "metadata": {},
   "source": [
    "The 99th percentile value of the transaction value is 40.02. This still makes sense, and hence will be used to remove the outliers in our data.\n",
    "\n",
    "We will then proceed to merge `experiment_df` with `txn_df` to get the transactions in between the different time periods of an experiment. Possible pairings:\n",
    "\n",
    "1. Between `received_time` and `viewed_time`\n",
    "2. Between `viewed_time` and `completed_time`\n",
    "3. Between `received_time` and `completed_time`\n",
    "4. Between `received_time` and `expiry_time`\n",
    "5. Before time = 0 and `received_time`"
   ]
  },
  {
   "cell_type": "code",
   "execution_count": 110,
   "metadata": {},
   "outputs": [
    {
     "name": "stdout",
     "output_type": "stream",
     "text": [
      "632057\n"
     ]
    }
   ],
   "source": [
    "exp_txns_df = experiment_df[['profile_id', 'offer_id', 'received_time', 'viewed_time', 'completed_time', 'expiry_time']]\\\n",
    "    .merge(txn_df, on=['profile_id'])"
   ]
  },
  {
   "cell_type": "code",
   "execution_count": 111,
   "metadata": {},
   "outputs": [],
   "source": [
    "between_received_and_view = (exp_txns_df['txn_time'] >= exp_txns_df['received_time'])\\\n",
    "    &(exp_txns_df['txn_time'] <= exp_txns_df['viewed_time'])\n",
    "    \n",
    "between_view_and_complete = (exp_txns_df['txn_time'] >= exp_txns_df['viewed_time'])\\\n",
    "    &(exp_txns_df['txn_time'] <= exp_txns_df['completed_time'])\n",
    "\n",
    "between_received_and_complete = (exp_txns_df['txn_time'] >= exp_txns_df['received_time'])\\\n",
    "    &(exp_txns_df['txn_time'] <= exp_txns_df['completed_time'])\n",
    "\n",
    "between_received_and_expiry = (exp_txns_df['txn_time'] >= exp_txns_df['received_time'])\\\n",
    "    &(exp_txns_df['txn_time'] <= exp_txns_df['expiry_time'])\n",
    "\n",
    "before_received = (exp_txns_df['txn_time'] < exp_txns_df['received_time'])\n",
    "\n",
    "\n",
    "exp_txns_df['between_received_and_view_amount'] = np.where(between_received_and_view, exp_txns_df['amount'], 0)\n",
    "exp_txns_df['between_view_and_complete_amount'] = np.where(between_view_and_complete, exp_txns_df['amount'], 0)\n",
    "exp_txns_df['between_received_and_complete_amount'] = np.where(between_received_and_complete, exp_txns_df['amount'], 0)\n",
    "exp_txns_df['between_received_and_expiry_amount'] = np.where(between_received_and_expiry, exp_txns_df['amount'], 0)\n",
    "exp_txns_df['before_received_amount'] = np.where(before_received, exp_txns_df['amount'], 0)\n",
    "\n",
    "\n",
    "exp_txns_df['between_received_and_view_count'] = np.where(between_received_and_view, 1, 0)\n",
    "exp_txns_df['between_view_and_complete_count'] = np.where(between_view_and_complete, 1, 0)\n",
    "exp_txns_df['between_received_and_complete_count'] = np.where(between_received_and_complete, 1, 0)\n",
    "exp_txns_df['between_received_and_expiry_count'] = np.where(between_received_and_expiry, 1, 0)\n",
    "exp_txns_df['before_received_count'] = np.where(before_received, 1, 0)\n",
    "\n",
    "cols_to_be_summed = [i for i in exp_txns_df.columns if 'between' in i or 'before' in i]"
   ]
  },
  {
   "cell_type": "markdown",
   "metadata": {},
   "source": [
    "Sum the transactions in each offer-person pairing to get the amount of dollars transacted in the specified time periods."
   ]
  },
  {
   "cell_type": "code",
   "execution_count": 112,
   "metadata": {},
   "outputs": [],
   "source": [
    "exp_txns_df = exp_txns_df.groupby(['profile_id', 'offer_id', 'received_time'])[cols_to_be_summed]\\\n",
    "    .sum().reset_index()"
   ]
  },
  {
   "cell_type": "code",
   "execution_count": 113,
   "metadata": {},
   "outputs": [],
   "source": [
    "full_data_df = experiment_df.merge(exp_txns_df, on=['profile_id', 'offer_id', 'received_time'], how='left')\\\n",
    "    .merge(profile, on=['profile_id'])"
   ]
  },
  {
   "cell_type": "markdown",
   "metadata": {},
   "source": [
    "Fill the missing transactional with `0` to facilitate usage of machine learning models going forward."
   ]
  },
  {
   "cell_type": "code",
   "execution_count": 114,
   "metadata": {},
   "outputs": [],
   "source": [
    "for col in cols_to_be_summed:\n",
    "    full_data_df[col] = full_data_df[col].fillna(0)"
   ]
  },
  {
   "cell_type": "code",
   "execution_count": 250,
   "metadata": {},
   "outputs": [
    {
     "name": "stdout",
     "output_type": "stream",
     "text": [
      "['discount' 'bogo']\n"
     ]
    }
   ],
   "source": [
    "print(completed_df.merge(portfolio[['offer_id', 'offer_type']], on=['offer_id'])['offer_type']\\\n",
    "          .drop_duplicates().values)"
   ]
  },
  {
   "cell_type": "markdown",
   "metadata": {},
   "source": [
    "In the raw data, only `bogo` and `discount` have the completed events. \n",
    "\n",
    "In order for us to assess the effectiveness of `informational` offers, we will have to create a logic to assign a `completed` event. \n",
    "\n",
    "We will consider an `informational` offer to be completed if in between `received_time` and `expiry_time`, the user makes a transaction"
   ]
  },
  {
   "cell_type": "code",
   "execution_count": 115,
   "metadata": {},
   "outputs": [],
   "source": [
    "# Completion logic for informational offers\n",
    "informational_complete = (full_data_df['offer_type'] == 'informational') & (full_data_df['between_received_and_expiry_amount'] > 0)\n",
    "full_data_df['is_completed'] = np.where(informational_complete, 1, full_data_df['is_completed'])"
   ]
  },
  {
   "cell_type": "markdown",
   "metadata": {},
   "source": [
    "The purpose of this analysis is to identify the set of customers to which it is ideal to send offers to. \n",
    "\n",
    "The ideal case will be that someone views the offer, and subsequently completes it. Offers can be completed without having the user view it, and this is not ideal as these users would have transacted without an offer, and it will be a wasted marketing budget.\n",
    "\n",
    "We will proceed to define the target variable as `ideal_to_send`, will have the value of `1` if the offer is both viewed and completed, and `0` otherwise."
   ]
  },
  {
   "cell_type": "code",
   "execution_count": 116,
   "metadata": {},
   "outputs": [],
   "source": [
    "ideal_to_send = (full_data_df['is_viewed'] == 1) & (full_data_df['is_completed'] == 1)\n",
    "full_data_df['ideal_to_send'] = np.where(ideal_to_send, 1, 0)"
   ]
  },
  {
   "cell_type": "code",
   "execution_count": 117,
   "metadata": {},
   "outputs": [
    {
     "data": {
      "text/html": [
       "<div>\n",
       "<style scoped>\n",
       "    .dataframe tbody tr th:only-of-type {\n",
       "        vertical-align: middle;\n",
       "    }\n",
       "\n",
       "    .dataframe tbody tr th {\n",
       "        vertical-align: top;\n",
       "    }\n",
       "\n",
       "    .dataframe thead th {\n",
       "        text-align: right;\n",
       "    }\n",
       "</style>\n",
       "<table border=\"1\" class=\"dataframe\">\n",
       "  <thead>\n",
       "    <tr style=\"text-align: right;\">\n",
       "      <th></th>\n",
       "      <th>profile_id</th>\n",
       "      <th>received_time</th>\n",
       "      <th>offer_id</th>\n",
       "      <th>difficulty</th>\n",
       "      <th>duration</th>\n",
       "      <th>offer_type</th>\n",
       "      <th>reward</th>\n",
       "      <th>is_email</th>\n",
       "      <th>is_web</th>\n",
       "      <th>is_mobile</th>\n",
       "      <th>...</th>\n",
       "      <th>between_received_and_complete_count</th>\n",
       "      <th>between_received_and_expiry_count</th>\n",
       "      <th>before_received_count</th>\n",
       "      <th>age</th>\n",
       "      <th>income</th>\n",
       "      <th>F</th>\n",
       "      <th>M</th>\n",
       "      <th>O</th>\n",
       "      <th>tenure</th>\n",
       "      <th>ideal_to_send</th>\n",
       "    </tr>\n",
       "  </thead>\n",
       "  <tbody>\n",
       "    <tr>\n",
       "      <th>0</th>\n",
       "      <td>78afa995795e4d85b5d9ceeca43f5fef</td>\n",
       "      <td>0</td>\n",
       "      <td>9b98b8c7a33c4b65b9aebfe6a799e6d9</td>\n",
       "      <td>5</td>\n",
       "      <td>7</td>\n",
       "      <td>bogo</td>\n",
       "      <td>5</td>\n",
       "      <td>1</td>\n",
       "      <td>1</td>\n",
       "      <td>1</td>\n",
       "      <td>...</td>\n",
       "      <td>1.0</td>\n",
       "      <td>2.0</td>\n",
       "      <td>0.0</td>\n",
       "      <td>75.0</td>\n",
       "      <td>100000.0</td>\n",
       "      <td>1</td>\n",
       "      <td>0</td>\n",
       "      <td>0</td>\n",
       "      <td>602.0</td>\n",
       "      <td>1</td>\n",
       "    </tr>\n",
       "    <tr>\n",
       "      <th>1</th>\n",
       "      <td>78afa995795e4d85b5d9ceeca43f5fef</td>\n",
       "      <td>504</td>\n",
       "      <td>f19421c1d4aa40978ebb69ca19b0e20d</td>\n",
       "      <td>5</td>\n",
       "      <td>5</td>\n",
       "      <td>bogo</td>\n",
       "      <td>5</td>\n",
       "      <td>1</td>\n",
       "      <td>1</td>\n",
       "      <td>1</td>\n",
       "      <td>...</td>\n",
       "      <td>1.0</td>\n",
       "      <td>2.0</td>\n",
       "      <td>5.0</td>\n",
       "      <td>75.0</td>\n",
       "      <td>100000.0</td>\n",
       "      <td>1</td>\n",
       "      <td>0</td>\n",
       "      <td>0</td>\n",
       "      <td>602.0</td>\n",
       "      <td>1</td>\n",
       "    </tr>\n",
       "    <tr>\n",
       "      <th>2</th>\n",
       "      <td>78afa995795e4d85b5d9ceeca43f5fef</td>\n",
       "      <td>408</td>\n",
       "      <td>ae264e3637204a6fb9bb56bc8210ddfd</td>\n",
       "      <td>10</td>\n",
       "      <td>7</td>\n",
       "      <td>bogo</td>\n",
       "      <td>10</td>\n",
       "      <td>1</td>\n",
       "      <td>0</td>\n",
       "      <td>1</td>\n",
       "      <td>...</td>\n",
       "      <td>1.0</td>\n",
       "      <td>2.0</td>\n",
       "      <td>5.0</td>\n",
       "      <td>75.0</td>\n",
       "      <td>100000.0</td>\n",
       "      <td>1</td>\n",
       "      <td>0</td>\n",
       "      <td>0</td>\n",
       "      <td>602.0</td>\n",
       "      <td>1</td>\n",
       "    </tr>\n",
       "    <tr>\n",
       "      <th>3</th>\n",
       "      <td>78afa995795e4d85b5d9ceeca43f5fef</td>\n",
       "      <td>168</td>\n",
       "      <td>5a8bc65990b245e5a138643cd4eb9837</td>\n",
       "      <td>0</td>\n",
       "      <td>3</td>\n",
       "      <td>informational</td>\n",
       "      <td>0</td>\n",
       "      <td>1</td>\n",
       "      <td>0</td>\n",
       "      <td>1</td>\n",
       "      <td>...</td>\n",
       "      <td>0.0</td>\n",
       "      <td>2.0</td>\n",
       "      <td>2.0</td>\n",
       "      <td>75.0</td>\n",
       "      <td>100000.0</td>\n",
       "      <td>1</td>\n",
       "      <td>0</td>\n",
       "      <td>0</td>\n",
       "      <td>602.0</td>\n",
       "      <td>1</td>\n",
       "    </tr>\n",
       "    <tr>\n",
       "      <th>4</th>\n",
       "      <td>ebe7ef46ea6f4963a7dd49f501b26779</td>\n",
       "      <td>0</td>\n",
       "      <td>9b98b8c7a33c4b65b9aebfe6a799e6d9</td>\n",
       "      <td>5</td>\n",
       "      <td>7</td>\n",
       "      <td>bogo</td>\n",
       "      <td>5</td>\n",
       "      <td>1</td>\n",
       "      <td>1</td>\n",
       "      <td>1</td>\n",
       "      <td>...</td>\n",
       "      <td>0.0</td>\n",
       "      <td>1.0</td>\n",
       "      <td>0.0</td>\n",
       "      <td>59.0</td>\n",
       "      <td>41000.0</td>\n",
       "      <td>0</td>\n",
       "      <td>1</td>\n",
       "      <td>0</td>\n",
       "      <td>1441.0</td>\n",
       "      <td>0</td>\n",
       "    </tr>\n",
       "  </tbody>\n",
       "</table>\n",
       "<p>5 rows × 33 columns</p>\n",
       "</div>"
      ],
      "text/plain": [
       "                         profile_id  received_time  \\\n",
       "0  78afa995795e4d85b5d9ceeca43f5fef              0   \n",
       "1  78afa995795e4d85b5d9ceeca43f5fef            504   \n",
       "2  78afa995795e4d85b5d9ceeca43f5fef            408   \n",
       "3  78afa995795e4d85b5d9ceeca43f5fef            168   \n",
       "4  ebe7ef46ea6f4963a7dd49f501b26779              0   \n",
       "\n",
       "                           offer_id  difficulty  duration     offer_type  \\\n",
       "0  9b98b8c7a33c4b65b9aebfe6a799e6d9           5         7           bogo   \n",
       "1  f19421c1d4aa40978ebb69ca19b0e20d           5         5           bogo   \n",
       "2  ae264e3637204a6fb9bb56bc8210ddfd          10         7           bogo   \n",
       "3  5a8bc65990b245e5a138643cd4eb9837           0         3  informational   \n",
       "4  9b98b8c7a33c4b65b9aebfe6a799e6d9           5         7           bogo   \n",
       "\n",
       "   reward  is_email  is_web  is_mobile  ...  \\\n",
       "0       5         1       1          1  ...   \n",
       "1       5         1       1          1  ...   \n",
       "2      10         1       0          1  ...   \n",
       "3       0         1       0          1  ...   \n",
       "4       5         1       1          1  ...   \n",
       "\n",
       "   between_received_and_complete_count  between_received_and_expiry_count  \\\n",
       "0                                  1.0                                2.0   \n",
       "1                                  1.0                                2.0   \n",
       "2                                  1.0                                2.0   \n",
       "3                                  0.0                                2.0   \n",
       "4                                  0.0                                1.0   \n",
       "\n",
       "   before_received_count   age    income  F  M  O  tenure  ideal_to_send  \n",
       "0                    0.0  75.0  100000.0  1  0  0   602.0              1  \n",
       "1                    5.0  75.0  100000.0  1  0  0   602.0              1  \n",
       "2                    5.0  75.0  100000.0  1  0  0   602.0              1  \n",
       "3                    2.0  75.0  100000.0  1  0  0   602.0              1  \n",
       "4                    0.0  59.0   41000.0  0  1  0  1441.0              0  \n",
       "\n",
       "[5 rows x 33 columns]"
      ]
     },
     "execution_count": 117,
     "metadata": {},
     "output_type": "execute_result"
    }
   ],
   "source": [
    "full_data_df.head()"
   ]
  },
  {
   "cell_type": "markdown",
   "metadata": {},
   "source": [
    "# 2. Creating A Baseline Model Based on Demographics\n",
    "\n",
    "We will first try to build a simple model that utilizes only the demographics of the users: \n",
    "\n",
    "1. Income\n",
    "2. Age\n",
    "3. Tenure \n",
    "\n",
    "We will divide the users into different groups based on these features, and subsequently use the percentage of people that are `ideal_to_send` in the group for each offer as the probability that the group is the ideal target for that particular offer."
   ]
  },
  {
   "cell_type": "code",
   "execution_count": 118,
   "metadata": {},
   "outputs": [
    {
     "data": {
      "image/png": "[encoded data removed]",
      "text/plain": [
       "<Figure size 432x288 with 1 Axes>"
      ]
     },
     "metadata": {},
     "output_type": "display_data"
    },
    {
     "data": {
      "image/png": "[encoded data removed]",
      "text/plain": [
       "<Figure size 432x288 with 1 Axes>"
      ]
     },
     "metadata": {},
     "output_type": "display_data"
    },
    {
     "data": {
      "image/png": "[encoded data removed]",
      "text/plain": [
       "<Figure size 432x288 with 1 Axes>"
      ]
     },
     "metadata": {},
     "output_type": "display_data"
    }
   ],
   "source": [
    "plt.figure()\n",
    "plt.title('Distribution of Income')\n",
    "sns.boxplot(profile['income'])\n",
    "plt.show()\n",
    "\n",
    "plt.figure()\n",
    "plt.title('Distribution of Age')\n",
    "sns.boxplot(profile['age'])\n",
    "plt.show()\n",
    "\n",
    "plt.figure()\n",
    "plt.title('Distribution of Tenure')\n",
    "sns.boxplot(profile['tenure'])\n",
    "plt.show()"
   ]
  },
  {
   "cell_type": "code",
   "execution_count": 276,
   "metadata": {},
   "outputs": [],
   "source": [
    "# Assign Income Group\n",
    "profile['income_group'] = np.round(profile['income'] / 30000) * 30000\n",
    "# Assign Age Group\n",
    "profile['age_group'] = np.round(profile['age'] / 20) * 20\n",
    "# Assign Tenure Group \n",
    "profile['tenure_group'] = np.round(profile['tenure'] / 365)"
   ]
  },
  {
   "cell_type": "markdown",
   "metadata": {},
   "source": [
    "1. Income will be divided into 4 groups of 30,000 increment each\n",
    "2. Age will be divided into 5 groups of 20 years increment each\n",
    "3. Tenure wil be grouped into how many years has the user been with Starbucks"
   ]
  },
  {
   "cell_type": "code",
   "execution_count": 120,
   "metadata": {},
   "outputs": [],
   "source": [
    "# Merge with the profile dataframe to get the groups  \n",
    "full_data_df = full_data_df.merge(profile[['profile_id', 'income_group', 'age_group', 'tenure_group']], on=['profile_id'])"
   ]
  },
  {
   "cell_type": "markdown",
   "metadata": {},
   "source": [
    "Split the data into training and testing test."
   ]
  },
  {
   "cell_type": "code",
   "execution_count": 121,
   "metadata": {},
   "outputs": [],
   "source": [
    "train_df = full_data_df.sample(int(0.8 * len(full_data_df)), random_state=100)\n",
    "test_df = full_data_df[~full_data_df.index.isin(train_df.index)]"
   ]
  },
  {
   "cell_type": "markdown",
   "metadata": {},
   "source": [
    "The proportion of "
   ]
  },
  {
   "cell_type": "code",
   "execution_count": 278,
   "metadata": {},
   "outputs": [],
   "source": [
    "completion_df = train_df.groupby(['income_group', 'age_group', 'M', 'F','offer_id']).agg({\n",
    "    'ideal_to_send' : 'mean'\n",
    "}).reset_index().rename(columns={\n",
    "    'ideal_to_send' : 'view_and_complete_probability'\n",
    "})"
   ]
  },
  {
   "cell_type": "code",
   "execution_count": 287,
   "metadata": {},
   "outputs": [],
   "source": [
    "baseline_test_df = test_df.merge(completion_df, on=['income_group', 'age_group', 'M','F', 'offer_id'])"
   ]
  },
  {
   "cell_type": "code",
   "execution_count": 288,
   "metadata": {},
   "outputs": [],
   "source": [
    "baseline_precision, baseline_recall, baseline_thresholds = precision_recall_curve(baseline_test_df['ideal_to_send'], baseline_test_df['view_and_complete_probability'])"
   ]
  },
  {
   "cell_type": "code",
   "execution_count": 289,
   "metadata": {},
   "outputs": [],
   "source": [
    "baseline_f1 = 2 * (baseline_precision * baseline_recall) / (baseline_precision + baseline_recall)"
   ]
  },
  {
   "cell_type": "code",
   "execution_count": 290,
   "metadata": {},
   "outputs": [
    {
     "data": {
      "image/png": "[encoded data removed]",
      "text/plain": [
       "<Figure size 432x288 with 1 Axes>"
      ]
     },
     "metadata": {},
     "output_type": "display_data"
    }
   ],
   "source": [
    "plt.figure()\n",
    "plt.title('Precision Recall Curve For Simple Demographic Model')\n",
    "sns.lineplot(baseline_recall, baseline_precision, label='Precision')\n",
    "sns.lineplot(baseline_recall[:len(baseline_thresholds)], baseline_thresholds, label='Threshold')\n",
    "plt.ylabel('Precision/Threshold')\n",
    "plt.xlabel('Recall')\n",
    "plt.legend()\n",
    "plt.show()"
   ]
  },
  {
   "cell_type": "code",
   "execution_count": 291,
   "metadata": {},
   "outputs": [],
   "source": [
    "best_f1_baseline_threshold = baseline_thresholds[np.argsort(-baseline_f1)[0]]"
   ]
  },
  {
   "cell_type": "code",
   "execution_count": 292,
   "metadata": {},
   "outputs": [],
   "source": [
    "completion_df['send_offer'] = np.where(completion_df['view_and_complete_probability'] >= best_f1_baseline_threshold, 1, 0)\n",
    "baseline_test_df['prediction'] = np.where(baseline_test_df['view_and_complete_probability'] >= best_f1_baseline_threshold, 1, 0)\n",
    "roc_baseline = np.where(baseline_test_df['view_and_complete_probability'] >= best_f1_baseline_threshold, 1, 0)"
   ]
  },
  {
   "cell_type": "code",
   "execution_count": 293,
   "metadata": {},
   "outputs": [],
   "source": [
    "baseline_y_preds = baseline_test_df['prediction'].values\n",
    "baseline_y_test = baseline_test_df['ideal_to_send'].values"
   ]
  },
  {
   "cell_type": "code",
   "execution_count": 294,
   "metadata": {},
   "outputs": [
    {
     "name": "stdout",
     "output_type": "stream",
     "text": [
      "Accuracy Score on Test Set:  0.61\n",
      "Precision Score on Test Set:  0.57\n",
      "Recall Score on Test Set:  0.89\n",
      "F1 Score on Test Set 0.69\n"
     ]
    }
   ],
   "source": [
    "print('Accuracy Score on Test Set: ', np.round(accuracy_score(baseline_y_test, baseline_y_preds),2))\n",
    "print('Precision Score on Test Set: ', np.round(precision_score(baseline_y_test, baseline_y_preds),2))\n",
    "print('Recall Score on Test Set: ', np.round(recall_score(baseline_y_test, baseline_y_preds),2))\n",
    "print('F1 Score on Test Set', np.round(f1_score(baseline_y_test, baseline_y_preds),2))"
   ]
  },
  {
   "cell_type": "markdown",
   "metadata": {},
   "source": [
    "# Creating A Better Model\n",
    "\n",
    "Once the user has stayed longer in the platform, and performed more transactions, we can use a better model to predict whether he/she will view and complete a particular offer. \n",
    "\n",
    "Additional features that will be used: \n",
    "\n",
    "1. Tenure\n",
    "2. Amount Spent Before Receiving Offer -> Normalized to a time length for every user, in this case, the time considered is from the start of experiment (time=0) until the `received_time` of each offer"
   ]
  },
  {
   "cell_type": "code",
   "execution_count": 252,
   "metadata": {},
   "outputs": [],
   "source": [
    "features = ['age', 'income', 'tenure', 'M', 'F',\n",
    "            'before_received_amount', 'reward', \n",
    "            'duration', 'difficulty', 'is_web',\n",
    "           'is_mobile', 'is_social']\n",
    "\n",
    "target_var = ['ideal_to_send']"
   ]
  },
  {
   "cell_type": "code",
   "execution_count": 253,
   "metadata": {},
   "outputs": [],
   "source": [
    "X_train = train_df[features].fillna(0)\n",
    "X_test = test_df[features].fillna(0)\n",
    "\n",
    "y_train = train_df[target_var]\n",
    "y_test = test_df[target_var]"
   ]
  },
  {
   "cell_type": "code",
   "execution_count": 254,
   "metadata": {},
   "outputs": [],
   "source": [
    "param_grid = {\n",
    "    'criterion' : ['gini', 'entropy'],\n",
    "    'max_depth' : [3, 5, 10, None],\n",
    "    'min_samples_split' : [10, 50 , 100],\n",
    "    'min_samples_leaf' : [10, 50, 100],\n",
    "    'class_weight' : [{1:i/10, 0:1-i/10} for i in range(0, 12, 2)]\n",
    "    \n",
    "}"
   ]
  },
  {
   "cell_type": "code",
   "execution_count": 255,
   "metadata": {},
   "outputs": [],
   "source": [
    "model = GridSearchCV(estimator=DecisionTreeClassifier(random_state=42), \n",
    "                              param_grid=param_grid, cv=3, scoring='f1')\n",
    "\n",
    "model.fit(X_train, y_train);"
   ]
  },
  {
   "cell_type": "code",
   "execution_count": 256,
   "metadata": {},
   "outputs": [],
   "source": [
    "y_scores = model.predict_proba(X_test)[:, 1:]"
   ]
  },
  {
   "cell_type": "code",
   "execution_count": 257,
   "metadata": {},
   "outputs": [],
   "source": [
    "roc = model.predict(X_test)"
   ]
  },
  {
   "cell_type": "code",
   "execution_count": 258,
   "metadata": {},
   "outputs": [],
   "source": [
    "precision, recall, thresholds = precision_recall_curve(y_test, y_scores)"
   ]
  },
  {
   "cell_type": "code",
   "execution_count": 259,
   "metadata": {},
   "outputs": [],
   "source": [
    "f1 = 2 * (precision * recall) / (precision + recall)"
   ]
  },
  {
   "cell_type": "code",
   "execution_count": 260,
   "metadata": {},
   "outputs": [],
   "source": [
    "best_f1_threshold = thresholds[np.argsort(-f1)[0]]"
   ]
  },
  {
   "cell_type": "code",
   "execution_count": 261,
   "metadata": {},
   "outputs": [],
   "source": [
    "y_preds = np.where(y_scores >= best_f1_threshold, 1, 0)"
   ]
  },
  {
   "cell_type": "code",
   "execution_count": 262,
   "metadata": {},
   "outputs": [
    {
     "name": "stdout",
     "output_type": "stream",
     "text": [
      "Accuracy Score on Test Set:  0.69\n",
      "Precision Score on Test Set:  0.65\n",
      "Recall Score on Test Set:  0.83\n",
      "F1 Score on Test Set 0.73\n"
     ]
    }
   ],
   "source": [
    "print('Accuracy Score on Test Set: ', np.round(accuracy_score(y_test, y_preds), 2))\n",
    "print('Precision Score on Test Set: ', np.round(precision_score(y_test, y_preds), 2))\n",
    "print('Recall Score on Test Set: ', np.round(recall_score(y_test, y_preds), 2))\n",
    "print('F1 Score on Test Set', np.round(f1_score(y_test, y_preds), 2))"
   ]
  },
  {
   "cell_type": "markdown",
   "metadata": {},
   "source": [
    "# Uplift from Baseline Model"
   ]
  },
  {
   "cell_type": "code",
   "execution_count": 269,
   "metadata": {},
   "outputs": [
    {
     "data": {
      "image/png": "[encoded data removed]",
      "text/plain": [
       "<Figure size 432x288 with 1 Axes>"
      ]
     },
     "metadata": {},
     "output_type": "display_data"
    }
   ],
   "source": [
    "plt.figure()\n",
    "plt.title('Uplift in Test Precision/Recall')\n",
    "sns.lineplot(baseline_recall, baseline_precision, label='Baseline')\n",
    "sns.lineplot(recall, precision, label='DecisionTree')\n",
    "plt.ylabel('Precision')\n",
    "plt.xlabel('Recall')\n",
    "plt.legend()\n",
    "plt.show()"
   ]
  },
  {
   "cell_type": "markdown",
   "metadata": {},
   "source": [
    "# Understanding Who Should be Targeted For Each Offer"
   ]
  },
  {
   "cell_type": "code",
   "execution_count": 270,
   "metadata": {},
   "outputs": [],
   "source": [
    "offer_demographic_df = test_df.groupby(['offer_type', 'income_group', 'age_group', 'tenure_group','M']).agg({\n",
    "    'received_time' : 'count',\n",
    "    'is_viewed' : 'mean',\n",
    "    'is_completed' : 'mean',\n",
    "    'ideal_to_send' : 'mean'\n",
    "}).reset_index()\n",
    "\n",
    "\n",
    "offer_demographic_df = offer_demographic_df[offer_demographic_df['received_time'] > 20]"
   ]
  },
  {
   "cell_type": "code",
   "execution_count": 271,
   "metadata": {},
   "outputs": [
    {
     "data": {
      "text/html": [
       "<div>\n",
       "<style scoped>\n",
       "    .dataframe tbody tr th:only-of-type {\n",
       "        vertical-align: middle;\n",
       "    }\n",
       "\n",
       "    .dataframe tbody tr th {\n",
       "        vertical-align: top;\n",
       "    }\n",
       "\n",
       "    .dataframe thead th {\n",
       "        text-align: right;\n",
       "    }\n",
       "</style>\n",
       "<table border=\"1\" class=\"dataframe\">\n",
       "  <thead>\n",
       "    <tr style=\"text-align: right;\">\n",
       "      <th></th>\n",
       "      <th>offer_type</th>\n",
       "      <th>income_group</th>\n",
       "      <th>age_group</th>\n",
       "      <th>tenure_group</th>\n",
       "      <th>M</th>\n",
       "      <th>received_time</th>\n",
       "      <th>is_viewed</th>\n",
       "      <th>is_completed</th>\n",
       "      <th>ideal_to_send</th>\n",
       "    </tr>\n",
       "  </thead>\n",
       "  <tbody>\n",
       "    <tr>\n",
       "      <th>116</th>\n",
       "      <td>bogo</td>\n",
       "      <td>90000.0</td>\n",
       "      <td>40.0</td>\n",
       "      <td>3.0</td>\n",
       "      <td>0</td>\n",
       "      <td>37</td>\n",
       "      <td>0.972973</td>\n",
       "      <td>0.972973</td>\n",
       "      <td>0.945946</td>\n",
       "    </tr>\n",
       "    <tr>\n",
       "      <th>114</th>\n",
       "      <td>bogo</td>\n",
       "      <td>90000.0</td>\n",
       "      <td>40.0</td>\n",
       "      <td>2.0</td>\n",
       "      <td>0</td>\n",
       "      <td>29</td>\n",
       "      <td>0.931034</td>\n",
       "      <td>0.931034</td>\n",
       "      <td>0.862069</td>\n",
       "    </tr>\n",
       "    <tr>\n",
       "      <th>69</th>\n",
       "      <td>bogo</td>\n",
       "      <td>60000.0</td>\n",
       "      <td>40.0</td>\n",
       "      <td>2.0</td>\n",
       "      <td>0</td>\n",
       "      <td>58</td>\n",
       "      <td>0.931034</td>\n",
       "      <td>0.896552</td>\n",
       "      <td>0.844828</td>\n",
       "    </tr>\n",
       "    <tr>\n",
       "      <th>286</th>\n",
       "      <td>discount</td>\n",
       "      <td>90000.0</td>\n",
       "      <td>40.0</td>\n",
       "      <td>2.0</td>\n",
       "      <td>0</td>\n",
       "      <td>28</td>\n",
       "      <td>0.928571</td>\n",
       "      <td>0.928571</td>\n",
       "      <td>0.857143</td>\n",
       "    </tr>\n",
       "    <tr>\n",
       "      <th>244</th>\n",
       "      <td>discount</td>\n",
       "      <td>60000.0</td>\n",
       "      <td>40.0</td>\n",
       "      <td>3.0</td>\n",
       "      <td>0</td>\n",
       "      <td>62</td>\n",
       "      <td>0.854839</td>\n",
       "      <td>0.919355</td>\n",
       "      <td>0.822581</td>\n",
       "    </tr>\n",
       "    <tr>\n",
       "      <th>287</th>\n",
       "      <td>discount</td>\n",
       "      <td>90000.0</td>\n",
       "      <td>40.0</td>\n",
       "      <td>2.0</td>\n",
       "      <td>1</td>\n",
       "      <td>28</td>\n",
       "      <td>0.892857</td>\n",
       "      <td>0.928571</td>\n",
       "      <td>0.821429</td>\n",
       "    </tr>\n",
       "    <tr>\n",
       "      <th>437</th>\n",
       "      <td>informational</td>\n",
       "      <td>60000.0</td>\n",
       "      <td>80.0</td>\n",
       "      <td>2.0</td>\n",
       "      <td>1</td>\n",
       "      <td>23</td>\n",
       "      <td>0.869565</td>\n",
       "      <td>0.913043</td>\n",
       "      <td>0.782609</td>\n",
       "    </tr>\n",
       "    <tr>\n",
       "      <th>425</th>\n",
       "      <td>informational</td>\n",
       "      <td>60000.0</td>\n",
       "      <td>60.0</td>\n",
       "      <td>2.0</td>\n",
       "      <td>1</td>\n",
       "      <td>55</td>\n",
       "      <td>0.836364</td>\n",
       "      <td>0.836364</td>\n",
       "      <td>0.727273</td>\n",
       "    </tr>\n",
       "    <tr>\n",
       "      <th>429</th>\n",
       "      <td>informational</td>\n",
       "      <td>60000.0</td>\n",
       "      <td>60.0</td>\n",
       "      <td>4.0</td>\n",
       "      <td>1</td>\n",
       "      <td>27</td>\n",
       "      <td>0.777778</td>\n",
       "      <td>0.851852</td>\n",
       "      <td>0.703704</td>\n",
       "    </tr>\n",
       "  </tbody>\n",
       "</table>\n",
       "</div>"
      ],
      "text/plain": [
       "        offer_type  income_group  age_group  tenure_group  M  received_time  \\\n",
       "116           bogo       90000.0       40.0           3.0  0             37   \n",
       "114           bogo       90000.0       40.0           2.0  0             29   \n",
       "69            bogo       60000.0       40.0           2.0  0             58   \n",
       "286       discount       90000.0       40.0           2.0  0             28   \n",
       "244       discount       60000.0       40.0           3.0  0             62   \n",
       "287       discount       90000.0       40.0           2.0  1             28   \n",
       "437  informational       60000.0       80.0           2.0  1             23   \n",
       "425  informational       60000.0       60.0           2.0  1             55   \n",
       "429  informational       60000.0       60.0           4.0  1             27   \n",
       "\n",
       "     is_viewed  is_completed  ideal_to_send  \n",
       "116   0.972973      0.972973       0.945946  \n",
       "114   0.931034      0.931034       0.862069  \n",
       "69    0.931034      0.896552       0.844828  \n",
       "286   0.928571      0.928571       0.857143  \n",
       "244   0.854839      0.919355       0.822581  \n",
       "287   0.892857      0.928571       0.821429  \n",
       "437   0.869565      0.913043       0.782609  \n",
       "425   0.836364      0.836364       0.727273  \n",
       "429   0.777778      0.851852       0.703704  "
      ]
     },
     "metadata": {},
     "output_type": "display_data"
    }
   ],
   "source": [
    "display(offer_demographic_df.sort_values(by=['offer_type','ideal_to_send'], ascending=[True, False])\\\n",
    "    .groupby(['offer_type']).head(3))"
   ]
  },
  {
   "cell_type": "code",
   "execution_count": 272,
   "metadata": {},
   "outputs": [
    {
     "data": {
      "text/html": [
       "<div>\n",
       "<style scoped>\n",
       "    .dataframe tbody tr th:only-of-type {\n",
       "        vertical-align: middle;\n",
       "    }\n",
       "\n",
       "    .dataframe tbody tr th {\n",
       "        vertical-align: top;\n",
       "    }\n",
       "\n",
       "    .dataframe thead th {\n",
       "        text-align: right;\n",
       "    }\n",
       "</style>\n",
       "<table border=\"1\" class=\"dataframe\">\n",
       "  <thead>\n",
       "    <tr style=\"text-align: right;\">\n",
       "      <th></th>\n",
       "      <th>offer_type</th>\n",
       "      <th>income_group</th>\n",
       "      <th>age_group</th>\n",
       "      <th>tenure_group</th>\n",
       "      <th>M</th>\n",
       "      <th>received_time</th>\n",
       "      <th>is_viewed</th>\n",
       "      <th>is_completed</th>\n",
       "      <th>ideal_to_send</th>\n",
       "    </tr>\n",
       "  </thead>\n",
       "  <tbody>\n",
       "    <tr>\n",
       "      <th>38</th>\n",
       "      <td>bogo</td>\n",
       "      <td>30000.0</td>\n",
       "      <td>80.0</td>\n",
       "      <td>1.0</td>\n",
       "      <td>1</td>\n",
       "      <td>45</td>\n",
       "      <td>0.800000</td>\n",
       "      <td>0.200000</td>\n",
       "      <td>0.111111</td>\n",
       "    </tr>\n",
       "    <tr>\n",
       "      <th>3</th>\n",
       "      <td>bogo</td>\n",
       "      <td>30000.0</td>\n",
       "      <td>20.0</td>\n",
       "      <td>1.0</td>\n",
       "      <td>1</td>\n",
       "      <td>74</td>\n",
       "      <td>0.797297</td>\n",
       "      <td>0.243243</td>\n",
       "      <td>0.189189</td>\n",
       "    </tr>\n",
       "    <tr>\n",
       "      <th>27</th>\n",
       "      <td>bogo</td>\n",
       "      <td>30000.0</td>\n",
       "      <td>60.0</td>\n",
       "      <td>1.0</td>\n",
       "      <td>1</td>\n",
       "      <td>145</td>\n",
       "      <td>0.765517</td>\n",
       "      <td>0.234483</td>\n",
       "      <td>0.193103</td>\n",
       "    </tr>\n",
       "    <tr>\n",
       "      <th>214</th>\n",
       "      <td>discount</td>\n",
       "      <td>30000.0</td>\n",
       "      <td>80.0</td>\n",
       "      <td>1.0</td>\n",
       "      <td>1</td>\n",
       "      <td>48</td>\n",
       "      <td>0.645833</td>\n",
       "      <td>0.208333</td>\n",
       "      <td>0.187500</td>\n",
       "    </tr>\n",
       "    <tr>\n",
       "      <th>229</th>\n",
       "      <td>discount</td>\n",
       "      <td>60000.0</td>\n",
       "      <td>20.0</td>\n",
       "      <td>1.0</td>\n",
       "      <td>1</td>\n",
       "      <td>135</td>\n",
       "      <td>0.644444</td>\n",
       "      <td>0.355556</td>\n",
       "      <td>0.281481</td>\n",
       "    </tr>\n",
       "    <tr>\n",
       "      <th>191</th>\n",
       "      <td>discount</td>\n",
       "      <td>30000.0</td>\n",
       "      <td>40.0</td>\n",
       "      <td>1.0</td>\n",
       "      <td>1</td>\n",
       "      <td>149</td>\n",
       "      <td>0.536913</td>\n",
       "      <td>0.355705</td>\n",
       "      <td>0.281879</td>\n",
       "    </tr>\n",
       "    <tr>\n",
       "      <th>467</th>\n",
       "      <td>informational</td>\n",
       "      <td>90000.0</td>\n",
       "      <td>60.0</td>\n",
       "      <td>1.0</td>\n",
       "      <td>0</td>\n",
       "      <td>90</td>\n",
       "      <td>0.644444</td>\n",
       "      <td>0.377778</td>\n",
       "      <td>0.222222</td>\n",
       "    </tr>\n",
       "    <tr>\n",
       "      <th>499</th>\n",
       "      <td>informational</td>\n",
       "      <td>120000.0</td>\n",
       "      <td>60.0</td>\n",
       "      <td>1.0</td>\n",
       "      <td>0</td>\n",
       "      <td>27</td>\n",
       "      <td>0.592593</td>\n",
       "      <td>0.444444</td>\n",
       "      <td>0.222222</td>\n",
       "    </tr>\n",
       "    <tr>\n",
       "      <th>480</th>\n",
       "      <td>informational</td>\n",
       "      <td>90000.0</td>\n",
       "      <td>80.0</td>\n",
       "      <td>1.0</td>\n",
       "      <td>1</td>\n",
       "      <td>29</td>\n",
       "      <td>0.689655</td>\n",
       "      <td>0.413793</td>\n",
       "      <td>0.275862</td>\n",
       "    </tr>\n",
       "  </tbody>\n",
       "</table>\n",
       "</div>"
      ],
      "text/plain": [
       "        offer_type  income_group  age_group  tenure_group  M  received_time  \\\n",
       "38            bogo       30000.0       80.0           1.0  1             45   \n",
       "3             bogo       30000.0       20.0           1.0  1             74   \n",
       "27            bogo       30000.0       60.0           1.0  1            145   \n",
       "214       discount       30000.0       80.0           1.0  1             48   \n",
       "229       discount       60000.0       20.0           1.0  1            135   \n",
       "191       discount       30000.0       40.0           1.0  1            149   \n",
       "467  informational       90000.0       60.0           1.0  0             90   \n",
       "499  informational      120000.0       60.0           1.0  0             27   \n",
       "480  informational       90000.0       80.0           1.0  1             29   \n",
       "\n",
       "     is_viewed  is_completed  ideal_to_send  \n",
       "38    0.800000      0.200000       0.111111  \n",
       "3     0.797297      0.243243       0.189189  \n",
       "27    0.765517      0.234483       0.193103  \n",
       "214   0.645833      0.208333       0.187500  \n",
       "229   0.644444      0.355556       0.281481  \n",
       "191   0.536913      0.355705       0.281879  \n",
       "467   0.644444      0.377778       0.222222  \n",
       "499   0.592593      0.444444       0.222222  \n",
       "480   0.689655      0.413793       0.275862  "
      ]
     },
     "metadata": {},
     "output_type": "display_data"
    }
   ],
   "source": [
    "display(offer_demographic_df.sort_values(by=['offer_type','ideal_to_send'], ascending=[True, True])\\\n",
    "    .groupby(['offer_type']).head(3))"
   ]
  },
  {
   "cell_type": "code",
   "execution_count": 273,
   "metadata": {},
   "outputs": [],
   "source": [
    "test_df['completed_not_viewed'] = np.where((test_df['is_viewed'] == 0) & (test_df['is_completed'] == 1), 1, 0)\n",
    "\n",
    "completed_not_viewed = test_df.groupby(['income_group', 'age_group', 'tenure_group','M']).agg({\n",
    "    'received_time' : 'count',\n",
    "    'completed_not_viewed' : 'mean'\n",
    "}).reset_index()"
   ]
  },
  {
   "cell_type": "code",
   "execution_count": 274,
   "metadata": {},
   "outputs": [
    {
     "data": {
      "text/html": [
       "<div>\n",
       "<style scoped>\n",
       "    .dataframe tbody tr th:only-of-type {\n",
       "        vertical-align: middle;\n",
       "    }\n",
       "\n",
       "    .dataframe tbody tr th {\n",
       "        vertical-align: top;\n",
       "    }\n",
       "\n",
       "    .dataframe thead th {\n",
       "        text-align: right;\n",
       "    }\n",
       "</style>\n",
       "<table border=\"1\" class=\"dataframe\">\n",
       "  <thead>\n",
       "    <tr style=\"text-align: right;\">\n",
       "      <th></th>\n",
       "      <th>income_group</th>\n",
       "      <th>age_group</th>\n",
       "      <th>tenure_group</th>\n",
       "      <th>M</th>\n",
       "      <th>received_time</th>\n",
       "      <th>completed_not_viewed</th>\n",
       "    </tr>\n",
       "  </thead>\n",
       "  <tbody>\n",
       "    <tr>\n",
       "      <th>170</th>\n",
       "      <td>120000.0</td>\n",
       "      <td>60.0</td>\n",
       "      <td>3.0</td>\n",
       "      <td>1</td>\n",
       "      <td>52</td>\n",
       "      <td>0.365385</td>\n",
       "    </tr>\n",
       "    <tr>\n",
       "      <th>176</th>\n",
       "      <td>120000.0</td>\n",
       "      <td>80.0</td>\n",
       "      <td>3.0</td>\n",
       "      <td>0</td>\n",
       "      <td>32</td>\n",
       "      <td>0.343750</td>\n",
       "    </tr>\n",
       "    <tr>\n",
       "      <th>39</th>\n",
       "      <td>30000.0</td>\n",
       "      <td>80.0</td>\n",
       "      <td>2.0</td>\n",
       "      <td>0</td>\n",
       "      <td>37</td>\n",
       "      <td>0.324324</td>\n",
       "    </tr>\n",
       "    <tr>\n",
       "      <th>41</th>\n",
       "      <td>30000.0</td>\n",
       "      <td>80.0</td>\n",
       "      <td>3.0</td>\n",
       "      <td>0</td>\n",
       "      <td>22</td>\n",
       "      <td>0.318182</td>\n",
       "    </tr>\n",
       "    <tr>\n",
       "      <th>40</th>\n",
       "      <td>30000.0</td>\n",
       "      <td>80.0</td>\n",
       "      <td>2.0</td>\n",
       "      <td>1</td>\n",
       "      <td>21</td>\n",
       "      <td>0.285714</td>\n",
       "    </tr>\n",
       "  </tbody>\n",
       "</table>\n",
       "</div>"
      ],
      "text/plain": [
       "     income_group  age_group  tenure_group  M  received_time  \\\n",
       "170      120000.0       60.0           3.0  1             52   \n",
       "176      120000.0       80.0           3.0  0             32   \n",
       "39        30000.0       80.0           2.0  0             37   \n",
       "41        30000.0       80.0           3.0  0             22   \n",
       "40        30000.0       80.0           2.0  1             21   \n",
       "\n",
       "     completed_not_viewed  \n",
       "170              0.365385  \n",
       "176              0.343750  \n",
       "39               0.324324  \n",
       "41               0.318182  \n",
       "40               0.285714  "
      ]
     },
     "execution_count": 274,
     "metadata": {},
     "output_type": "execute_result"
    }
   ],
   "source": [
    "completed_not_viewed = completed_not_viewed[completed_not_viewed['received_time'] > 20]\n",
    "\n",
    "completed_not_viewed.sort_values(by='completed_not_viewed', ascending=False).head(5)"
   ]
  }
 ],
 "metadata": {
  "kernelspec": {
   "display_name": "Python 3",
   "language": "python",
   "name": "python3"
  },
  "language_info": {
   "codemirror_mode": {
    "name": "ipython",
    "version": 3
   },
   "file_extension": ".py",
   "mimetype": "text/x-python",
   "name": "python",
   "nbconvert_exporter": "python",
   "pygments_lexer": "ipython3",
   "version": "3.6.5"
  }
 },
 "nbformat": 4,
 "nbformat_minor": 2
}
